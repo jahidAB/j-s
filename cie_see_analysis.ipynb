{
 "cells": [
  {
   "cell_type": "code",
   "execution_count": 15,
   "id": "adcccd98",
   "metadata": {},
   "outputs": [],
   "source": [
    "import pandas as pd\n",
    "import numpy as np\n",
    "import seaborn as sns"
   ]
  },
  {
   "cell_type": "code",
   "execution_count": 16,
   "id": "da337dfa",
   "metadata": {},
   "outputs": [
    {
     "data": {
      "text/html": [
       "<div>\n",
       "<style scoped>\n",
       "    .dataframe tbody tr th:only-of-type {\n",
       "        vertical-align: middle;\n",
       "    }\n",
       "\n",
       "    .dataframe tbody tr th {\n",
       "        vertical-align: top;\n",
       "    }\n",
       "\n",
       "    .dataframe thead th {\n",
       "        text-align: right;\n",
       "    }\n",
       "</style>\n",
       "<table border=\"1\" class=\"dataframe\">\n",
       "  <thead>\n",
       "    <tr style=\"text-align: right;\">\n",
       "      <th></th>\n",
       "      <th>Reg No</th>\n",
       "      <th>Name</th>\n",
       "      <th>Sem</th>\n",
       "      <th>CIE</th>\n",
       "      <th>SEE</th>\n",
       "    </tr>\n",
       "  </thead>\n",
       "  <tbody>\n",
       "    <tr>\n",
       "      <th>0</th>\n",
       "      <td>393CS18001</td>\n",
       "      <td>ABHISHEK NEELKANTAPPA JAMBAGI</td>\n",
       "      <td>1</td>\n",
       "      <td>121</td>\n",
       "      <td>204</td>\n",
       "    </tr>\n",
       "    <tr>\n",
       "      <th>1</th>\n",
       "      <td>393CS18002</td>\n",
       "      <td>AISHWARYA PATIL</td>\n",
       "      <td>1</td>\n",
       "      <td>296</td>\n",
       "      <td>440</td>\n",
       "    </tr>\n",
       "    <tr>\n",
       "      <th>2</th>\n",
       "      <td>393CS18003</td>\n",
       "      <td>AKASH BASAVARAJ MALAPPAGOL</td>\n",
       "      <td>1</td>\n",
       "      <td>185</td>\n",
       "      <td>308</td>\n",
       "    </tr>\n",
       "    <tr>\n",
       "      <th>3</th>\n",
       "      <td>393CS18004</td>\n",
       "      <td>AKASH MUTTAPPA JANGAMASHETTI</td>\n",
       "      <td>1</td>\n",
       "      <td>94</td>\n",
       "      <td>154</td>\n",
       "    </tr>\n",
       "    <tr>\n",
       "      <th>4</th>\n",
       "      <td>393CS18005</td>\n",
       "      <td>ANUSHREE PATIL</td>\n",
       "      <td>1</td>\n",
       "      <td>99</td>\n",
       "      <td>164</td>\n",
       "    </tr>\n",
       "    <tr>\n",
       "      <th>5</th>\n",
       "      <td>393CS18007</td>\n",
       "      <td>CHAITRA PATTAR</td>\n",
       "      <td>1</td>\n",
       "      <td>390</td>\n",
       "      <td>531</td>\n",
       "    </tr>\n",
       "    <tr>\n",
       "      <th>6</th>\n",
       "      <td>393CS18008</td>\n",
       "      <td>CHETAN KAPPARAD</td>\n",
       "      <td>1</td>\n",
       "      <td>222</td>\n",
       "      <td>344</td>\n",
       "    </tr>\n",
       "    <tr>\n",
       "      <th>7</th>\n",
       "      <td>393CS18010</td>\n",
       "      <td>MALLIKARJUN KORWAR</td>\n",
       "      <td>1</td>\n",
       "      <td>155</td>\n",
       "      <td>267</td>\n",
       "    </tr>\n",
       "    <tr>\n",
       "      <th>8</th>\n",
       "      <td>393CS18012</td>\n",
       "      <td>MRUTUNJAY GUDDODAGI</td>\n",
       "      <td>1</td>\n",
       "      <td>193</td>\n",
       "      <td>299</td>\n",
       "    </tr>\n",
       "    <tr>\n",
       "      <th>9</th>\n",
       "      <td>393CS18013</td>\n",
       "      <td>NADAF SOHAIL NASIM</td>\n",
       "      <td>1</td>\n",
       "      <td>340</td>\n",
       "      <td>484</td>\n",
       "    </tr>\n",
       "    <tr>\n",
       "      <th>10</th>\n",
       "      <td>393CS18014</td>\n",
       "      <td>NIKIL NADUVINAKERI</td>\n",
       "      <td>1</td>\n",
       "      <td>30</td>\n",
       "      <td>54</td>\n",
       "    </tr>\n",
       "    <tr>\n",
       "      <th>11</th>\n",
       "      <td>393CS18015</td>\n",
       "      <td>PATIL AMRUTA ARVIND</td>\n",
       "      <td>1</td>\n",
       "      <td>306</td>\n",
       "      <td>450</td>\n",
       "    </tr>\n",
       "    <tr>\n",
       "      <th>12</th>\n",
       "      <td>393CS18016</td>\n",
       "      <td>PRASHANT LAKKANNA BAGAYAT</td>\n",
       "      <td>1</td>\n",
       "      <td>228</td>\n",
       "      <td>341</td>\n",
       "    </tr>\n",
       "    <tr>\n",
       "      <th>13</th>\n",
       "      <td>393CS18017</td>\n",
       "      <td>PRATHAM LILADHAR NAYAK</td>\n",
       "      <td>1</td>\n",
       "      <td>100</td>\n",
       "      <td>172</td>\n",
       "    </tr>\n",
       "    <tr>\n",
       "      <th>14</th>\n",
       "      <td>393CS18018</td>\n",
       "      <td>PRATIBHA SHIVAJI SHINDE</td>\n",
       "      <td>1</td>\n",
       "      <td>138</td>\n",
       "      <td>243</td>\n",
       "    </tr>\n",
       "    <tr>\n",
       "      <th>15</th>\n",
       "      <td>393CS18019</td>\n",
       "      <td>RAKSHITA KULKARNI</td>\n",
       "      <td>1</td>\n",
       "      <td>180</td>\n",
       "      <td>304</td>\n",
       "    </tr>\n",
       "    <tr>\n",
       "      <th>16</th>\n",
       "      <td>393CS18020</td>\n",
       "      <td>RAVIKUMAR DANAYYA HIREMATH</td>\n",
       "      <td>1</td>\n",
       "      <td>66</td>\n",
       "      <td>130</td>\n",
       "    </tr>\n",
       "    <tr>\n",
       "      <th>17</th>\n",
       "      <td>393CS18021</td>\n",
       "      <td>SANTOSH ANDANIMATH</td>\n",
       "      <td>1</td>\n",
       "      <td>118</td>\n",
       "      <td>227</td>\n",
       "    </tr>\n",
       "    <tr>\n",
       "      <th>18</th>\n",
       "      <td>393CS18022</td>\n",
       "      <td>SHASHANKGOUDA S PATIL</td>\n",
       "      <td>1</td>\n",
       "      <td>103</td>\n",
       "      <td>177</td>\n",
       "    </tr>\n",
       "    <tr>\n",
       "      <th>19</th>\n",
       "      <td>393CS18023</td>\n",
       "      <td>SHRIDHAR NAGESHRAO</td>\n",
       "      <td>1</td>\n",
       "      <td>105</td>\n",
       "      <td>182</td>\n",
       "    </tr>\n",
       "    <tr>\n",
       "      <th>20</th>\n",
       "      <td>393CS18024</td>\n",
       "      <td>SHRIKANT S BABALADI</td>\n",
       "      <td>1</td>\n",
       "      <td>280</td>\n",
       "      <td>411</td>\n",
       "    </tr>\n",
       "    <tr>\n",
       "      <th>21</th>\n",
       "      <td>393CS18025</td>\n",
       "      <td>SRUSHTI SURESH KORI</td>\n",
       "      <td>1</td>\n",
       "      <td>192</td>\n",
       "      <td>298</td>\n",
       "    </tr>\n",
       "    <tr>\n",
       "      <th>22</th>\n",
       "      <td>393CS18026</td>\n",
       "      <td>SUMIT BABU KOLAR</td>\n",
       "      <td>1</td>\n",
       "      <td>245</td>\n",
       "      <td>380</td>\n",
       "    </tr>\n",
       "    <tr>\n",
       "      <th>23</th>\n",
       "      <td>393CS18027</td>\n",
       "      <td>SWATI SHIVANAND HUNUR</td>\n",
       "      <td>1</td>\n",
       "      <td>276</td>\n",
       "      <td>420</td>\n",
       "    </tr>\n",
       "    <tr>\n",
       "      <th>24</th>\n",
       "      <td>393CS18028</td>\n",
       "      <td>TAMBE GANESH DHONDIRAM</td>\n",
       "      <td>1</td>\n",
       "      <td>377</td>\n",
       "      <td>522</td>\n",
       "    </tr>\n",
       "    <tr>\n",
       "      <th>25</th>\n",
       "      <td>393CS18029</td>\n",
       "      <td>TRIMURTI DEGINAL</td>\n",
       "      <td>1</td>\n",
       "      <td>104</td>\n",
       "      <td>180</td>\n",
       "    </tr>\n",
       "    <tr>\n",
       "      <th>26</th>\n",
       "      <td>393CS18030</td>\n",
       "      <td>VAISHNAVI HUNASHIKATTI</td>\n",
       "      <td>1</td>\n",
       "      <td>200</td>\n",
       "      <td>327</td>\n",
       "    </tr>\n",
       "  </tbody>\n",
       "</table>\n",
       "</div>"
      ],
      "text/plain": [
       "        Reg No                           Name  Sem  CIE  SEE\n",
       "0   393CS18001  ABHISHEK NEELKANTAPPA JAMBAGI    1  121  204\n",
       "1   393CS18002                AISHWARYA PATIL    1  296  440\n",
       "2   393CS18003     AKASH BASAVARAJ MALAPPAGOL    1  185  308\n",
       "3   393CS18004   AKASH MUTTAPPA JANGAMASHETTI    1   94  154\n",
       "4   393CS18005                 ANUSHREE PATIL    1   99  164\n",
       "5   393CS18007                 CHAITRA PATTAR    1  390  531\n",
       "6   393CS18008                CHETAN KAPPARAD    1  222  344\n",
       "7   393CS18010             MALLIKARJUN KORWAR    1  155  267\n",
       "8   393CS18012            MRUTUNJAY GUDDODAGI    1  193  299\n",
       "9   393CS18013             NADAF SOHAIL NASIM    1  340  484\n",
       "10  393CS18014             NIKIL NADUVINAKERI    1   30   54\n",
       "11  393CS18015            PATIL AMRUTA ARVIND    1  306  450\n",
       "12  393CS18016      PRASHANT LAKKANNA BAGAYAT    1  228  341\n",
       "13  393CS18017         PRATHAM LILADHAR NAYAK    1  100  172\n",
       "14  393CS18018        PRATIBHA SHIVAJI SHINDE    1  138  243\n",
       "15  393CS18019              RAKSHITA KULKARNI    1  180  304\n",
       "16  393CS18020     RAVIKUMAR DANAYYA HIREMATH    1   66  130\n",
       "17  393CS18021             SANTOSH ANDANIMATH    1  118  227\n",
       "18  393CS18022          SHASHANKGOUDA S PATIL    1  103  177\n",
       "19  393CS18023             SHRIDHAR NAGESHRAO    1  105  182\n",
       "20  393CS18024            SHRIKANT S BABALADI    1  280  411\n",
       "21  393CS18025            SRUSHTI SURESH KORI    1  192  298\n",
       "22  393CS18026               SUMIT BABU KOLAR    1  245  380\n",
       "23  393CS18027          SWATI SHIVANAND HUNUR    1  276  420\n",
       "24  393CS18028         TAMBE GANESH DHONDIRAM    1  377  522\n",
       "25  393CS18029               TRIMURTI DEGINAL    1  104  180\n",
       "26  393CS18030         VAISHNAVI HUNASHIKATTI    1  200  327"
      ]
     },
     "execution_count": 16,
     "metadata": {},
     "output_type": "execute_result"
    }
   ],
   "source": [
    "df=pd.read_csv('dataset/cie_see.csv')\n",
    "df"
   ]
  },
  {
   "cell_type": "code",
   "execution_count": 17,
   "id": "8906984e",
   "metadata": {},
   "outputs": [
    {
     "data": {
      "text/plain": [
       "<AxesSubplot:xlabel='CIE', ylabel='SEE'>"
      ]
     },
     "execution_count": 17,
     "metadata": {},
     "output_type": "execute_result"
    },
    {
     "data": {
      "image/png": "[encoded data removed]",
      "text/plain": [
       "<Figure size 432x288 with 1 Axes>"
      ]
     },
     "metadata": {
      "needs_background": "light"
     },
     "output_type": "display_data"
    }
   ],
   "source": [
    "sns.scatterplot(data=df,x=df['CIE'],y=df['SEE'])"
   ]
  },
  {
   "cell_type": "code",
   "execution_count": 18,
   "id": "f7b03bec",
   "metadata": {},
   "outputs": [
    {
     "data": {
      "text/html": [
       "<div>\n",
       "<style scoped>\n",
       "    .dataframe tbody tr th:only-of-type {\n",
       "        vertical-align: middle;\n",
       "    }\n",
       "\n",
       "    .dataframe tbody tr th {\n",
       "        vertical-align: top;\n",
       "    }\n",
       "\n",
       "    .dataframe thead th {\n",
       "        text-align: right;\n",
       "    }\n",
       "</style>\n",
       "<table border=\"1\" class=\"dataframe\">\n",
       "  <thead>\n",
       "    <tr style=\"text-align: right;\">\n",
       "      <th></th>\n",
       "      <th>CIE</th>\n",
       "    </tr>\n",
       "  </thead>\n",
       "  <tbody>\n",
       "    <tr>\n",
       "      <th>0</th>\n",
       "      <td>121</td>\n",
       "    </tr>\n",
       "    <tr>\n",
       "      <th>1</th>\n",
       "      <td>296</td>\n",
       "    </tr>\n",
       "    <tr>\n",
       "      <th>2</th>\n",
       "      <td>185</td>\n",
       "    </tr>\n",
       "    <tr>\n",
       "      <th>3</th>\n",
       "      <td>94</td>\n",
       "    </tr>\n",
       "    <tr>\n",
       "      <th>4</th>\n",
       "      <td>99</td>\n",
       "    </tr>\n",
       "  </tbody>\n",
       "</table>\n",
       "</div>"
      ],
      "text/plain": [
       "   CIE\n",
       "0  121\n",
       "1  296\n",
       "2  185\n",
       "3   94\n",
       "4   99"
      ]
     },
     "execution_count": 18,
     "metadata": {},
     "output_type": "execute_result"
    }
   ],
   "source": [
    "x=df[['CIE']]\n",
    "x.head()"
   ]
  },
  {
   "cell_type": "code",
   "execution_count": 19,
   "id": "dc58f381",
   "metadata": {},
   "outputs": [
    {
     "data": {
      "text/html": [
       "<div>\n",
       "<style scoped>\n",
       "    .dataframe tbody tr th:only-of-type {\n",
       "        vertical-align: middle;\n",
       "    }\n",
       "\n",
       "    .dataframe tbody tr th {\n",
       "        vertical-align: top;\n",
       "    }\n",
       "\n",
       "    .dataframe thead th {\n",
       "        text-align: right;\n",
       "    }\n",
       "</style>\n",
       "<table border=\"1\" class=\"dataframe\">\n",
       "  <thead>\n",
       "    <tr style=\"text-align: right;\">\n",
       "      <th></th>\n",
       "      <th>SEE</th>\n",
       "    </tr>\n",
       "  </thead>\n",
       "  <tbody>\n",
       "    <tr>\n",
       "      <th>0</th>\n",
       "      <td>204</td>\n",
       "    </tr>\n",
       "    <tr>\n",
       "      <th>1</th>\n",
       "      <td>440</td>\n",
       "    </tr>\n",
       "    <tr>\n",
       "      <th>2</th>\n",
       "      <td>308</td>\n",
       "    </tr>\n",
       "    <tr>\n",
       "      <th>3</th>\n",
       "      <td>154</td>\n",
       "    </tr>\n",
       "    <tr>\n",
       "      <th>4</th>\n",
       "      <td>164</td>\n",
       "    </tr>\n",
       "  </tbody>\n",
       "</table>\n",
       "</div>"
      ],
      "text/plain": [
       "   SEE\n",
       "0  204\n",
       "1  440\n",
       "2  308\n",
       "3  154\n",
       "4  164"
      ]
     },
     "execution_count": 19,
     "metadata": {},
     "output_type": "execute_result"
    }
   ],
   "source": [
    "y=df[['SEE']]\n",
    "y.head()"
   ]
  },
  {
   "cell_type": "code",
   "execution_count": 20,
   "id": "1fbe0cba",
   "metadata": {},
   "outputs": [],
   "source": [
    "from sklearn.model_selection import train_test_split"
   ]
  },
  {
   "cell_type": "code",
   "execution_count": 21,
   "id": "da9748d9",
   "metadata": {},
   "outputs": [],
   "source": [
    "x_train,x_test,y_train,y_test = train_test_split(x,y,test_size = 0.2,train_size = 0.8)"
   ]
  },
  {
   "cell_type": "code",
   "execution_count": 27,
   "id": "cd48452a",
   "metadata": {},
   "outputs": [
    {
     "data": {
      "text/html": [
       "<div>\n",
       "<style scoped>\n",
       "    .dataframe tbody tr th:only-of-type {\n",
       "        vertical-align: middle;\n",
       "    }\n",
       "\n",
       "    .dataframe tbody tr th {\n",
       "        vertical-align: top;\n",
       "    }\n",
       "\n",
       "    .dataframe thead th {\n",
       "        text-align: right;\n",
       "    }\n",
       "</style>\n",
       "<table border=\"1\" class=\"dataframe\">\n",
       "  <thead>\n",
       "    <tr style=\"text-align: right;\">\n",
       "      <th></th>\n",
       "      <th>CIE</th>\n",
       "    </tr>\n",
       "  </thead>\n",
       "  <tbody>\n",
       "    <tr>\n",
       "      <th>23</th>\n",
       "      <td>276</td>\n",
       "    </tr>\n",
       "    <tr>\n",
       "      <th>19</th>\n",
       "      <td>105</td>\n",
       "    </tr>\n",
       "    <tr>\n",
       "      <th>24</th>\n",
       "      <td>377</td>\n",
       "    </tr>\n",
       "    <tr>\n",
       "      <th>2</th>\n",
       "      <td>185</td>\n",
       "    </tr>\n",
       "    <tr>\n",
       "      <th>9</th>\n",
       "      <td>340</td>\n",
       "    </tr>\n",
       "    <tr>\n",
       "      <th>26</th>\n",
       "      <td>200</td>\n",
       "    </tr>\n",
       "  </tbody>\n",
       "</table>\n",
       "</div>"
      ],
      "text/plain": [
       "    CIE\n",
       "23  276\n",
       "19  105\n",
       "24  377\n",
       "2   185\n",
       "9   340\n",
       "26  200"
      ]
     },
     "execution_count": 27,
     "metadata": {},
     "output_type": "execute_result"
    }
   ],
   "source": [
    "x_test"
   ]
  },
  {
   "cell_type": "code",
   "execution_count": 22,
   "id": "f3fb5e58",
   "metadata": {},
   "outputs": [],
   "source": [
    "from sklearn.linear_model import LinearRegression"
   ]
  },
  {
   "cell_type": "code",
   "execution_count": 29,
   "id": "f272fba6",
   "metadata": {},
   "outputs": [],
   "source": [
    "lr=LinearRegression()"
   ]
  },
  {
   "cell_type": "code",
   "execution_count": 31,
   "id": "5dbcd92b",
   "metadata": {},
   "outputs": [
    {
     "data": {
      "text/plain": [
       "LinearRegression()"
      ]
     },
     "execution_count": 31,
     "metadata": {},
     "output_type": "execute_result"
    }
   ],
   "source": [
    "lr.fit(x_train,y_train)"
   ]
  },
  {
   "cell_type": "code",
   "execution_count": 36,
   "id": "58db6d4a",
   "metadata": {},
   "outputs": [
    {
     "data": {
      "text/plain": [
       "array([[409.15045169],\n",
       "       [183.21914456],\n",
       "       [542.59525883],\n",
       "       [288.9180017 ],\n",
       "       [493.7095374 ],\n",
       "       [308.73653741]])"
      ]
     },
     "execution_count": 36,
     "metadata": {},
     "output_type": "execute_result"
    }
   ],
   "source": [
    "pr=lr.predict(x_test)\n",
    "pr"
   ]
  },
  {
   "cell_type": "code",
   "execution_count": 33,
   "id": "55f0cd30",
   "metadata": {},
   "outputs": [
    {
     "data": {
      "text/plain": [
       "0.9862414106136845"
      ]
     },
     "execution_count": 33,
     "metadata": {},
     "output_type": "execute_result"
    }
   ],
   "source": [
    "lr.score(x_train,y_train)"
   ]
  },
  {
   "cell_type": "code",
   "execution_count": 35,
   "id": "2e08f344",
   "metadata": {},
   "outputs": [
    {
     "data": {
      "text/plain": [
       "0.9832138890834863"
      ]
     },
     "execution_count": 35,
     "metadata": {},
     "output_type": "execute_result"
    }
   ],
   "source": [
    "lr.score(x_test,y_test)"
   ]
  },
  {
   "cell_type": "code",
   "execution_count": 37,
   "id": "31413167",
   "metadata": {},
   "outputs": [
    {
     "data": {
      "text/plain": [
       "222.5525899354327"
      ]
     },
     "execution_count": 37,
     "metadata": {},
     "output_type": "execute_result"
    }
   ],
   "source": [
    "from sklearn.metrics import mean_squared_error\n",
    "mse=mean_squared_error(y_test,pr)\n",
    "mse"
   ]
  },
  {
   "cell_type": "code",
   "execution_count": 38,
   "id": "ba0456b2",
   "metadata": {},
   "outputs": [
    {
     "data": {
      "text/plain": [
       "14.91819660466481"
      ]
     },
     "execution_count": 38,
     "metadata": {},
     "output_type": "execute_result"
    }
   ],
   "source": [
    "np.sqrt(mse)"
   ]
  },
  {
   "cell_type": "code",
   "execution_count": null,
   "id": "7a25c40b",
   "metadata": {},
   "outputs": [],
   "source": []
  },
  {
   "cell_type": "code",
   "execution_count": null,
   "id": "cdad9f78",
   "metadata": {},
   "outputs": [],
   "source": []
  },
  {
   "cell_type": "code",
   "execution_count": null,
   "id": "41425ab6",
   "metadata": {},
   "outputs": [],
   "source": []
  },
  {
   "cell_type": "code",
   "execution_count": null,
   "id": "7ccd8081",
   "metadata": {},
   "outputs": [],
   "source": []
  },
  {
   "cell_type": "code",
   "execution_count": null,
   "id": "f4ff59b3",
   "metadata": {},
   "outputs": [],
   "source": []
  },
  {
   "cell_type": "code",
   "execution_count": null,
   "id": "2106103d",
   "metadata": {},
   "outputs": [],
   "source": []
  },
  {
   "cell_type": "code",
   "execution_count": null,
   "id": "215c4208",
   "metadata": {},
   "outputs": [],
   "source": []
  },
  {
   "cell_type": "code",
   "execution_count": null,
   "id": "08df68d8",
   "metadata": {},
   "outputs": [],
   "source": []
  },
  {
   "cell_type": "code",
   "execution_count": null,
   "id": "47aaca28",
   "metadata": {},
   "outputs": [],
   "source": []
  },
  {
   "cell_type": "code",
   "execution_count": null,
   "id": "5eaf6363",
   "metadata": {},
   "outputs": [],
   "source": []
  }
 ],
 "metadata": {
  "kernelspec": {
   "display_name": "Python 3 (ipykernel)",
   "language": "python",
   "name": "python3"
  },
  "language_info": {
   "codemirror_mode": {
    "name": "ipython",
    "version": 3
   },
   "file_extension": ".py",
   "mimetype": "text/x-python",
   "name": "python",
   "nbconvert_exporter": "python",
   "pygments_lexer": "ipython3",
   "version": "3.9.12"
  }
 },
 "nbformat": 4,
 "nbformat_minor": 5
}
