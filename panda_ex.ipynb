{
 "cells": [
  {
   "cell_type": "markdown",
   "id": "7284a7f7",
   "metadata": {},
   "source": [
    "# Panda series"
   ]
  },
  {
   "cell_type": "code",
   "execution_count": 4,
   "id": "557952a2",
   "metadata": {},
   "outputs": [
    {
     "name": "stdout",
     "output_type": "stream",
     "text": [
      "0    10\n",
      "1    20\n",
      "2    30\n",
      "3    40\n",
      "4    50\n",
      "dtype: int64\n"
     ]
    }
   ],
   "source": [
    "import pandas as pd\n",
    "ser1=pd.Series([10,20,30,40,50])\n",
    "print(ser1)\n"
   ]
  },
  {
   "cell_type": "code",
   "execution_count": 6,
   "id": "9434d322",
   "metadata": {},
   "outputs": [
    {
     "name": "stdout",
     "output_type": "stream",
     "text": [
      "0    10.0\n",
      "1    20.0\n",
      "2    30.0\n",
      "3    40.0\n",
      "dtype: float64\n"
     ]
    }
   ],
   "source": [
    "import pandas as pd\n",
    "ser1=pd.Series([10,20,30,40],dtype=float)\n",
    "print(ser1)"
   ]
  },
  {
   "cell_type": "code",
   "execution_count": 7,
   "id": "77f938e8",
   "metadata": {},
   "outputs": [
    {
     "name": "stdout",
     "output_type": "stream",
     "text": [
      "first     10\n",
      "second    20\n",
      "third     30\n",
      "fourth    40\n",
      "fifth     50\n",
      "dtype: int64\n"
     ]
    }
   ],
   "source": [
    "import pandas as pd\n",
    "ser1=pd.Series([10,20,30,40,50],index=[\"first\",\"second\",\"third\",\"fourth\",\"fifth\"])\n",
    "print(ser1)\n"
   ]
  },
  {
   "cell_type": "code",
   "execution_count": 11,
   "id": "392ac748",
   "metadata": {},
   "outputs": [
    {
     "name": "stdout",
     "output_type": "stream",
     "text": [
      "0    1\n",
      "1    2\n",
      "2    3\n",
      "3    4\n",
      "4    5\n",
      "dtype: int64\n",
      "frist     1\n",
      "second    2\n",
      "third     3\n",
      "fourth    4\n",
      "fifth     5\n",
      "dtype: int64\n"
     ]
    }
   ],
   "source": [
    "import pandas as pd\n",
    "ser1=pd.Series([1,2,3,4,5])\n",
    "print(ser1)\n",
    "i=pd.Index([\"frist\",\"second\",\"third\",\"fourth\",\"fifth\"])\n",
    "ser1=pd.Series([1,2,3,4,5],index=i)\n",
    "print(ser1)"
   ]
  },
  {
   "cell_type": "code",
   "execution_count": 12,
   "id": "0a0c3ee5",
   "metadata": {},
   "outputs": [
    {
     "name": "stdout",
     "output_type": "stream",
     "text": [
      "first     1\n",
      "second    2\n",
      "third     3\n",
      "fourth    4\n",
      "dtype: int64\n"
     ]
    }
   ],
   "source": [
    "import pandas as pd\n",
    "ser1=pd.Series({\"first\":1,\"second\":2,\"third\":3,\"fourth\":4})\n",
    "print(ser1)"
   ]
  },
  {
   "cell_type": "markdown",
   "id": "4b3dfd96",
   "metadata": {},
   "source": [
    "# Data Frames"
   ]
  },
  {
   "cell_type": "code",
   "execution_count": 1,
   "id": "fd9fea95",
   "metadata": {},
   "outputs": [
    {
     "name": "stdout",
     "output_type": "stream",
     "text": [
      "[[0 1 2]\n",
      " [3 4 5]\n",
      " [6 7 8]]\n",
      "   A  B  C\n",
      "a  0  1  2\n",
      "b  3  4  5\n",
      "c  6  7  8\n"
     ]
    }
   ],
   "source": [
    "import numpy as np\n",
    "import pandas as pd\n",
    "arr = np.arange(0,9).reshape(3,3)\n",
    "print(arr)\n",
    "df=pd.DataFrame(arr,index=['a','b','c'],columns=['A','B','C'])\n",
    "print(df)"
   ]
  },
  {
   "cell_type": "code",
   "execution_count": 8,
   "id": "ef0e7b65",
   "metadata": {},
   "outputs": [
    {
     "name": "stdout",
     "output_type": "stream",
     "text": [
      "         OSA  Python  SE  Java\n",
      "Rahul     23      24  20    19\n",
      "Krishna   20      24  25    21\n",
      "Abhinav   19      22  23    18\n"
     ]
    }
   ],
   "source": [
    "import numpy as np\n",
    "import pandas as pd\n",
    "arr=np.array([[23,24,20,19],[20,24,25,21],[19,22,23,18]])\n",
    "df=pd.DataFrame(arr, index = [\"Rahul\",\"Krishna\",\"Abhinav\"], columns=[\"OSA\",\"Python\",\"SE\",\"Java\"])\n",
    "print(df)"
   ]
  },
  {
   "cell_type": "code",
   "execution_count": 9,
   "id": "70eb2102",
   "metadata": {},
   "outputs": [
    {
     "name": "stdout",
     "output_type": "stream",
     "text": [
      "    OSA  Pyhton\n",
      "0  23.0      20\n",
      "1  20.0      25\n",
      "2  19.0      23\n",
      "3   NaN      20\n"
     ]
    }
   ],
   "source": [
    "import numpy as np\n",
    "import pandas as pd\n",
    "ser1=pd.Series([23,20,19])\n",
    "ser2=pd.Series([20,25,23,20])\n",
    "print(pd.DataFrame({\"OSA\":ser1,\"Pyhton\":ser2}))"
   ]
  },
  {
   "cell_type": "markdown",
   "id": "c2d2e4e5",
   "metadata": {},
   "source": [
    "# creating DataFrame containing information about cities."
   ]
  },
  {
   "cell_type": "code",
   "execution_count": 11,
   "id": "37734810",
   "metadata": {},
   "outputs": [
    {
     "name": "stdout",
     "output_type": "stream",
     "text": [
      "karnataka       6.72\n",
      "Maharashtra    12.54\n",
      "Gujarat          7.0\n",
      "dtype: object\n"
     ]
    }
   ],
   "source": [
    "import numpy as np\n",
    "import pandas as pd\n",
    "i=pd.Index([\"karnataka\",\"Maharashtra\",\"Gujarat\"])\n",
    "#print(i)\n",
    "pop=pd.Series(['6.72','12.54','7.0'],index=i,name=\"population\")\n",
    "print(pop)\n",
    "cap=pd.Series([\"Bangalore\",\"Mumbai\",\"Gandhinagar\"],index=i,name=\"capital\")\n",
    "#print(cap)\n",
    "#df=pd.DataFrame([pop,cap]) #will not display in proper fromat\n",
    "#df=pd.DataFrame([pop,cap]).T #will display in propoer format but columns name missing\n",
    "df=pd.DataFrame({\"population\":pop, \"capital\":cap})\n",
    "#df=pd.DataFrame([['6.72',\"Bangalore\"],['12.54',\"Mumbai\"],['7.0',\"gnadhinagar\"]],index=[\"Karnataka\",\"Maharashtra\",\"Gujarat\"] , columns=['population','capital'])\n",
    "#print(df)\n"
   ]
  },
  {
   "cell_type": "markdown",
   "id": "a662d3a9",
   "metadata": {},
   "source": [
    "# How to add a new Data to a Series"
   ]
  },
  {
   "cell_type": "code",
   "execution_count": 6,
   "id": "d2c45f18",
   "metadata": {},
   "outputs": [
    {
     "name": "stderr",
     "output_type": "stream",
     "text": [
      "C:\\Users\\CS-L2-PC02\\AppData\\Local\\Temp\\ipykernel_11912\\3326186990.py:4: FutureWarning: The series.append method is deprecated and will be removed from pandas in a future version. Use pandas.concat instead.\n",
      "  pop.append(pd.Series({\"Tamilnadu\":8.9}))\n"
     ]
    },
    {
     "data": {
      "text/plain": [
       "karnataka       6.72\n",
       "Maharashtra    12.54\n",
       "Gujarat          7.0\n",
       "Tamilnadu        8.9\n",
       "dtype: object"
      ]
     },
     "execution_count": 6,
     "metadata": {},
     "output_type": "execute_result"
    }
   ],
   "source": [
    "import numpy as np\n",
    "import pandas as pd\n",
    "#print(pop)\n",
    "pop.append(pd.Series({\"Tamilnadu\":8.9}))\n",
    "#print(pop)\n"
   ]
  },
  {
   "cell_type": "markdown",
   "id": "75bc3bc5",
   "metadata": {},
   "source": [
    "method 1"
   ]
  },
  {
   "cell_type": "code",
   "execution_count": 8,
   "id": "3897cc7f",
   "metadata": {},
   "outputs": [
    {
     "name": "stdout",
     "output_type": "stream",
     "text": [
      "             population      capital\n",
      "karnataka          6.72    bangalore\n",
      "maharashtra       12.54       mumbai\n",
      "gujarat             7.0  gandhinagar\n",
      "tamilnadu           8.9      chennai\n",
      "andhrapadesh       12.5     hydrabad\n"
     ]
    },
    {
     "name": "stderr",
     "output_type": "stream",
     "text": [
      "C:\\Users\\CS-L2-PC02\\AppData\\Local\\Temp\\ipykernel_11912\\1276740331.py:6: FutureWarning: The frame.append method is deprecated and will be removed from pandas in a future version. Use pandas.concat instead.\n",
      "  print(df.append(pd.DataFrame([['8.9','chennai'],['12.5','hydrabad']],index=['tamilnadu','andhrapadesh'],columns=[\"population\",\"capital\"])))\n"
     ]
    }
   ],
   "source": [
    "import numpy as np\n",
    "import pandas as pd\n",
    "i=pd.Index([\"karnataka\",\"maharashtra\",\"gujarat\"])\n",
    "df=pd.DataFrame([['6.72',\"bangalore\"],['12.54',\"mumbai\"],['7.0',\"gandhinagar\"]],index=i,columns=['population','capital'])\n",
    "#print(df)\n",
    "print(df.append(pd.DataFrame([['8.9','chennai'],['12.5','hydrabad']],index=['tamilnadu','andhrapadesh'],columns=[\"population\",\"capital\"])))"
   ]
  },
  {
   "cell_type": "markdown",
   "id": "12fe8b2e",
   "metadata": {},
   "source": [
    "method 2"
   ]
  },
  {
   "cell_type": "code",
   "execution_count": 7,
   "id": "c80d2199",
   "metadata": {},
   "outputs": [
    {
     "name": "stdout",
     "output_type": "stream",
     "text": [
      "            population      capital\n",
      "karnataka         6.72    bangalore\n",
      "maharashtra      12.54       mumbai\n",
      "Gujarat            7,0  gandhinagar\n",
      "\n",
      "\n",
      "               population      capital\n",
      "karnataka            6.72    bangalore\n",
      "maharashtra         12.54       mumbai\n",
      "Gujarat               7,0  gandhinagar\n",
      "tamilnadu             8.9      chennai\n",
      "andhara pradsh       12.6     hydrabad\n"
     ]
    },
    {
     "name": "stderr",
     "output_type": "stream",
     "text": [
      "C:\\Users\\CS-L2-PC02\\AppData\\Local\\Temp\\ipykernel_11912\\2437754552.py:9: FutureWarning: The frame.append method is deprecated and will be removed from pandas in a future version. Use pandas.concat instead.\n",
      "  print(df.append(pd.DataFrame({\"population\":pd.Series({\"tamilnadu\":8.9,\"andhara pradsh\":12.6}),\"capital\":pd.Series({\"tamilnadu\":\"chennai\",\"andhara pradsh\":\"hydrabad\"})})))\n"
     ]
    }
   ],
   "source": [
    "import numpy as np\n",
    "import pandas as pd\n",
    "i=pd.Index(['karnataka','maharashtra','Gujarat'])\n",
    "pop=pd.Series(['6.72','12.54','7,0'],index=i,name=\"population\")\n",
    "cap=pd.Series(['bangalore','mumbai','gandhinagar'],index=i,name=\"capital\")\n",
    "df=pd.DataFrame({\"population\":pop,\"capital\":cap})\n",
    "print(df)\n",
    "print(\"\\n\")\n",
    "print(df.append(pd.DataFrame({\"population\":pd.Series({\"tamilnadu\":8.9,\"andhara pradsh\":12.6}),\"capital\":pd.Series({\"tamilnadu\":\"chennai\",\"andhara pradsh\":\"hydrabad\"})})))"
   ]
  },
  {
   "cell_type": "markdown",
   "id": "6e35fd69",
   "metadata": {},
   "source": [
    "# concat new column to DataFrame:"
   ]
  },
  {
   "cell_type": "code",
   "execution_count": 9,
   "id": "e8fa5e67",
   "metadata": {},
   "outputs": [
    {
     "data": {
      "text/html": [
       "<div>\n",
       "<style scoped>\n",
       "    .dataframe tbody tr th:only-of-type {\n",
       "        vertical-align: middle;\n",
       "    }\n",
       "\n",
       "    .dataframe tbody tr th {\n",
       "        vertical-align: top;\n",
       "    }\n",
       "\n",
       "    .dataframe thead th {\n",
       "        text-align: right;\n",
       "    }\n",
       "</style>\n",
       "<table border=\"1\" class=\"dataframe\">\n",
       "  <thead>\n",
       "    <tr style=\"text-align: right;\">\n",
       "      <th></th>\n",
       "      <th>population</th>\n",
       "      <th>capital</th>\n",
       "      <th>area</th>\n",
       "      <th>cm</th>\n",
       "    </tr>\n",
       "  </thead>\n",
       "  <tbody>\n",
       "    <tr>\n",
       "      <th>karnataka</th>\n",
       "      <td>6.72</td>\n",
       "      <td>Bangalore</td>\n",
       "      <td>2.1</td>\n",
       "      <td>Bomai</td>\n",
       "    </tr>\n",
       "    <tr>\n",
       "      <th>mahrashtra</th>\n",
       "      <td>12.54</td>\n",
       "      <td>Mumbai</td>\n",
       "      <td>3.1</td>\n",
       "      <td>Shinde</td>\n",
       "    </tr>\n",
       "    <tr>\n",
       "      <th>Gujarat</th>\n",
       "      <td>7.0</td>\n",
       "      <td>gandhinagar</td>\n",
       "      <td>5.5</td>\n",
       "      <td>Patel</td>\n",
       "    </tr>\n",
       "  </tbody>\n",
       "</table>\n",
       "</div>"
      ],
      "text/plain": [
       "           population      capital   area      cm\n",
       "karnataka        6.72    Bangalore    2.1   Bomai\n",
       "mahrashtra      12.54       Mumbai    3.1  Shinde\n",
       "Gujarat           7.0  gandhinagar    5.5   Patel"
      ]
     },
     "execution_count": 9,
     "metadata": {},
     "output_type": "execute_result"
    }
   ],
   "source": [
    "import numpy as np  \n",
    "import pandas as pd\n",
    "i=pd.Index(['karnataka','mahrashtra','Gujarat'])\n",
    "pop=pd.Series(['6.72','12.54','7.0'],index=i,name=\"population\")\n",
    "cap=pd.Series(['Bangalore','Mumbai','gandhinagar'],index=i,name=\"capital\")\n",
    "df=pd.DataFrame({\"population\":pop,\"capital\":cap})\n",
    "#print(df)\n",
    "#print(\"\\n\\n\")\n",
    "df1=pd.concat([df,pd.DataFrame({\"  area\":pd.Series(['2.1','3.1','5.5'],index=pop.index),\"cm\":pd.Series(['Bomai','Shinde','Patel'],index=pop.index)})],axis=1)\n",
    "#df1.to_csv(\"cities.csv\")\n",
    "#print(df1)\n",
    "df1\n"
   ]
  },
  {
   "cell_type": "markdown",
   "id": "6c08c509",
   "metadata": {},
   "source": [
    "# Subsetting"
   ]
  },
  {
   "cell_type": "code",
   "execution_count": 13,
   "id": "5da9926e",
   "metadata": {},
   "outputs": [],
   "source": [
    "import numpy as np\n",
    "import pandas as pd\n",
    "from pandas import Series,DataFrame\n"
   ]
  },
  {
   "cell_type": "code",
   "execution_count": 14,
   "id": "b5fc0bcb",
   "metadata": {},
   "outputs": [
    {
     "data": {
      "text/plain": [
       "alpha      0\n",
       "beta       1\n",
       "gama       2\n",
       "delta      3\n",
       "elipson    4\n",
       "dtype: int32"
      ]
     },
     "execution_count": 14,
     "metadata": {},
     "output_type": "execute_result"
    }
   ],
   "source": [
    "srs = Series(np.arange(5), index=[\"alpha\",\"beta\",\"gama\",\"delta\",\"elipson\"])\n",
    "srs"
   ]
  },
  {
   "cell_type": "code",
   "execution_count": 15,
   "id": "6463954a",
   "metadata": {},
   "outputs": [
    {
     "data": {
      "text/plain": [
       "alpha    0\n",
       "beta     1\n",
       "dtype: int32"
      ]
     },
     "execution_count": 15,
     "metadata": {},
     "output_type": "execute_result"
    }
   ],
   "source": [
    "srs[:2]"
   ]
  },
  {
   "cell_type": "code",
   "execution_count": 19,
   "id": "825dc1e3",
   "metadata": {},
   "outputs": [
    {
     "data": {
      "text/plain": [
       "beta     1\n",
       "delta    3\n",
       "dtype: int32"
      ]
     },
     "execution_count": 19,
     "metadata": {},
     "output_type": "execute_result"
    }
   ],
   "source": [
    "srs[[\"beta\",\"delta\"]]"
   ]
  },
  {
   "cell_type": "code",
   "execution_count": 17,
   "id": "0127b20f",
   "metadata": {},
   "outputs": [
    {
     "data": {
      "text/plain": [
       "beta     1\n",
       "gama     2\n",
       "delta    3\n",
       "dtype: int32"
      ]
     },
     "execution_count": 17,
     "metadata": {},
     "output_type": "execute_result"
    }
   ],
   "source": [
    "srs[\"beta\":\"delta\"]"
   ]
  },
  {
   "cell_type": "code",
   "execution_count": 20,
   "id": "49a97279",
   "metadata": {},
   "outputs": [
    {
     "name": "stdout",
     "output_type": "stream",
     "text": [
      "alpha      0\n",
      "beta       1\n",
      "gama       2\n",
      "delta      3\n",
      "elipson    4\n",
      "dtype: int32\n"
     ]
    },
    {
     "data": {
      "text/plain": [
       "elipson    4\n",
       "dtype: int32"
      ]
     },
     "execution_count": 20,
     "metadata": {},
     "output_type": "execute_result"
    }
   ],
   "source": [
    "print(srs)\n",
    "srs[srs > 3]"
   ]
  },
  {
   "cell_type": "code",
   "execution_count": 21,
   "id": "8c8b4a9f",
   "metadata": {},
   "outputs": [
    {
     "data": {
      "text/plain": [
       "alpha      False\n",
       "beta       False\n",
       "gama       False\n",
       "delta      False\n",
       "elipson     True\n",
       "dtype: bool"
      ]
     },
     "execution_count": 21,
     "metadata": {},
     "output_type": "execute_result"
    }
   ],
   "source": [
    "srs > 3"
   ]
  },
  {
   "cell_type": "code",
   "execution_count": 22,
   "id": "3f646ce6",
   "metadata": {},
   "outputs": [
    {
     "data": {
      "text/plain": [
       "3     zero\n",
       "2      one\n",
       "4      two\n",
       "0    three\n",
       "1     four\n",
       "dtype: object"
      ]
     },
     "execution_count": 22,
     "metadata": {},
     "output_type": "execute_result"
    }
   ],
   "source": [
    "srs2 = Series([\"zero\",\"one\",\"two\",\"three\",\"four\"], index=[3,2,4,0,1])\n",
    "srs2"
   ]
  },
  {
   "cell_type": "code",
   "execution_count": 23,
   "id": "da27e704",
   "metadata": {},
   "outputs": [
    {
     "data": {
      "text/plain": [
       "4      two\n",
       "0    three\n",
       "dtype: object"
      ]
     },
     "execution_count": 23,
     "metadata": {},
     "output_type": "execute_result"
    }
   ],
   "source": [
    "srs2[2:4]    #Ambiguous"
   ]
  },
  {
   "cell_type": "code",
   "execution_count": 24,
   "id": "835802ce",
   "metadata": {},
   "outputs": [
    {
     "data": {
      "text/plain": [
       "2      one\n",
       "4      two\n",
       "0    three\n",
       "dtype: object"
      ]
     },
     "execution_count": 24,
     "metadata": {},
     "output_type": "execute_result"
    }
   ],
   "source": [
    "srs2.iloc[1:4]"
   ]
  },
  {
   "cell_type": "code",
   "execution_count": 25,
   "id": "3bf8f810",
   "metadata": {},
   "outputs": [
    {
     "data": {
      "text/plain": [
       "3     zero\n",
       "2      one\n",
       "4      two\n",
       "0    three\n",
       "dtype: object"
      ]
     },
     "execution_count": 25,
     "metadata": {},
     "output_type": "execute_result"
    }
   ],
   "source": [
    "srs2.loc[3:0]"
   ]
  },
  {
   "cell_type": "code",
   "execution_count": 26,
   "id": "e5f67ab3",
   "metadata": {},
   "outputs": [
    {
     "data": {
      "text/html": [
       "<div>\n",
       "<style scoped>\n",
       "    .dataframe tbody tr th:only-of-type {\n",
       "        vertical-align: middle;\n",
       "    }\n",
       "\n",
       "    .dataframe tbody tr th {\n",
       "        vertical-align: top;\n",
       "    }\n",
       "\n",
       "    .dataframe thead th {\n",
       "        text-align: right;\n",
       "    }\n",
       "</style>\n",
       "<table border=\"1\" class=\"dataframe\">\n",
       "  <thead>\n",
       "    <tr style=\"text-align: right;\">\n",
       "      <th></th>\n",
       "      <th>AAA</th>\n",
       "      <th>BBB</th>\n",
       "      <th>CCC</th>\n",
       "    </tr>\n",
       "  </thead>\n",
       "  <tbody>\n",
       "    <tr>\n",
       "      <th>alpha</th>\n",
       "      <td>0</td>\n",
       "      <td>1</td>\n",
       "      <td>2</td>\n",
       "    </tr>\n",
       "    <tr>\n",
       "      <th>beta</th>\n",
       "      <td>3</td>\n",
       "      <td>4</td>\n",
       "      <td>5</td>\n",
       "    </tr>\n",
       "    <tr>\n",
       "      <th>gama</th>\n",
       "      <td>6</td>\n",
       "      <td>7</td>\n",
       "      <td>8</td>\n",
       "    </tr>\n",
       "    <tr>\n",
       "      <th>delta</th>\n",
       "      <td>9</td>\n",
       "      <td>10</td>\n",
       "      <td>11</td>\n",
       "    </tr>\n",
       "    <tr>\n",
       "      <th>epsilon</th>\n",
       "      <td>12</td>\n",
       "      <td>13</td>\n",
       "      <td>14</td>\n",
       "    </tr>\n",
       "    <tr>\n",
       "      <th>zeta</th>\n",
       "      <td>15</td>\n",
       "      <td>16</td>\n",
       "      <td>17</td>\n",
       "    </tr>\n",
       "    <tr>\n",
       "      <th>eta</th>\n",
       "      <td>18</td>\n",
       "      <td>19</td>\n",
       "      <td>20</td>\n",
       "    </tr>\n",
       "  </tbody>\n",
       "</table>\n",
       "</div>"
      ],
      "text/plain": [
       "         AAA  BBB  CCC\n",
       "alpha      0    1    2\n",
       "beta       3    4    5\n",
       "gama       6    7    8\n",
       "delta      9   10   11\n",
       "epsilon   12   13   14\n",
       "zeta      15   16   17\n",
       "eta       18   19   20"
      ]
     },
     "execution_count": 26,
     "metadata": {},
     "output_type": "execute_result"
    }
   ],
   "source": [
    "df = DataFrame(np.arange(21).reshape(7,3), columns=['AAA','BBB','CCC'], index=[\"alpha\",\"beta\",\"gama\",\"delta\",\"epsilon\",\"zeta\",\"eta\"])\n",
    "df"
   ]
  },
  {
   "cell_type": "code",
   "execution_count": 27,
   "id": "d92a2305",
   "metadata": {},
   "outputs": [
    {
     "data": {
      "text/plain": [
       "alpha       0\n",
       "beta        3\n",
       "gama        6\n",
       "delta       9\n",
       "epsilon    12\n",
       "zeta       15\n",
       "eta        18\n",
       "Name: AAA, dtype: int32"
      ]
     },
     "execution_count": 27,
     "metadata": {},
     "output_type": "execute_result"
    }
   ],
   "source": [
    "df.AAA"
   ]
  },
  {
   "cell_type": "code",
   "execution_count": 28,
   "id": "958aa239",
   "metadata": {},
   "outputs": [
    {
     "data": {
      "text/plain": [
       "alpha       0\n",
       "beta        3\n",
       "gama        6\n",
       "delta       9\n",
       "epsilon    12\n",
       "zeta       15\n",
       "eta        18\n",
       "Name: AAA, dtype: int32"
      ]
     },
     "execution_count": 28,
     "metadata": {},
     "output_type": "execute_result"
    }
   ],
   "source": [
    "df['AAA']"
   ]
  },
  {
   "cell_type": "code",
   "execution_count": 29,
   "id": "fb43652f",
   "metadata": {},
   "outputs": [
    {
     "data": {
      "text/html": [
       "<div>\n",
       "<style scoped>\n",
       "    .dataframe tbody tr th:only-of-type {\n",
       "        vertical-align: middle;\n",
       "    }\n",
       "\n",
       "    .dataframe tbody tr th {\n",
       "        vertical-align: top;\n",
       "    }\n",
       "\n",
       "    .dataframe thead th {\n",
       "        text-align: right;\n",
       "    }\n",
       "</style>\n",
       "<table border=\"1\" class=\"dataframe\">\n",
       "  <thead>\n",
       "    <tr style=\"text-align: right;\">\n",
       "      <th></th>\n",
       "      <th>BBB</th>\n",
       "      <th>CCC</th>\n",
       "    </tr>\n",
       "  </thead>\n",
       "  <tbody>\n",
       "    <tr>\n",
       "      <th>alpha</th>\n",
       "      <td>1</td>\n",
       "      <td>2</td>\n",
       "    </tr>\n",
       "    <tr>\n",
       "      <th>beta</th>\n",
       "      <td>4</td>\n",
       "      <td>5</td>\n",
       "    </tr>\n",
       "    <tr>\n",
       "      <th>gama</th>\n",
       "      <td>7</td>\n",
       "      <td>8</td>\n",
       "    </tr>\n",
       "    <tr>\n",
       "      <th>delta</th>\n",
       "      <td>10</td>\n",
       "      <td>11</td>\n",
       "    </tr>\n",
       "    <tr>\n",
       "      <th>epsilon</th>\n",
       "      <td>13</td>\n",
       "      <td>14</td>\n",
       "    </tr>\n",
       "    <tr>\n",
       "      <th>zeta</th>\n",
       "      <td>16</td>\n",
       "      <td>17</td>\n",
       "    </tr>\n",
       "    <tr>\n",
       "      <th>eta</th>\n",
       "      <td>19</td>\n",
       "      <td>20</td>\n",
       "    </tr>\n",
       "  </tbody>\n",
       "</table>\n",
       "</div>"
      ],
      "text/plain": [
       "         BBB  CCC\n",
       "alpha      1    2\n",
       "beta       4    5\n",
       "gama       7    8\n",
       "delta     10   11\n",
       "epsilon   13   14\n",
       "zeta      16   17\n",
       "eta       19   20"
      ]
     },
     "execution_count": 29,
     "metadata": {},
     "output_type": "execute_result"
    }
   ],
   "source": [
    "df[['BBB','CCC']]"
   ]
  },
  {
   "cell_type": "code",
   "execution_count": 30,
   "id": "cdefeb0a",
   "metadata": {},
   "outputs": [
    {
     "data": {
      "text/html": [
       "<div>\n",
       "<style scoped>\n",
       "    .dataframe tbody tr th:only-of-type {\n",
       "        vertical-align: middle;\n",
       "    }\n",
       "\n",
       "    .dataframe tbody tr th {\n",
       "        vertical-align: top;\n",
       "    }\n",
       "\n",
       "    .dataframe thead th {\n",
       "        text-align: right;\n",
       "    }\n",
       "</style>\n",
       "<table border=\"1\" class=\"dataframe\">\n",
       "  <thead>\n",
       "    <tr style=\"text-align: right;\">\n",
       "      <th></th>\n",
       "      <th>BBB</th>\n",
       "    </tr>\n",
       "  </thead>\n",
       "  <tbody>\n",
       "    <tr>\n",
       "      <th>beta</th>\n",
       "      <td>4</td>\n",
       "    </tr>\n",
       "    <tr>\n",
       "      <th>gama</th>\n",
       "      <td>7</td>\n",
       "    </tr>\n",
       "  </tbody>\n",
       "</table>\n",
       "</div>"
      ],
      "text/plain": [
       "      BBB\n",
       "beta    4\n",
       "gama    7"
      ]
     },
     "execution_count": 30,
     "metadata": {},
     "output_type": "execute_result"
    }
   ],
   "source": [
    "df.iloc[1:3, 1:2]"
   ]
  },
  {
   "cell_type": "code",
   "execution_count": 31,
   "id": "07be9da6",
   "metadata": {},
   "outputs": [
    {
     "data": {
      "text/html": [
       "<div>\n",
       "<style scoped>\n",
       "    .dataframe tbody tr th:only-of-type {\n",
       "        vertical-align: middle;\n",
       "    }\n",
       "\n",
       "    .dataframe tbody tr th {\n",
       "        vertical-align: top;\n",
       "    }\n",
       "\n",
       "    .dataframe thead th {\n",
       "        text-align: right;\n",
       "    }\n",
       "</style>\n",
       "<table border=\"1\" class=\"dataframe\">\n",
       "  <thead>\n",
       "    <tr style=\"text-align: right;\">\n",
       "      <th></th>\n",
       "      <th>BBB</th>\n",
       "      <th>CCC</th>\n",
       "    </tr>\n",
       "  </thead>\n",
       "  <tbody>\n",
       "    <tr>\n",
       "      <th>beta</th>\n",
       "      <td>4</td>\n",
       "      <td>5</td>\n",
       "    </tr>\n",
       "    <tr>\n",
       "      <th>gama</th>\n",
       "      <td>7</td>\n",
       "      <td>8</td>\n",
       "    </tr>\n",
       "    <tr>\n",
       "      <th>delta</th>\n",
       "      <td>10</td>\n",
       "      <td>11</td>\n",
       "    </tr>\n",
       "  </tbody>\n",
       "</table>\n",
       "</div>"
      ],
      "text/plain": [
       "       BBB  CCC\n",
       "beta     4    5\n",
       "gama     7    8\n",
       "delta   10   11"
      ]
     },
     "execution_count": 31,
     "metadata": {},
     "output_type": "execute_result"
    }
   ],
   "source": [
    "df.loc['beta':'delta', 'BBB':'CCC']"
   ]
  },
  {
   "cell_type": "code",
   "execution_count": 32,
   "id": "ddcc322a",
   "metadata": {},
   "outputs": [
    {
     "data": {
      "text/html": [
       "<div>\n",
       "<style scoped>\n",
       "    .dataframe tbody tr th:only-of-type {\n",
       "        vertical-align: middle;\n",
       "    }\n",
       "\n",
       "    .dataframe tbody tr th {\n",
       "        vertical-align: top;\n",
       "    }\n",
       "\n",
       "    .dataframe thead th {\n",
       "        text-align: right;\n",
       "    }\n",
       "</style>\n",
       "<table border=\"1\" class=\"dataframe\">\n",
       "  <thead>\n",
       "    <tr style=\"text-align: right;\">\n",
       "      <th></th>\n",
       "      <th>BBB</th>\n",
       "      <th>CCC</th>\n",
       "    </tr>\n",
       "  </thead>\n",
       "  <tbody>\n",
       "    <tr>\n",
       "      <th>alpha</th>\n",
       "      <td>1</td>\n",
       "      <td>2</td>\n",
       "    </tr>\n",
       "    <tr>\n",
       "      <th>beta</th>\n",
       "      <td>4</td>\n",
       "      <td>5</td>\n",
       "    </tr>\n",
       "    <tr>\n",
       "      <th>gama</th>\n",
       "      <td>7</td>\n",
       "      <td>8</td>\n",
       "    </tr>\n",
       "    <tr>\n",
       "      <th>delta</th>\n",
       "      <td>10</td>\n",
       "      <td>11</td>\n",
       "    </tr>\n",
       "    <tr>\n",
       "      <th>epsilon</th>\n",
       "      <td>13</td>\n",
       "      <td>14</td>\n",
       "    </tr>\n",
       "    <tr>\n",
       "      <th>zeta</th>\n",
       "      <td>16</td>\n",
       "      <td>17</td>\n",
       "    </tr>\n",
       "    <tr>\n",
       "      <th>eta</th>\n",
       "      <td>19</td>\n",
       "      <td>20</td>\n",
       "    </tr>\n",
       "  </tbody>\n",
       "</table>\n",
       "</div>"
      ],
      "text/plain": [
       "         BBB  CCC\n",
       "alpha      1    2\n",
       "beta       4    5\n",
       "gama       7    8\n",
       "delta     10   11\n",
       "epsilon   13   14\n",
       "zeta      16   17\n",
       "eta       19   20"
      ]
     },
     "execution_count": 32,
     "metadata": {},
     "output_type": "execute_result"
    }
   ],
   "source": [
    "df.iloc[:, 1:3]"
   ]
  },
  {
   "cell_type": "code",
   "execution_count": 33,
   "id": "9caf314b",
   "metadata": {},
   "outputs": [
    {
     "data": {
      "text/html": [
       "<div>\n",
       "<style scoped>\n",
       "    .dataframe tbody tr th:only-of-type {\n",
       "        vertical-align: middle;\n",
       "    }\n",
       "\n",
       "    .dataframe tbody tr th {\n",
       "        vertical-align: top;\n",
       "    }\n",
       "\n",
       "    .dataframe thead th {\n",
       "        text-align: right;\n",
       "    }\n",
       "</style>\n",
       "<table border=\"1\" class=\"dataframe\">\n",
       "  <thead>\n",
       "    <tr style=\"text-align: right;\">\n",
       "      <th></th>\n",
       "      <th>BBB</th>\n",
       "      <th>CCC</th>\n",
       "    </tr>\n",
       "  </thead>\n",
       "  <tbody>\n",
       "    <tr>\n",
       "      <th>alpha</th>\n",
       "      <td>1</td>\n",
       "      <td>2</td>\n",
       "    </tr>\n",
       "    <tr>\n",
       "      <th>gama</th>\n",
       "      <td>7</td>\n",
       "      <td>8</td>\n",
       "    </tr>\n",
       "    <tr>\n",
       "      <th>zeta</th>\n",
       "      <td>16</td>\n",
       "      <td>17</td>\n",
       "    </tr>\n",
       "  </tbody>\n",
       "</table>\n",
       "</div>"
      ],
      "text/plain": [
       "       BBB  CCC\n",
       "alpha    1    2\n",
       "gama     7    8\n",
       "zeta    16   17"
      ]
     },
     "execution_count": 33,
     "metadata": {},
     "output_type": "execute_result"
    }
   ],
   "source": [
    "df.iloc[:, 1:3].loc[['alpha', 'gama', 'zeta']]"
   ]
  },
  {
   "cell_type": "code",
   "execution_count": 34,
   "id": "072994fd",
   "metadata": {},
   "outputs": [
    {
     "data": {
      "text/html": [
       "<div>\n",
       "<style scoped>\n",
       "    .dataframe tbody tr th:only-of-type {\n",
       "        vertical-align: middle;\n",
       "    }\n",
       "\n",
       "    .dataframe tbody tr th {\n",
       "        vertical-align: top;\n",
       "    }\n",
       "\n",
       "    .dataframe thead th {\n",
       "        text-align: right;\n",
       "    }\n",
       "</style>\n",
       "<table border=\"1\" class=\"dataframe\">\n",
       "  <thead>\n",
       "    <tr style=\"text-align: right;\">\n",
       "      <th></th>\n",
       "      <th>BBB</th>\n",
       "      <th>CCC</th>\n",
       "    </tr>\n",
       "  </thead>\n",
       "  <tbody>\n",
       "    <tr>\n",
       "      <th>alpha</th>\n",
       "      <td>1</td>\n",
       "      <td>2</td>\n",
       "    </tr>\n",
       "    <tr>\n",
       "      <th>gama</th>\n",
       "      <td>7</td>\n",
       "      <td>8</td>\n",
       "    </tr>\n",
       "    <tr>\n",
       "      <th>zeta</th>\n",
       "      <td>16</td>\n",
       "      <td>17</td>\n",
       "    </tr>\n",
       "  </tbody>\n",
       "</table>\n",
       "</div>"
      ],
      "text/plain": [
       "       BBB  CCC\n",
       "alpha    1    2\n",
       "gama     7    8\n",
       "zeta    16   17"
      ]
     },
     "execution_count": 34,
     "metadata": {},
     "output_type": "execute_result"
    }
   ],
   "source": [
    "df2 = df.iloc[:, 1:3].loc[['alpha', 'gama', 'zeta']].copy()\n",
    "df2"
   ]
  },
  {
   "cell_type": "code",
   "execution_count": 35,
   "id": "688d53ef",
   "metadata": {},
   "outputs": [
    {
     "data": {
      "text/html": [
       "<div>\n",
       "<style scoped>\n",
       "    .dataframe tbody tr th:only-of-type {\n",
       "        vertical-align: middle;\n",
       "    }\n",
       "\n",
       "    .dataframe tbody tr th {\n",
       "        vertical-align: top;\n",
       "    }\n",
       "\n",
       "    .dataframe thead th {\n",
       "        text-align: right;\n",
       "    }\n",
       "</style>\n",
       "<table border=\"1\" class=\"dataframe\">\n",
       "  <thead>\n",
       "    <tr style=\"text-align: right;\">\n",
       "      <th></th>\n",
       "      <th>BBB</th>\n",
       "      <th>CCC</th>\n",
       "    </tr>\n",
       "  </thead>\n",
       "  <tbody>\n",
       "    <tr>\n",
       "      <th>alpha</th>\n",
       "      <td>1</td>\n",
       "      <td>11</td>\n",
       "    </tr>\n",
       "    <tr>\n",
       "      <th>gama</th>\n",
       "      <td>7</td>\n",
       "      <td>18</td>\n",
       "    </tr>\n",
       "    <tr>\n",
       "      <th>zeta</th>\n",
       "      <td>16</td>\n",
       "      <td>5</td>\n",
       "    </tr>\n",
       "  </tbody>\n",
       "</table>\n",
       "</div>"
      ],
      "text/plain": [
       "       BBB  CCC\n",
       "alpha    1   11\n",
       "gama     7   18\n",
       "zeta    16    5"
      ]
     },
     "execution_count": 35,
     "metadata": {},
     "output_type": "execute_result"
    }
   ],
   "source": [
    "df2['CCC'] = Series({'alpha':11, 'gama':18, 'zeta':5})\n",
    "df2"
   ]
  },
  {
   "cell_type": "code",
   "execution_count": 36,
   "id": "1bdafafd",
   "metadata": {},
   "outputs": [
    {
     "data": {
      "text/html": [
       "<div>\n",
       "<style scoped>\n",
       "    .dataframe tbody tr th:only-of-type {\n",
       "        vertical-align: middle;\n",
       "    }\n",
       "\n",
       "    .dataframe tbody tr th {\n",
       "        vertical-align: top;\n",
       "    }\n",
       "\n",
       "    .dataframe thead th {\n",
       "        text-align: right;\n",
       "    }\n",
       "</style>\n",
       "<table border=\"1\" class=\"dataframe\">\n",
       "  <thead>\n",
       "    <tr style=\"text-align: right;\">\n",
       "      <th></th>\n",
       "      <th>BBB</th>\n",
       "      <th>CCC</th>\n",
       "    </tr>\n",
       "  </thead>\n",
       "  <tbody>\n",
       "    <tr>\n",
       "      <th>alpha</th>\n",
       "      <td>1</td>\n",
       "      <td>11</td>\n",
       "    </tr>\n",
       "    <tr>\n",
       "      <th>gama</th>\n",
       "      <td>7</td>\n",
       "      <td>2</td>\n",
       "    </tr>\n",
       "    <tr>\n",
       "      <th>zeta</th>\n",
       "      <td>16</td>\n",
       "      <td>5</td>\n",
       "    </tr>\n",
       "  </tbody>\n",
       "</table>\n",
       "</div>"
      ],
      "text/plain": [
       "       BBB  CCC\n",
       "alpha    1   11\n",
       "gama     7    2\n",
       "zeta    16    5"
      ]
     },
     "execution_count": 36,
     "metadata": {},
     "output_type": "execute_result"
    }
   ],
   "source": [
    "df2.iloc[1, 1] = 2\n",
    "df2"
   ]
  },
  {
   "cell_type": "code",
   "execution_count": 37,
   "id": "ca227433",
   "metadata": {},
   "outputs": [
    {
     "data": {
      "text/html": [
       "<div>\n",
       "<style scoped>\n",
       "    .dataframe tbody tr th:only-of-type {\n",
       "        vertical-align: middle;\n",
       "    }\n",
       "\n",
       "    .dataframe tbody tr th {\n",
       "        vertical-align: top;\n",
       "    }\n",
       "\n",
       "    .dataframe thead th {\n",
       "        text-align: right;\n",
       "    }\n",
       "</style>\n",
       "<table border=\"1\" class=\"dataframe\">\n",
       "  <thead>\n",
       "    <tr style=\"text-align: right;\">\n",
       "      <th></th>\n",
       "      <th>BBB</th>\n",
       "      <th>CCC</th>\n",
       "    </tr>\n",
       "  </thead>\n",
       "  <tbody>\n",
       "    <tr>\n",
       "      <th>alpha</th>\n",
       "      <td>1</td>\n",
       "      <td>0</td>\n",
       "    </tr>\n",
       "    <tr>\n",
       "      <th>gama</th>\n",
       "      <td>7</td>\n",
       "      <td>0</td>\n",
       "    </tr>\n",
       "    <tr>\n",
       "      <th>zeta</th>\n",
       "      <td>16</td>\n",
       "      <td>0</td>\n",
       "    </tr>\n",
       "  </tbody>\n",
       "</table>\n",
       "</div>"
      ],
      "text/plain": [
       "       BBB  CCC\n",
       "alpha    1    0\n",
       "gama     7    0\n",
       "zeta    16    0"
      ]
     },
     "execution_count": 37,
     "metadata": {},
     "output_type": "execute_result"
    }
   ],
   "source": [
    "df2.iloc[:, 1] = 0\n",
    "df2"
   ]
  },
  {
   "cell_type": "code",
   "execution_count": null,
   "id": "a1a9da9c",
   "metadata": {},
   "outputs": [],
   "source": []
  }
 ],
 "metadata": {
  "kernelspec": {
   "display_name": "Python 3 (ipykernel)",
   "language": "python",
   "name": "python3"
  },
  "language_info": {
   "codemirror_mode": {
    "name": "ipython",
    "version": 3
   },
   "file_extension": ".py",
   "mimetype": "text/x-python",
   "name": "python",
   "nbconvert_exporter": "python",
   "pygments_lexer": "ipython3",
   "version": "3.9.12"
  }
 },
 "nbformat": 4,
 "nbformat_minor": 5
}
