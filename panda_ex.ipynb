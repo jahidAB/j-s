{
 "cells": [
  {
   "cell_type": "markdown",
   "id": "7284a7f7",
   "metadata": {},
   "source": [
    "# Panda series"
   ]
  },
  {
   "cell_type": "code",
   "execution_count": 4,
   "id": "557952a2",
   "metadata": {},
   "outputs": [
    {
     "name": "stdout",
     "output_type": "stream",
     "text": [
      "0    10\n",
      "1    20\n",
      "2    30\n",
      "3    40\n",
      "4    50\n",
      "dtype: int64\n"
     ]
    }
   ],
   "source": [
    "import pandas as pd\n",
    "ser1=pd.Series([10,20,30,40,50])\n",
    "print(ser1)\n"
   ]
  },
  {
   "cell_type": "code",
   "execution_count": 6,
   "id": "9434d322",
   "metadata": {},
   "outputs": [
    {
     "name": "stdout",
     "output_type": "stream",
     "text": [
      "0    10.0\n",
      "1    20.0\n",
      "2    30.0\n",
      "3    40.0\n",
      "dtype: float64\n"
     ]
    }
   ],
   "source": [
    "import pandas as pd\n",
    "ser1=pd.Series([10,20,30,40],dtype=float)\n",
    "print(ser1)"
   ]
  },
  {
   "cell_type": "code",
   "execution_count": 7,
   "id": "77f938e8",
   "metadata": {},
   "outputs": [
    {
     "name": "stdout",
     "output_type": "stream",
     "text": [
      "first     10\n",
      "second    20\n",
      "third     30\n",
      "fourth    40\n",
      "fifth     50\n",
      "dtype: int64\n"
     ]
    }
   ],
   "source": [
    "import pandas as pd\n",
    "ser1=pd.Series([10,20,30,40,50],index=[\"first\",\"second\",\"third\",\"fourth\",\"fifth\"])\n",
    "print(ser1)\n"
   ]
  },
  {
   "cell_type": "code",
   "execution_count": 11,
   "id": "392ac748",
   "metadata": {},
   "outputs": [
    {
     "name": "stdout",
     "output_type": "stream",
     "text": [
      "0    1\n",
      "1    2\n",
      "2    3\n",
      "3    4\n",
      "4    5\n",
      "dtype: int64\n",
      "frist     1\n",
      "second    2\n",
      "third     3\n",
      "fourth    4\n",
      "fifth     5\n",
      "dtype: int64\n"
     ]
    }
   ],
   "source": [
    "import pandas as pd\n",
    "ser1=pd.Series([1,2,3,4,5])\n",
    "print(ser1)\n",
    "i=pd.Index([\"frist\",\"second\",\"third\",\"fourth\",\"fifth\"])\n",
    "ser1=pd.Series([1,2,3,4,5],index=i)\n",
    "print(ser1)"
   ]
  },
  {
   "cell_type": "code",
   "execution_count": 12,
   "id": "0a0c3ee5",
   "metadata": {},
   "outputs": [
    {
     "name": "stdout",
     "output_type": "stream",
     "text": [
      "first     1\n",
      "second    2\n",
      "third     3\n",
      "fourth    4\n",
      "dtype: int64\n"
     ]
    }
   ],
   "source": [
    "import pandas as pd\n",
    "ser1=pd.Series({\"first\":1,\"second\":2,\"third\":3,\"fourth\":4})\n",
    "print(ser1)"
   ]
  },
  {
   "cell_type": "markdown",
   "id": "4b3dfd96",
   "metadata": {},
   "source": [
    "# Data Frames"
   ]
  },
  {
   "cell_type": "code",
   "execution_count": 1,
   "id": "fd9fea95",
   "metadata": {},
   "outputs": [
    {
     "name": "stdout",
     "output_type": "stream",
     "text": [
      "[[0 1 2]\n",
      " [3 4 5]\n",
      " [6 7 8]]\n",
      "   A  B  C\n",
      "a  0  1  2\n",
      "b  3  4  5\n",
      "c  6  7  8\n"
     ]
    }
   ],
   "source": [
    "import numpy as np\n",
    "import pandas as pd\n",
    "arr = np.arange(0,9).reshape(3,3)\n",
    "print(arr)\n",
    "df=pd.DataFrame(arr,index=['a','b','c'],columns=['A','B','C'])\n",
    "print(df)"
   ]
  },
  {
   "cell_type": "code",
   "execution_count": 8,
   "id": "ef0e7b65",
   "metadata": {},
   "outputs": [
    {
     "name": "stdout",
     "output_type": "stream",
     "text": [
      "         OSA  Python  SE  Java\n",
      "Rahul     23      24  20    19\n",
      "Krishna   20      24  25    21\n",
      "Abhinav   19      22  23    18\n"
     ]
    }
   ],
   "source": [
    "import numpy as np\n",
    "import pandas as pd\n",
    "arr=np.array([[23,24,20,19],[20,24,25,21],[19,22,23,18]])\n",
    "df=pd.DataFrame(arr, index = [\"Rahul\",\"Krishna\",\"Abhinav\"], columns=[\"OSA\",\"Python\",\"SE\",\"Java\"])\n",
    "print(df)"
   ]
  },
  {
   "cell_type": "code",
   "execution_count": 9,
   "id": "70eb2102",
   "metadata": {},
   "outputs": [
    {
     "name": "stdout",
     "output_type": "stream",
     "text": [
      "    OSA  Pyhton\n",
      "0  23.0      20\n",
      "1  20.0      25\n",
      "2  19.0      23\n",
      "3   NaN      20\n"
     ]
    }
   ],
   "source": [
    "import numpy as np\n",
    "import pandas as pd\n",
    "ser1=pd.Series([23,20,19])\n",
    "ser2=pd.Series([20,25,23,20])\n",
    "print(pd.DataFrame({\"OSA\":ser1,\"Pyhton\":ser2}))"
   ]
  },
  {
   "cell_type": "markdown",
   "id": "c2d2e4e5",
   "metadata": {},
   "source": [
    "# creating DataFrame containing information about cities."
   ]
  },
  {
   "cell_type": "code",
   "execution_count": 19,
   "id": "37734810",
   "metadata": {},
   "outputs": [
    {
     "name": "stdout",
     "output_type": "stream",
     "text": [
      "            population      capital\n",
      "karnataka         6.72    Bangalore\n",
      "Maharashtra      12.54       Mumbai\n",
      "Gujarat            7.0  Gandhinagar\n"
     ]
    }
   ],
   "source": [
    "import numpy as np\n",
    "import pandas as pd\n",
    "i=pd.Index([\"karnataka\",\"Maharashtra\",\"Gujarat\"])\n",
    "#print(i)\n",
    "pop=pd.Series(['6.72','12.54','7.0'],index=i,name=\"population\")\n",
    "#print(pop)\n",
    "cap=pd.Series([\"Bangalore\",\"Mumbai\",\"Gandhinagar\"],index=i,name=\"capital\")\n",
    "#print(cap)\n",
    "#df=pd.DataFrame([pop,cap]) #will not display in proper fromat\n",
    "#df=pd.DataFrame([pop,cap]).T #will display in propoer format but columns name missing\n",
    "df=pd.DataFrame({\"population\":pop, \"capital\":cap})\n",
    "#df=pd.DataFrame([['6.72',\"Bangalore\"],['12.54',\"Mumbai\"],['7.0',\"gnadhinagar\"]],index=[\"Karnataka\",\"Maharashtra\",\"Gujarat\"] , columns=['population','capital'])\n",
    "print(df)\n"
   ]
  },
  {
   "cell_type": "markdown",
   "id": "a662d3a9",
   "metadata": {},
   "source": [
    "# How to add a new Data to a Series"
   ]
  },
  {
   "cell_type": "code",
   "execution_count": 24,
   "id": "d2c45f18",
   "metadata": {},
   "outputs": [
    {
     "name": "stderr",
     "output_type": "stream",
     "text": [
      "C:\\Users\\CS-L2-PC02\\AppData\\Local\\Temp\\ipykernel_6928\\2808146437.py:4: FutureWarning: The series.append method is deprecated and will be removed from pandas in a future version. Use pandas.concat instead.\n",
      "  pop.append(pd.Series({\"Tamilnadu\":8.9}))\n"
     ]
    },
    {
     "data": {
      "text/plain": [
       "karnataka       6.72\n",
       "Maharashtra    12.54\n",
       "Gujarat          7.0\n",
       "Tamilnadu        8.9\n",
       "dtype: object"
      ]
     },
     "execution_count": 24,
     "metadata": {},
     "output_type": "execute_result"
    }
   ],
   "source": [
    "import numpy as np\n",
    "import pandas as pd\n",
    "#print(pop)\n",
    "pop.append(pd.Series({\"Tamilnadu\":8.9}))\n",
    "#print(pop)"
   ]
  },
  {
   "cell_type": "markdown",
   "id": "75bc3bc5",
   "metadata": {},
   "source": [
    "method 1"
   ]
  },
  {
   "cell_type": "code",
   "execution_count": 25,
   "id": "3897cc7f",
   "metadata": {},
   "outputs": [
    {
     "name": "stdout",
     "output_type": "stream",
     "text": [
      "             population      capital\n",
      "karnataka          6.72    bangalore\n",
      "maharashtra       12.54       mumbai\n",
      "gujarat             7.0  gandhinagar\n",
      "tamilnadu           8.9      chennai\n",
      "andhrapadesh       12.5     hydrabad\n"
     ]
    },
    {
     "name": "stderr",
     "output_type": "stream",
     "text": [
      "C:\\Users\\CS-L2-PC02\\AppData\\Local\\Temp\\ipykernel_6928\\1276740331.py:6: FutureWarning: The frame.append method is deprecated and will be removed from pandas in a future version. Use pandas.concat instead.\n",
      "  print(df.append(pd.DataFrame([['8.9','chennai'],['12.5','hydrabad']],index=['tamilnadu','andhrapadesh'],columns=[\"population\",\"capital\"])))\n"
     ]
    }
   ],
   "source": [
    "import numpy as np\n",
    "import pandas as pd\n",
    "i=pd.Index([\"karnataka\",\"maharashtra\",\"gujarat\"])\n",
    "df=pd.DataFrame([['6.72',\"bangalore\"],['12.54',\"mumbai\"],['7.0',\"gandhinagar\"]],index=i,columns=['population','capital'])\n",
    "#print(df)\n",
    "print(df.append(pd.DataFrame([['8.9','chennai'],['12.5','hydrabad']],index=['tamilnadu','andhrapadesh'],columns=[\"population\",\"capital\"])))"
   ]
  },
  {
   "cell_type": "markdown",
   "id": "12fe8b2e",
   "metadata": {},
   "source": [
    "method 2"
   ]
  },
  {
   "cell_type": "code",
   "execution_count": 27,
   "id": "c80d2199",
   "metadata": {},
   "outputs": [
    {
     "name": "stdout",
     "output_type": "stream",
     "text": [
      "            population      capital\n",
      "karnataka         6.72    bangalore\n",
      "maharashtra      12.54       mumbai\n",
      "Gujarat            7,0  gandhinagar\n",
      "               population      capital\n",
      "karnataka            6.72    bangalore\n",
      "maharashtra         12.54       mumbai\n",
      "Gujarat               7,0  gandhinagar\n",
      "tamilnadu             8.9      chennai\n",
      "andhara pradsh       12.6     hydrabad\n"
     ]
    },
    {
     "name": "stderr",
     "output_type": "stream",
     "text": [
      "C:\\Users\\CS-L2-PC02\\AppData\\Local\\Temp\\ipykernel_6928\\4170486616.py:8: FutureWarning: The frame.append method is deprecated and will be removed from pandas in a future version. Use pandas.concat instead.\n",
      "  print(df.append(pd.DataFrame({\"population\":pd.Series({\"tamilnadu\":8.9,\"andhara pradsh\":12.6}),\"capital\":pd.Series({\"tamilnadu\":\"chennai\",\"andhara pradsh\":\"hydrabad\"})})))\n"
     ]
    }
   ],
   "source": [
    "import numpy as np\n",
    "import pandas as pd\n",
    "i=pd.Index(['karnataka','maharashtra','Gujarat'])\n",
    "pop=pd.Series(['6.72','12.54','7,0'],index=i,name=\"population\")\n",
    "cap=pd.Series(['bangalore','mumbai','gandhinagar'],index=i,name=\"capital\")\n",
    "df=pd.DataFrame({\"population\":pop,\"capital\":cap})\n",
    "print(df)\n",
    "print(df.append(pd.DataFrame({\"population\":pd.Series({\"tamilnadu\":8.9,\"andhara pradsh\":12.6}),\"capital\":pd.Series({\"tamilnadu\":\"chennai\",\"andhara pradsh\":\"hydrabad\"})})))"
   ]
  },
  {
   "cell_type": "markdown",
   "id": "6e35fd69",
   "metadata": {},
   "source": [
    "# concat new column to DataFrame:"
   ]
  },
  {
   "cell_type": "code",
   "execution_count": 49,
   "id": "e8fa5e67",
   "metadata": {},
   "outputs": [
    {
     "name": "stdout",
     "output_type": "stream",
     "text": [
      "           population      capital\n",
      "karnataka        6.72    Bangalore\n",
      "mahrashtra      12.54       Mumbai\n",
      "Gujarat           7.0  gandhinagar\n",
      "\n",
      "\n",
      "\n",
      "           population      capital   area      cm\n",
      "karnataka        6.72    Bangalore    2.1   Bomai\n",
      "mahrashtra      12.54       Mumbai    3.1  Shinde\n",
      "Gujarat           7.0  gandhinagar    5.5   Patel\n"
     ]
    }
   ],
   "source": [
    "import numpy as np \n",
    "import pandas as pd\n",
    "i=pd.Index(['karnataka','mahrashtra','Gujarat'])\n",
    "pop=pd.Series(['6.72','12.54','7.0'],index=i,name=\"population\")\n",
    "cap=pd.Series(['Bangalore','Mumbai','gandhinagar'],index=i,name=\"capital\")\n",
    "df=pd.DataFrame({\"population\":pop,\"capital\":cap})\n",
    "print(df)\n",
    "print(\"\\n\\n\")\n",
    "df1=pd.concat([df,pd.DataFrame({\"  area\":pd.Series(['2.1','3.1','5.5'],index=pop.index),\"cm\":pd.Series(['Bomai','Shinde','Patel'],index=pop.index)})],axis=1)\n",
    "#df1.to_csv(\"cities.csv\")\n",
    "print(df1)"
   ]
  },
  {
   "cell_type": "code",
   "execution_count": null,
   "id": "912c9350",
   "metadata": {},
   "outputs": [],
   "source": []
  }
 ],
 "metadata": {
  "kernelspec": {
   "display_name": "Python 3 (ipykernel)",
   "language": "python",
   "name": "python3"
  },
  "language_info": {
   "codemirror_mode": {
    "name": "ipython",
    "version": 3
   },
   "file_extension": ".py",
   "mimetype": "text/x-python",
   "name": "python",
   "nbconvert_exporter": "python",
   "pygments_lexer": "ipython3",
   "version": "3.9.12"
  }
 },
 "nbformat": 4,
 "nbformat_minor": 5
}
