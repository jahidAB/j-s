{
 "cells": [
  {
   "cell_type": "code",
   "execution_count": 1,
   "id": "d2baba00",
   "metadata": {},
   "outputs": [
    {
     "data": {
      "text/plain": [
       "'1.21.5'"
      ]
     },
     "execution_count": 1,
     "metadata": {},
     "output_type": "execute_result"
    }
   ],
   "source": [
    "import numpy as np\n",
    "np.__version__"
   ]
  },
  {
   "cell_type": "markdown",
   "id": "9e81a267",
   "metadata": {},
   "source": [
    "# CREATE A 1-D ARRAY USING ARRAY()"
   ]
  },
  {
   "cell_type": "code",
   "execution_count": 3,
   "id": "104fc744",
   "metadata": {},
   "outputs": [
    {
     "name": "stdout",
     "output_type": "stream",
     "text": [
      "[1 2 3 4]\n",
      "int32\n",
      "(4,)\n"
     ]
    }
   ],
   "source": [
    "import numpy as np\n",
    "a=np.array([1,2,3,4])\n",
    "print(a)\n",
    "print(a.dtype)\n",
    "print(a.shape)"
   ]
  },
  {
   "cell_type": "markdown",
   "id": "20e50fe0",
   "metadata": {},
   "source": [
    "# CREATE A 1-D ARRAY USING ARANGE()"
   ]
  },
  {
   "cell_type": "code",
   "execution_count": 6,
   "id": "ff3aca7f",
   "metadata": {},
   "outputs": [
    {
     "name": "stdout",
     "output_type": "stream",
     "text": [
      "[1 2 3 4 5 6]\n",
      "int32\n",
      "(6,)\n"
     ]
    }
   ],
   "source": [
    "import numpy as np\n",
    "a=np.arange(1,7)\n",
    "print(a)\n",
    "print(a.dtype)\n",
    "print(a.shape)"
   ]
  },
  {
   "cell_type": "markdown",
   "id": "670ab81a",
   "metadata": {},
   "source": [
    "# CREATE A 2-D ARRAY USING ARRAY()"
   ]
  },
  {
   "cell_type": "code",
   "execution_count": 7,
   "id": "83954837",
   "metadata": {},
   "outputs": [
    {
     "name": "stdout",
     "output_type": "stream",
     "text": [
      "[[1 2 3 4]\n",
      " [5 6 7 8]]\n",
      "int32\n",
      "(2, 4)\n"
     ]
    }
   ],
   "source": [
    "import numpy as np\n",
    "b=np.array([[1,2,3,4],[5,6,7,8]])\n",
    "print(b)\n",
    "print(b.dtype)\n",
    "print(b.shape)"
   ]
  },
  {
   "cell_type": "markdown",
   "id": "3124fe10",
   "metadata": {},
   "source": [
    "# CREATE A 2-D ARRAY USING ARANGE()"
   ]
  },
  {
   "cell_type": "code",
   "execution_count": 8,
   "id": "1caa0851",
   "metadata": {},
   "outputs": [
    {
     "name": "stdout",
     "output_type": "stream",
     "text": [
      "[[0 1]\n",
      " [2 3]\n",
      " [4 5]\n",
      " [6 7]\n",
      " [8 9]]\n",
      "int32\n",
      "(5, 2)\n"
     ]
    }
   ],
   "source": [
    "import numpy as np\n",
    "a=np.arange(10).reshape(5,2) #MULTIPLY MUST RESULT SAME RANGE\n",
    "print(a)\n",
    "print(a.dtype)\n",
    "print(a.shape)"
   ]
  },
  {
   "cell_type": "markdown",
   "id": "784e63a7",
   "metadata": {},
   "source": [
    "# CREATE A 3-D ARRAY USING ARRAY()"
   ]
  },
  {
   "cell_type": "code",
   "execution_count": 12,
   "id": "feb1a182",
   "metadata": {},
   "outputs": [
    {
     "name": "stdout",
     "output_type": "stream",
     "text": [
      "[[[ 1  2  5]\n",
      "  [ 3  4  1]]\n",
      "\n",
      " [[ 5  6  3]\n",
      "  [ 7  8  5]]\n",
      "\n",
      " [[ 9 10  6]\n",
      "  [11 12  7]]]\n",
      "int32\n",
      "(3, 2, 3)\n"
     ]
    }
   ],
   "source": [
    "import numpy as np\n",
    "a=np.array(\n",
    "    [\n",
    "    [[1,2,5],[3,4,1]],\n",
    "    [[5,6,3], [7,8,5]],\n",
    "    [[9,10,6],[11,12,7]]    \n",
    "     ]\n",
    ")\n",
    "print(a)\n",
    "print(a.dtype)\n",
    "print(a.shape)"
   ]
  },
  {
   "cell_type": "markdown",
   "id": "88d18ebd",
   "metadata": {},
   "source": [
    "# CREATE A 3-D ARRAY USING ARANGE()"
   ]
  },
  {
   "cell_type": "code",
   "execution_count": 13,
   "id": "9ae72201",
   "metadata": {},
   "outputs": [
    {
     "name": "stdout",
     "output_type": "stream",
     "text": [
      "[[[ 1  2]\n",
      "  [ 3  4]\n",
      "  [ 5  6]]\n",
      "\n",
      " [[ 7  8]\n",
      "  [ 9 10]\n",
      "  [11 12]]\n",
      "\n",
      " [[13 14]\n",
      "  [15 16]\n",
      "  [17 18]]]\n",
      "\n",
      "int32\n",
      "(3, 3, 2)\n"
     ]
    }
   ],
   "source": [
    "import numpy as np\n",
    "a=np.arange(1,19).reshape(3,3,2)  #MULTIPLY MUST RESULT SAME RANGE\n",
    "print(a)\n",
    "print()\n",
    "print(a.dtype)\n",
    "print(a.shape)"
   ]
  },
  {
   "cell_type": "markdown",
   "id": "6944f12a",
   "metadata": {},
   "source": [
    "# CREATING ARRAY OF ONES (1-D)"
   ]
  },
  {
   "cell_type": "code",
   "execution_count": 18,
   "id": "407e2bde",
   "metadata": {},
   "outputs": [
    {
     "name": "stdout",
     "output_type": "stream",
     "text": [
      "[1 1 1 1 1 1 1 1 1 1]\n",
      "int32\n",
      "(10,)\n"
     ]
    }
   ],
   "source": [
    "import numpy as np\n",
    "a=np.ones(10,dtype=int)\n",
    "print(a)\n",
    "print(a.dtype)\n",
    "print(a.shape)"
   ]
  },
  {
   "cell_type": "markdown",
   "id": "1540d665",
   "metadata": {},
   "source": [
    "# CREATING ARRAY OF ONES(2-D)"
   ]
  },
  {
   "cell_type": "code",
   "execution_count": 19,
   "id": "3bc4d359",
   "metadata": {},
   "outputs": [
    {
     "name": "stdout",
     "output_type": "stream",
     "text": [
      "[[1 1 1]\n",
      " [1 1 1]\n",
      " [1 1 1]]\n",
      "int32\n",
      "(10,)\n"
     ]
    }
   ],
   "source": [
    "import numpy as np\n",
    "b=np.ones((3,3),dtype=int)\n",
    "print(b)\n",
    "print(a.dtype)\n",
    "print(a.shape)"
   ]
  },
  {
   "cell_type": "markdown",
   "id": "254cb792",
   "metadata": {},
   "source": [
    "# CREATING ARRAY OF ONES(3-D)"
   ]
  },
  {
   "cell_type": "code",
   "execution_count": 24,
   "id": "c8a43a1a",
   "metadata": {},
   "outputs": [
    {
     "name": "stdout",
     "output_type": "stream",
     "text": [
      "[[[1 1]\n",
      "  [1 1]\n",
      "  [1 1]]\n",
      "\n",
      " [[1 1]\n",
      "  [1 1]\n",
      "  [1 1]]\n",
      "\n",
      " [[1 1]\n",
      "  [1 1]\n",
      "  [1 1]]]\n",
      "int32\n",
      "(3, 3, 2)\n"
     ]
    }
   ],
   "source": [
    "import numpy as np\n",
    "a=np.ones((3,3,2),dtype=int)\n",
    "print(a)\n",
    "print(a.dtype)\n",
    "print(a.shape)"
   ]
  },
  {
   "cell_type": "markdown",
   "id": "125a7325",
   "metadata": {},
   "source": [
    "# CREATING ARRAY OF ZEROS(1-D)"
   ]
  },
  {
   "cell_type": "code",
   "execution_count": 25,
   "id": "8d1eeb46",
   "metadata": {},
   "outputs": [
    {
     "name": "stdout",
     "output_type": "stream",
     "text": [
      "[0 0 0]\n",
      "int32\n",
      "(3,)\n"
     ]
    }
   ],
   "source": [
    "import numpy as np\n",
    "a= np.zeros(3,dtype=np.int32)\n",
    "print(a)\n",
    "print(a.dtype)\n",
    "print(a.shape)"
   ]
  },
  {
   "cell_type": "markdown",
   "id": "82b95983",
   "metadata": {},
   "source": [
    "# CREATING ARRAY OF ZEROS(2-D)"
   ]
  },
  {
   "cell_type": "code",
   "execution_count": 26,
   "id": "56c335cf",
   "metadata": {},
   "outputs": [
    {
     "name": "stdout",
     "output_type": "stream",
     "text": [
      "[[0 0 0]\n",
      " [0 0 0]\n",
      " [0 0 0]]\n",
      "int32\n",
      "(3, 3)\n"
     ]
    }
   ],
   "source": [
    "import numpy as np\n",
    "a=np.zeros((3,3),dtype=\"int32\")\n",
    "print(a)\n",
    "print(a.dtype)\n",
    "print(a.shape)"
   ]
  },
  {
   "cell_type": "markdown",
   "id": "758b60e6",
   "metadata": {},
   "source": [
    "# CREATING ARRAY OF ZEROS(3-D)"
   ]
  },
  {
   "cell_type": "code",
   "execution_count": 28,
   "id": "1b10533f",
   "metadata": {},
   "outputs": [
    {
     "name": "stdout",
     "output_type": "stream",
     "text": [
      "[[[0 0 0]\n",
      "  [0 0 0]\n",
      "  [0 0 0]]\n",
      "\n",
      " [[0 0 0]\n",
      "  [0 0 0]\n",
      "  [0 0 0]]\n",
      "\n",
      " [[0 0 0]\n",
      "  [0 0 0]\n",
      "  [0 0 0]]]\n",
      "int32\n",
      "(3, 3, 3)\n"
     ]
    }
   ],
   "source": [
    "import numpy as np\n",
    "a=np.zeros((3,3,3),dtype=int)\n",
    "print(a)\n",
    "print(a.dtype)\n",
    "print(a.shape)"
   ]
  },
  {
   "cell_type": "markdown",
   "id": "9a9bc6f3",
   "metadata": {},
   "source": [
    "# CREATE AN ARRAY WITH RANDOM NUMBERS(1-D)"
   ]
  },
  {
   "cell_type": "code",
   "execution_count": 32,
   "id": "ac7cbb30",
   "metadata": {},
   "outputs": [
    {
     "name": "stdout",
     "output_type": "stream",
     "text": [
      "[3 1 4 5]\n",
      "int32\n",
      "(4,)\n"
     ]
    }
   ],
   "source": [
    "import numpy as np\n",
    "a=np.random.randint(1,6,size=4) #1-10 size=reshape\n",
    "print(a)\n",
    "print(a.dtype)\n",
    "print(a.shape)"
   ]
  },
  {
   "cell_type": "markdown",
   "id": "048eab95",
   "metadata": {},
   "source": [
    "# CREATE AN ARRAY WITH RANDOM NUMBERS(2-D)"
   ]
  },
  {
   "cell_type": "code",
   "execution_count": 33,
   "id": "822f0fd7",
   "metadata": {},
   "outputs": [
    {
     "name": "stdout",
     "output_type": "stream",
     "text": [
      "[[ 8  8  2]\n",
      " [ 4  8  4]\n",
      " [ 1  2 10]]\n",
      "int32\n",
      "(3, 3)\n"
     ]
    }
   ],
   "source": [
    "import numpy as np\n",
    "a=np.random.randint(1,11,size=(3,3))\n",
    "print(a)\n",
    "print(a.dtype)\n",
    "print(a.shape)"
   ]
  },
  {
   "cell_type": "markdown",
   "id": "b0d1396b",
   "metadata": {},
   "source": [
    "# CREATE AN ARRAY WITH RANDOM NUMBERS(3-D)"
   ]
  },
  {
   "cell_type": "code",
   "execution_count": 34,
   "id": "58b4371c",
   "metadata": {},
   "outputs": [
    {
     "name": "stdout",
     "output_type": "stream",
     "text": [
      "[[[4 2 3]\n",
      "  [4 2 9]]\n",
      "\n",
      " [[1 2 7]\n",
      "  [6 1 9]]\n",
      "\n",
      " [[6 2 5]\n",
      "  [9 5 8]]]\n",
      "int32\n",
      "(3, 2, 3)\n"
     ]
    }
   ],
   "source": [
    "import numpy as np\n",
    "a=np.random.randint(1,11,size=(3,2,3))\n",
    "print(a)\n",
    "print(a.dtype)\n",
    "print(a.shape)"
   ]
  },
  {
   "cell_type": "markdown",
   "id": "ed190e5c",
   "metadata": {},
   "source": [
    "# CREATE ARRAY WITH SINGLE LOW MULTIPLE HIGH"
   ]
  },
  {
   "cell_type": "code",
   "execution_count": 35,
   "id": "3956f4bf",
   "metadata": {},
   "outputs": [
    {
     "name": "stdout",
     "output_type": "stream",
     "text": [
      "[ 8 11 12]\n",
      "int32\n",
      "(3,)\n"
     ]
    }
   ],
   "source": [
    "import numpy as np\n",
    "a=np.random.randint(5,[10,20,30])\n",
    "print(a)\n",
    "print(a.dtype)\n",
    "print(a.shape)"
   ]
  },
  {
   "cell_type": "markdown",
   "id": "2b8aa75b",
   "metadata": {},
   "source": [
    "# CREATE ARRAY WITH MULTIPLE LOW SINGLE HIGH"
   ]
  },
  {
   "cell_type": "code",
   "execution_count": 36,
   "id": "c3e00333",
   "metadata": {},
   "outputs": [
    {
     "name": "stdout",
     "output_type": "stream",
     "text": [
      "[24 23 35]\n",
      "int32\n",
      "(3,)\n"
     ]
    }
   ],
   "source": [
    "import numpy as np\n",
    "a=np.random.randint([10,20,30],50)\n",
    "print(a)\n",
    "print(a.dtype)\n",
    "print(a.shape)"
   ]
  },
  {
   "cell_type": "markdown",
   "id": "a69abcd3",
   "metadata": {},
   "source": [
    "# CREATE 3-D ARRAY WITH MULTIPLE LOW MULTIPLE HIGH\n"
   ]
  },
  {
   "cell_type": "code",
   "execution_count": 37,
   "id": "36d32ad7",
   "metadata": {},
   "outputs": [
    {
     "name": "stdout",
     "output_type": "stream",
     "text": [
      "[[[1 3 3]\n",
      "  [2 3 4]]\n",
      "\n",
      " [[2 4 3]\n",
      "  [1 4 5]]\n",
      "\n",
      " [[2 2 4]\n",
      "  [1 3 3]]]\n",
      "int32\n",
      "(3, 2, 3)\n"
     ]
    }
   ],
   "source": [
    "import numpy as np\n",
    "a=np.random.randint([1,2,3],[3,5,6],size=(3,2,3))      \n",
    "print(a)\n",
    "print(a.dtype)\n",
    "print(a.shape)"
   ]
  },
  {
   "cell_type": "markdown",
   "id": "e941f7e5",
   "metadata": {},
   "source": [
    "# CREATE AN ARRAY USING RANDN()"
   ]
  },
  {
   "cell_type": "code",
   "execution_count": 38,
   "id": "027c70d0",
   "metadata": {},
   "outputs": [
    {
     "name": "stdout",
     "output_type": "stream",
     "text": [
      "[1.38237657 0.07293133 0.36839571]\n",
      "float64\n"
     ]
    }
   ],
   "source": [
    "import numpy as np\n",
    "a = np.random.randn(3) #n=ANY FLOATING VALUE\n",
    "print(a)\n",
    "print(a.dtype)"
   ]
  },
  {
   "cell_type": "code",
   "execution_count": 39,
   "id": "9125d9f2",
   "metadata": {},
   "outputs": [
    {
     "name": "stdout",
     "output_type": "stream",
     "text": [
      "[[-0.87766483 -0.57595972  0.73457371]\n",
      " [-0.54251247  0.04365172  0.08215135]\n",
      " [ 0.62916341 -0.66860207  1.72637068]]\n"
     ]
    }
   ],
   "source": [
    "import numpy as np\n",
    "a = np.random.randn(3,3)\n",
    "print(a)"
   ]
  },
  {
   "cell_type": "markdown",
   "id": "bd4886d1",
   "metadata": {},
   "source": [
    "# CREATE AN ARRAY USING RAND()"
   ]
  },
  {
   "cell_type": "code",
   "execution_count": 40,
   "id": "76b9fb08",
   "metadata": {},
   "outputs": [
    {
     "name": "stdout",
     "output_type": "stream",
     "text": [
      "[[0.39526042 0.8253705  0.71064769]\n",
      " [0.9550491  0.67821205 0.9337468 ]\n",
      " [0.76858927 0.35050862 0.27117696]]\n",
      "float64\n"
     ]
    }
   ],
   "source": [
    "import numpy as np\n",
    "a = np.random.rand(3,3)\n",
    "print(a)\n",
    "print(a.dtype)"
   ]
  },
  {
   "cell_type": "code",
   "execution_count": 41,
   "id": "266b4692",
   "metadata": {},
   "outputs": [
    {
     "name": "stdout",
     "output_type": "stream",
     "text": [
      "[[[0.84809285 0.87732849]\n",
      "  [0.96243753 0.54065067]]\n",
      "\n",
      " [[0.9297484  0.95638831]\n",
      "  [0.00302923 0.33572276]]\n",
      "\n",
      " [[0.73728646 0.53053052]\n",
      "  [0.94650649 0.58922954]]]\n",
      "float64\n"
     ]
    }
   ],
   "source": [
    "import numpy as np\n",
    "a = np.random.rand(3,2,2)\n",
    "print(a)\n",
    "print(a.dtype)"
   ]
  },
  {
   "cell_type": "markdown",
   "id": "7fe88cb4",
   "metadata": {},
   "source": [
    "# POSITIVE INDEXING IN ARRAY"
   ]
  },
  {
   "cell_type": "code",
   "execution_count": 42,
   "id": "ba11031c",
   "metadata": {},
   "outputs": [
    {
     "name": "stdout",
     "output_type": "stream",
     "text": [
      "4\n"
     ]
    }
   ],
   "source": [
    "#ARRAY IN 1-D\n",
    "import numpy as np\n",
    "arr = np.array([1,2,3,4,5])\n",
    "print(arr[3])"
   ]
  },
  {
   "cell_type": "code",
   "execution_count": 43,
   "id": "b19d0917",
   "metadata": {},
   "outputs": [
    {
     "name": "stdout",
     "output_type": "stream",
     "text": [
      "6\n",
      "2\n"
     ]
    }
   ],
   "source": [
    "#ARRAY IN 2-D\n",
    "import numpy as np\n",
    "arr=np.array([[1,2,3],[4,5,6]])\n",
    "print(arr[1,2])\n",
    "print(arr[0,1])"
   ]
  },
  {
   "cell_type": "code",
   "execution_count": 44,
   "id": "0cada111",
   "metadata": {},
   "outputs": [
    {
     "name": "stdout",
     "output_type": "stream",
     "text": [
      "8\n",
      "9\n"
     ]
    }
   ],
   "source": [
    "#ARRAY IN 3-D\n",
    "import numpy as np\n",
    "arr=np.array([[[1,2,3],[1,2,3]],[[1,1,1],[2,2,2]],[[3,8,3],[4,9,4]]])\n",
    "print(arr[2,0,1])\n",
    "print(arr[2,1,1])"
   ]
  },
  {
   "cell_type": "markdown",
   "id": "84f43422",
   "metadata": {},
   "source": [
    "# NEGATIVE INDEXING IN ARRAY\n"
   ]
  },
  {
   "cell_type": "code",
   "execution_count": 45,
   "id": "db9802e0",
   "metadata": {},
   "outputs": [
    {
     "name": "stdout",
     "output_type": "stream",
     "text": [
      "14\n",
      "2\n",
      "12\n"
     ]
    }
   ],
   "source": [
    "#ARRAY IN 2-D\n",
    "import numpy as np\n",
    "arr = np.array([[1,2,3],[4,5,6],[11,12,13],[14,15,16]])\n",
    "print(arr[-1,-3])\n",
    "print(arr[-4,-2])\n",
    "print(arr[-2,-2])"
   ]
  },
  {
   "cell_type": "code",
   "execution_count": 46,
   "id": "50a9edbf",
   "metadata": {},
   "outputs": [
    {
     "name": "stdout",
     "output_type": "stream",
     "text": [
      "2\n"
     ]
    }
   ],
   "source": [
    "#ARRAY IN 3-D\n",
    "import numpy as np\n",
    "arr = np.array([[[1,2,3],[4,5,6]],[[1,1,1],[2,2,2]],[[3,3,3],[4,4,4]]])\n",
    "#print(arr)\n",
    "print(arr[-3,-2,-2])"
   ]
  },
  {
   "cell_type": "markdown",
   "id": "75a0fdc5",
   "metadata": {},
   "source": [
    "# MIX (+,-,+)"
   ]
  },
  {
   "cell_type": "code",
   "execution_count": 47,
   "id": "22e65168",
   "metadata": {},
   "outputs": [
    {
     "name": "stdout",
     "output_type": "stream",
     "text": [
      "5\n",
      "6\n",
      "8\n",
      "5\n",
      "2\n"
     ]
    }
   ],
   "source": [
    "#ARRAY IN 3-D\n",
    "import numpy as np\n",
    "arr = np.array([[[1,2,3],[4,5,6]],[[1,8,1],[2,5,2]],[[3,3,3],[4,4,4]]])\n",
    "print(arr[-2,-1,-2])\n",
    "print(arr[0,-1,2])\n",
    "print(arr[1,-2,1])\n",
    "print(arr[1,-1,1])\n",
    "print(arr[-3,-2,1])"
   ]
  },
  {
   "cell_type": "markdown",
   "id": "3e8f68c1",
   "metadata": {},
   "source": [
    "# NUMPY ARRAY SLICING"
   ]
  },
  {
   "cell_type": "markdown",
   "id": "308f703a",
   "metadata": {},
   "source": [
    "Slice elements from index 1 to index 5 from the following array :"
   ]
  },
  {
   "cell_type": "code",
   "execution_count": 48,
   "id": "37811718",
   "metadata": {},
   "outputs": [
    {
     "name": "stdout",
     "output_type": "stream",
     "text": [
      "[2 3 4 5]\n"
     ]
    }
   ],
   "source": [
    "import numpy as np\n",
    "a = np.array([1,2,3,4,5,6,7])\n",
    "print(a[1:5])"
   ]
  },
  {
   "cell_type": "markdown",
   "id": "1a5fb749",
   "metadata": {},
   "source": [
    "Slice elements from index 4 to the end of the array"
   ]
  },
  {
   "cell_type": "code",
   "execution_count": 49,
   "id": "f0fba697",
   "metadata": {},
   "outputs": [
    {
     "name": "stdout",
     "output_type": "stream",
     "text": [
      "[5 6 7]\n"
     ]
    }
   ],
   "source": [
    "import numpy as np\n",
    "arr=np.array([1,2,3,4,5,6,7])\n",
    "print(arr[4:])"
   ]
  },
  {
   "cell_type": "markdown",
   "id": "9d3b01e5",
   "metadata": {},
   "source": [
    "Slice elements from the beginning to index 4(not included)"
   ]
  },
  {
   "cell_type": "code",
   "execution_count": 50,
   "id": "b0d9aabe",
   "metadata": {},
   "outputs": [
    {
     "name": "stdout",
     "output_type": "stream",
     "text": [
      "[1 2 3 4]\n"
     ]
    }
   ],
   "source": [
    "import numpy as np\n",
    "arr=np.array([1,2,3,4,5,6,7])\n",
    "print(arr[:4])"
   ]
  },
  {
   "cell_type": "markdown",
   "id": "460e23a6",
   "metadata": {},
   "source": [
    "# NEGATIVE SLICING"
   ]
  },
  {
   "cell_type": "markdown",
   "id": "bb7dbf1a",
   "metadata": {},
   "source": [
    "Slice from the index 3 from the end to index 1 from the end"
   ]
  },
  {
   "cell_type": "code",
   "execution_count": 51,
   "id": "d00d7863",
   "metadata": {},
   "outputs": [
    {
     "name": "stdout",
     "output_type": "stream",
     "text": [
      "[5 6]\n"
     ]
    }
   ],
   "source": [
    "import numpy as np\n",
    "arr=np.array([1,2,3,4,5,6,7])\n",
    "print(arr[-3:-1])"
   ]
  },
  {
   "cell_type": "markdown",
   "id": "b9cdcc77",
   "metadata": {},
   "source": [
    "Return every other element from index 1 to index 5"
   ]
  },
  {
   "cell_type": "code",
   "execution_count": 57,
   "id": "25d034a2",
   "metadata": {},
   "outputs": [
    {
     "name": "stdout",
     "output_type": "stream",
     "text": [
      "[7 5]\n"
     ]
    }
   ],
   "source": [
    "import numpy as np\n",
    "arr=np.array([1,2,3,4,5,6,7])\n",
    "print(arr[-1:-5:-2])"
   ]
  },
  {
   "cell_type": "code",
   "execution_count": null,
   "id": "21b6dbe5",
   "metadata": {},
   "outputs": [],
   "source": [
    "# Return every other element from the entire array"
   ]
  },
  {
   "cell_type": "code",
   "execution_count": 58,
   "id": "484bdc57",
   "metadata": {},
   "outputs": [
    {
     "name": "stdout",
     "output_type": "stream",
     "text": [
      "[7 5 3 1]\n"
     ]
    }
   ],
   "source": [
    "import numpy as np\n",
    "arr=np.array([1,2,3,4,5,6,7])\n",
    "print(arr[::-2])"
   ]
  },
  {
   "cell_type": "markdown",
   "id": "eaf745b4",
   "metadata": {},
   "source": [
    "# SLICING 2-D ARRAY"
   ]
  },
  {
   "cell_type": "markdown",
   "id": "557146e5",
   "metadata": {},
   "source": [
    "From the second element,slice elements from index 1 to index 4 (not included):"
   ]
  },
  {
   "cell_type": "code",
   "execution_count": 59,
   "id": "7741f0ce",
   "metadata": {},
   "outputs": [
    {
     "name": "stdout",
     "output_type": "stream",
     "text": [
      "[5 6 7]\n"
     ]
    }
   ],
   "source": [
    "import numpy as np\n",
    "arr=np.array([[1,2,3,4,5],[4,5,6,7,8]])\n",
    "print(arr[1,1:4])"
   ]
  },
  {
   "cell_type": "markdown",
   "id": "dfe8a296",
   "metadata": {},
   "source": [
    "From both arrays ,return index 2"
   ]
  },
  {
   "cell_type": "code",
   "execution_count": 60,
   "id": "883bf53a",
   "metadata": {},
   "outputs": [
    {
     "name": "stdout",
     "output_type": "stream",
     "text": [
      "[3 8]\n"
     ]
    }
   ],
   "source": [
    "import numpy as np\n",
    "arr = np.array([[1,2,3,4,5],[6,7,8,9,10]])\n",
    "print(arr[0:2,2])"
   ]
  },
  {
   "cell_type": "markdown",
   "id": "f85ec012",
   "metadata": {},
   "source": [
    "From both elements ,slice index 1 to index 4 (not included),this wll return a 2-D array:"
   ]
  },
  {
   "cell_type": "code",
   "execution_count": 61,
   "id": "e088aabc",
   "metadata": {},
   "outputs": [
    {
     "name": "stdout",
     "output_type": "stream",
     "text": [
      "[[2 3 4]\n",
      " [7 8 9]]\n"
     ]
    }
   ],
   "source": [
    "import numpy as np\n",
    "arr = np.array([[1,2,3,4,5],[6,7,8,9,10]])\n",
    "print(arr[0:,1:4])"
   ]
  },
  {
   "cell_type": "code",
   "execution_count": null,
   "id": "36995efa",
   "metadata": {},
   "outputs": [],
   "source": []
  }
 ],
 "metadata": {
  "kernelspec": {
   "display_name": "Python 3 (ipykernel)",
   "language": "python",
   "name": "python3"
  },
  "language_info": {
   "codemirror_mode": {
    "name": "ipython",
    "version": 3
   },
   "file_extension": ".py",
   "mimetype": "text/x-python",
   "name": "python",
   "nbconvert_exporter": "python",
   "pygments_lexer": "ipython3",
   "version": "3.9.12"
  }
 },
 "nbformat": 4,
 "nbformat_minor": 5
}
