{
 "cells": [
  {
   "cell_type": "markdown",
   "id": "2c4dd72a",
   "metadata": {},
   "source": [
    "# import MySQL connector"
   ]
  },
  {
   "cell_type": "code",
   "execution_count": 8,
   "id": "6e3c4f83",
   "metadata": {},
   "outputs": [],
   "source": [
    "import mysql.connector as con"
   ]
  },
  {
   "cell_type": "markdown",
   "id": "841090f1",
   "metadata": {},
   "source": [
    "# connect to database"
   ]
  },
  {
   "cell_type": "code",
   "execution_count": 1,
   "id": "de3eb058",
   "metadata": {},
   "outputs": [
    {
     "name": "stdout",
     "output_type": "stream",
     "text": [
      "<mysql.connector.connection_cext.CMySQLConnection object at 0x0000020862DB0040>\n"
     ]
    }
   ],
   "source": [
    "import mysql.connector as con\n",
    "new_db = con.connect(\n",
    "    host = \"localhost\",\n",
    "    user = \"root\",\n",
    "    password = \"root\"\n",
    ")\n",
    "print (new_db)\n"
   ]
  },
  {
   "cell_type": "code",
   "execution_count": 2,
   "id": "48eed116",
   "metadata": {},
   "outputs": [],
   "source": [
    "import mysql.connector as con\n",
    "new_db = con.connect(\n",
    "    host = \"localhost\",\n",
    "    user = \"root\",\n",
    "    password = \"root\"\n",
    ")\n",
    "cur = new_db.cursor()\n",
    "cur.execute(\" CREATE DATABASE mydata\")"
   ]
  },
  {
   "cell_type": "markdown",
   "id": "16056fcb",
   "metadata": {},
   "source": [
    "# creat table"
   ]
  },
  {
   "cell_type": "code",
   "execution_count": 11,
   "id": "9d2682ab",
   "metadata": {},
   "outputs": [],
   "source": [
    "import mysql.connector as con\n",
    "new_db = con.connect(\n",
    "    host = \"localhost\",\n",
    "    user = \"root\",\n",
    "    password = \"root\",\n",
    "    database = \"mydata\"\n",
    ")\n",
    "cur = new_db.cursor()\n",
    "query = \"CREATE TABLE info ( address varchar(20), mblno varchar(20))\"\n",
    "cur.execute(query)"
   ]
  },
  {
   "cell_type": "markdown",
   "id": "f9ed99c6",
   "metadata": {},
   "source": [
    "# list tables of created database"
   ]
  },
  {
   "cell_type": "code",
   "execution_count": 12,
   "id": "a30bfcfe",
   "metadata": {},
   "outputs": [
    {
     "name": "stdout",
     "output_type": "stream",
     "text": [
      "('info',)\n",
      "('marks',)\n",
      "('student',)\n"
     ]
    }
   ],
   "source": [
    "import mysql.connector as con\n",
    "new_db = con.connect(\n",
    "    host = \"localhost\",\n",
    "    user = \"root\",\n",
    "    password = \"root\",\n",
    "    database = \"mydata\"\n",
    ")\n",
    "cur = new_db.cursor()\n",
    "query = \" SHOW TABLES\"\n",
    "cur.execute(query)\n",
    "for a in cur:\n",
    "    print(a)"
   ]
  },
  {
   "cell_type": "markdown",
   "id": "58eb5642",
   "metadata": {},
   "source": [
    "# inserting data"
   ]
  },
  {
   "cell_type": "code",
   "execution_count": 15,
   "id": "608ad6e7",
   "metadata": {},
   "outputs": [
    {
     "name": "stdout",
     "output_type": "stream",
     "text": [
      "1 new row inserted\n"
     ]
    }
   ],
   "source": [
    "import mysql.connector as con\n",
    "new_db = con.connect(\n",
    "    host = \"localhost\",\n",
    "    user = \"root\",\n",
    "    password = \"root\",\n",
    "    database = \"mydata\"\n",
    ")\n",
    "cur = new_db.cursor()\n",
    "query = \" INSERT INTO student (name , regno) VALUES ('avadhoot','393CS20013')\"\n",
    "cur.execute(query)\n",
    "new_db.commit()\n",
    "a= cur.rowcount\n",
    "print(a,\"new row inserted\")"
   ]
  },
  {
   "cell_type": "markdown",
   "id": "c198af88",
   "metadata": {},
   "source": [
    "# inserting multiple records into table"
   ]
  },
  {
   "cell_type": "code",
   "execution_count": 20,
   "id": "32756763",
   "metadata": {},
   "outputs": [
    {
     "name": "stdout",
     "output_type": "stream",
     "text": [
      "3 new row inserted\n"
     ]
    }
   ],
   "source": [
    "import mysql.connector as con\n",
    "new_db = con.connect(\n",
    "    host = \"localhost\",\n",
    "    user = \"root\",\n",
    "    password = \"root\",\n",
    "    database = \"mydata\"\n",
    ")\n",
    "cur = new_db.cursor()\n",
    "query = \" INSERT INTO student (name , regno) VALUES (%s,%s)\"\n",
    "values = [(\"abhinav\",\"393CS2001\"),\n",
    "         (\"akash\",\"393CS2002\"),\n",
    "          (\"avadhoot\",\"393CS20013\")\n",
    "         ]\n",
    "cur.executemany(query,values)\n",
    "new_db.commit()\n",
    "a= cur.rowcount\n",
    "print(a,\"new row inserted\")"
   ]
  },
  {
   "cell_type": "markdown",
   "id": "dfc9b476",
   "metadata": {},
   "source": [
    "# DISPLAY THE RECORDS FROM TABLE"
   ]
  },
  {
   "cell_type": "code",
   "execution_count": 22,
   "id": "71766ca5",
   "metadata": {},
   "outputs": [
    {
     "name": "stdout",
     "output_type": "stream",
     "text": [
      "('avadhoot', '393CS20013')\n",
      "('abhinav', '393CS2001')\n",
      "('akash', '393CS2002')\n",
      "('abhinav', '393CS2001')\n",
      "('akash', '393CS2002')\n",
      "('avadhoot', '393CS20013')\n"
     ]
    }
   ],
   "source": [
    "import mysql.connector as con\n",
    "new_db = con.connect(\n",
    "    host = \"localhost\",\n",
    "    user = \"root\",\n",
    "    password = \"root\",\n",
    "    database = \"mydata\"\n",
    ")\n",
    "cur = new_db.cursor()\n",
    "query = \" SELECT * FROM  student\"\n",
    "cur.execute(query)\n",
    "for i in cur:\n",
    "    print(i)"
   ]
  },
  {
   "cell_type": "markdown",
   "id": "fed03a33",
   "metadata": {},
   "source": [
    "# displya perticular record from database"
   ]
  },
  {
   "cell_type": "code",
   "execution_count": 1,
   "id": "6eaee2d4",
   "metadata": {},
   "outputs": [
    {
     "name": "stdout",
     "output_type": "stream",
     "text": [
      "('avadhoot',)\n",
      "('abhinav',)\n",
      "('akash',)\n",
      "('abhinav',)\n",
      "('akash',)\n",
      "('avadhoot',)\n"
     ]
    }
   ],
   "source": [
    "import mysql.connector as con\n",
    "new_db = con.connect(\n",
    "    host = \"localhost\",\n",
    "    user = \"root\",\n",
    "    password = \"root\",\n",
    "    database = \"mydata\"\n",
    ")\n",
    "cur = new_db.cursor()\n",
    "query = \" SELECT name FROM  student\"\n",
    "cur.execute(query)\n",
    "for i in cur:\n",
    "    print(i)"
   ]
  },
  {
   "cell_type": "code",
   "execution_count": null,
   "id": "bad850b1",
   "metadata": {},
   "outputs": [],
   "source": []
  }
 ],
 "metadata": {
  "kernelspec": {
   "display_name": "Python 3 (ipykernel)",
   "language": "python",
   "name": "python3"
  },
  "language_info": {
   "codemirror_mode": {
    "name": "ipython",
    "version": 3
   },
   "file_extension": ".py",
   "mimetype": "text/x-python",
   "name": "python",
   "nbconvert_exporter": "python",
   "pygments_lexer": "ipython3",
   "version": "3.9.12"
  }
 },
 "nbformat": 4,
 "nbformat_minor": 5
}
