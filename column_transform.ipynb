{
 "cells": [
  {
   "cell_type": "markdown",
   "id": "a16c1bcc",
   "metadata": {},
   "source": [
    "# COLUMNS TRANSFORMATION"
   ]
  },
  {
   "cell_type": "code",
   "execution_count": 28,
   "id": "83f29b29",
   "metadata": {},
   "outputs": [],
   "source": [
    "from sklearn.preprocessing import OneHotEncoder\n",
    "from sklearn.impute import SimpleImputer\n",
    "from sklearn.preprocessing import OrdinalEncoder"
   ]
  },
  {
   "cell_type": "code",
   "execution_count": 29,
   "id": "113a22a3",
   "metadata": {},
   "outputs": [],
   "source": [
    "import pandas as pd\n",
    "import numpy as np"
   ]
  },
  {
   "cell_type": "code",
   "execution_count": 30,
   "id": "8fdb548d",
   "metadata": {},
   "outputs": [],
   "source": [
    "df=pd.read_csv('dataset/covid.csv')"
   ]
  },
  {
   "cell_type": "code",
   "execution_count": 31,
   "id": "40954d96",
   "metadata": {},
   "outputs": [
    {
     "data": {
      "text/html": [
       "<div>\n",
       "<style scoped>\n",
       "    .dataframe tbody tr th:only-of-type {\n",
       "        vertical-align: middle;\n",
       "    }\n",
       "\n",
       "    .dataframe tbody tr th {\n",
       "        vertical-align: top;\n",
       "    }\n",
       "\n",
       "    .dataframe thead th {\n",
       "        text-align: right;\n",
       "    }\n",
       "</style>\n",
       "<table border=\"1\" class=\"dataframe\">\n",
       "  <thead>\n",
       "    <tr style=\"text-align: right;\">\n",
       "      <th></th>\n",
       "      <th>age</th>\n",
       "      <th>gender</th>\n",
       "      <th>fever</th>\n",
       "      <th>cough</th>\n",
       "      <th>city</th>\n",
       "      <th>has_covid</th>\n",
       "    </tr>\n",
       "  </thead>\n",
       "  <tbody>\n",
       "    <tr>\n",
       "      <th>15</th>\n",
       "      <td>70</td>\n",
       "      <td>Male</td>\n",
       "      <td>103.0</td>\n",
       "      <td>Strong</td>\n",
       "      <td>Kolkata</td>\n",
       "      <td>Yes</td>\n",
       "    </tr>\n",
       "    <tr>\n",
       "      <th>74</th>\n",
       "      <td>34</td>\n",
       "      <td>Female</td>\n",
       "      <td>104.0</td>\n",
       "      <td>Strong</td>\n",
       "      <td>Delhi</td>\n",
       "      <td>No</td>\n",
       "    </tr>\n",
       "    <tr>\n",
       "      <th>3</th>\n",
       "      <td>31</td>\n",
       "      <td>Female</td>\n",
       "      <td>98.0</td>\n",
       "      <td>Mild</td>\n",
       "      <td>Kolkata</td>\n",
       "      <td>No</td>\n",
       "    </tr>\n",
       "    <tr>\n",
       "      <th>0</th>\n",
       "      <td>60</td>\n",
       "      <td>Male</td>\n",
       "      <td>103.0</td>\n",
       "      <td>Mild</td>\n",
       "      <td>Kolkata</td>\n",
       "      <td>No</td>\n",
       "    </tr>\n",
       "    <tr>\n",
       "      <th>90</th>\n",
       "      <td>59</td>\n",
       "      <td>Female</td>\n",
       "      <td>99.0</td>\n",
       "      <td>Strong</td>\n",
       "      <td>Delhi</td>\n",
       "      <td>No</td>\n",
       "    </tr>\n",
       "  </tbody>\n",
       "</table>\n",
       "</div>"
      ],
      "text/plain": [
       "    age  gender  fever   cough     city has_covid\n",
       "15   70    Male  103.0  Strong  Kolkata       Yes\n",
       "74   34  Female  104.0  Strong    Delhi        No\n",
       "3    31  Female   98.0    Mild  Kolkata        No\n",
       "0    60    Male  103.0    Mild  Kolkata        No\n",
       "90   59  Female   99.0  Strong    Delhi        No"
      ]
     },
     "execution_count": 31,
     "metadata": {},
     "output_type": "execute_result"
    }
   ],
   "source": [
    "df.sample(5)"
   ]
  },
  {
   "cell_type": "code",
   "execution_count": 32,
   "id": "e38891bb",
   "metadata": {},
   "outputs": [
    {
     "data": {
      "text/html": [
       "<div>\n",
       "<style scoped>\n",
       "    .dataframe tbody tr th:only-of-type {\n",
       "        vertical-align: middle;\n",
       "    }\n",
       "\n",
       "    .dataframe tbody tr th {\n",
       "        vertical-align: top;\n",
       "    }\n",
       "\n",
       "    .dataframe thead th {\n",
       "        text-align: right;\n",
       "    }\n",
       "</style>\n",
       "<table border=\"1\" class=\"dataframe\">\n",
       "  <thead>\n",
       "    <tr style=\"text-align: right;\">\n",
       "      <th></th>\n",
       "      <th>fever</th>\n",
       "    </tr>\n",
       "  </thead>\n",
       "  <tbody>\n",
       "    <tr>\n",
       "      <th>0</th>\n",
       "      <td>103.0</td>\n",
       "    </tr>\n",
       "    <tr>\n",
       "      <th>1</th>\n",
       "      <td>100.0</td>\n",
       "    </tr>\n",
       "    <tr>\n",
       "      <th>2</th>\n",
       "      <td>101.0</td>\n",
       "    </tr>\n",
       "    <tr>\n",
       "      <th>3</th>\n",
       "      <td>98.0</td>\n",
       "    </tr>\n",
       "    <tr>\n",
       "      <th>4</th>\n",
       "      <td>101.0</td>\n",
       "    </tr>\n",
       "    <tr>\n",
       "      <th>...</th>\n",
       "      <td>...</td>\n",
       "    </tr>\n",
       "    <tr>\n",
       "      <th>95</th>\n",
       "      <td>104.0</td>\n",
       "    </tr>\n",
       "    <tr>\n",
       "      <th>96</th>\n",
       "      <td>101.0</td>\n",
       "    </tr>\n",
       "    <tr>\n",
       "      <th>97</th>\n",
       "      <td>101.0</td>\n",
       "    </tr>\n",
       "    <tr>\n",
       "      <th>98</th>\n",
       "      <td>98.0</td>\n",
       "    </tr>\n",
       "    <tr>\n",
       "      <th>99</th>\n",
       "      <td>98.0</td>\n",
       "    </tr>\n",
       "  </tbody>\n",
       "</table>\n",
       "<p>100 rows × 1 columns</p>\n",
       "</div>"
      ],
      "text/plain": [
       "    fever\n",
       "0   103.0\n",
       "1   100.0\n",
       "2   101.0\n",
       "3    98.0\n",
       "4   101.0\n",
       "..    ...\n",
       "95  104.0\n",
       "96  101.0\n",
       "97  101.0\n",
       "98   98.0\n",
       "99   98.0\n",
       "\n",
       "[100 rows x 1 columns]"
      ]
     },
     "execution_count": 32,
     "metadata": {},
     "output_type": "execute_result"
    }
   ],
   "source": [
    "df[['fever']]"
   ]
  },
  {
   "cell_type": "code",
   "execution_count": 33,
   "id": "0820153f",
   "metadata": {},
   "outputs": [
    {
     "data": {
      "text/plain": [
       "age           0\n",
       "gender        0\n",
       "fever        10\n",
       "cough         0\n",
       "city          0\n",
       "has_covid     0\n",
       "dtype: int64"
      ]
     },
     "execution_count": 33,
     "metadata": {},
     "output_type": "execute_result"
    }
   ],
   "source": [
    "df.isnull().sum()"
   ]
  },
  {
   "cell_type": "markdown",
   "id": "3f29fab6",
   "metadata": {},
   "source": [
    "# 1. Aam Zindagi"
   ]
  },
  {
   "cell_type": "code",
   "execution_count": 34,
   "id": "753d1eec",
   "metadata": {},
   "outputs": [
    {
     "data": {
      "text/plain": [
       "(100, 1)"
      ]
     },
     "execution_count": 34,
     "metadata": {},
     "output_type": "execute_result"
    }
   ],
   "source": [
    "# adding simple imputer to fever col\n",
    "si=SimpleImputer()\n",
    "df_fever=si.fit_transform(df[['fever']])\n",
    "df_fever.shape\n",
    "#df_fever"
   ]
  },
  {
   "cell_type": "code",
   "execution_count": 35,
   "id": "c5b257d7",
   "metadata": {},
   "outputs": [
    {
     "data": {
      "text/plain": [
       "(100, 1)"
      ]
     },
     "execution_count": 35,
     "metadata": {},
     "output_type": "execute_result"
    }
   ],
   "source": [
    "#ordinal encoding -> cough\n",
    "oe=OrdinalEncoder(categories=[['Mild','Strong']])\n",
    "df_cough=oe.fit_transform(df[['cough']])\n",
    "df_cough.shape\n",
    "#df_cough"
   ]
  },
  {
   "cell_type": "code",
   "execution_count": 36,
   "id": "d910d7df",
   "metadata": {},
   "outputs": [
    {
     "data": {
      "text/plain": [
       "(100, 4)"
      ]
     },
     "execution_count": 36,
     "metadata": {},
     "output_type": "execute_result"
    }
   ],
   "source": [
    "#oneHotEncoder -> gender,city\n",
    "ohe=OneHotEncoder(drop='first',sparse=False)\n",
    "df_gender_city=ohe.fit_transform(df[['gender','city']])\n",
    "df_gender_city.shape\n",
    "#df_gender_city"
   ]
  },
  {
   "cell_type": "code",
   "execution_count": 37,
   "id": "45d621c2",
   "metadata": {},
   "outputs": [
    {
     "data": {
      "text/plain": [
       "(100, 2)"
      ]
     },
     "execution_count": 37,
     "metadata": {},
     "output_type": "execute_result"
    }
   ],
   "source": [
    "#extracting age\n",
    "df_Age=df.drop(columns=['gender','fever','cough','city']).values\n",
    "df_Age.shape\n",
    "#df_Age"
   ]
  },
  {
   "cell_type": "code",
   "execution_count": 38,
   "id": "0c5c9898",
   "metadata": {},
   "outputs": [
    {
     "data": {
      "text/plain": [
       "(100, 8)"
      ]
     },
     "execution_count": 38,
     "metadata": {},
     "output_type": "execute_result"
    }
   ],
   "source": [
    "df_transformed=np.concatenate((df_Age,df_fever,df_gender_city,df_cough),axis=1)\n",
    "#also the test data\n",
    "df_transformed.shape\n",
    "#df_transformed"
   ]
  },
  {
   "cell_type": "code",
   "execution_count": 39,
   "id": "b601751e",
   "metadata": {},
   "outputs": [],
   "source": [
    "#new_df=pd.DataFrame(df_transformed,columns=df.columns)"
   ]
  },
  {
   "cell_type": "markdown",
   "id": "a63437df",
   "metadata": {},
   "source": [
    "# Mentos Zindagi"
   ]
  },
  {
   "cell_type": "code",
   "execution_count": 40,
   "id": "5836fc12",
   "metadata": {},
   "outputs": [],
   "source": [
    "from sklearn.compose import ColumnTransformer"
   ]
  },
  {
   "cell_type": "code",
   "execution_count": 41,
   "id": "83abc842",
   "metadata": {},
   "outputs": [],
   "source": [
    "transformer=ColumnTransformer(transformers=[\n",
    "    ('tnf1',SimpleImputer(),['fever']),\n",
    "    ('tnf2',OrdinalEncoder(categories=[['Mild','Strong']]),['cough']),\n",
    "    ('tnf3',OneHotEncoder(sparse=False,drop='first'),['gender','city'])\n",
    "],remainder='passthrough')"
   ]
  },
  {
   "cell_type": "code",
   "execution_count": 42,
   "id": "bc50082c",
   "metadata": {},
   "outputs": [
    {
     "data": {
      "text/plain": [
       "(100, 8)"
      ]
     },
     "execution_count": 42,
     "metadata": {},
     "output_type": "execute_result"
    }
   ],
   "source": [
    "transformer.fit_transform(df).shape"
   ]
  },
  {
   "cell_type": "code",
   "execution_count": 43,
   "id": "094798c1",
   "metadata": {},
   "outputs": [],
   "source": [
    "#transformer.get_feature_names()"
   ]
  },
  {
   "cell_type": "raw",
   "id": "5a86e2c5",
   "metadata": {},
   "source": []
  },
  {
   "cell_type": "code",
   "execution_count": 44,
   "id": "57f649ea",
   "metadata": {},
   "outputs": [],
   "source": [
    "# transformer=ColumnTransformer(transformers=[\n",
    "#     ('tnf1',OneHotEncoder(sparse=False,drop='first'),['gender','city'])\n",
    "# ],remainder='passthrough')"
   ]
  },
  {
   "cell_type": "code",
   "execution_count": 45,
   "id": "bed3da67",
   "metadata": {},
   "outputs": [],
   "source": [
    "#newdf=pd.DataFrame(transfromer.fit_transform)"
   ]
  },
  {
   "cell_type": "code",
   "execution_count": null,
   "id": "8820e01c",
   "metadata": {},
   "outputs": [],
   "source": []
  },
  {
   "cell_type": "markdown",
   "id": "cfd1641f",
   "metadata": {},
   "source": [
    "# COLUMNS TRANSFORMATION"
   ]
  },
  {
   "cell_type": "code",
   "execution_count": 46,
   "id": "e67e3a68",
   "metadata": {},
   "outputs": [],
   "source": [
    "from sklearn.preprocessing import OneHotEncoder\n",
    "from sklearn.impute import SimpleImputer\n",
    "from sklearn.compose import make_column_transformer"
   ]
  },
  {
   "cell_type": "code",
   "execution_count": 47,
   "id": "c563f122",
   "metadata": {},
   "outputs": [
    {
     "data": {
      "text/html": [
       "<div>\n",
       "<style scoped>\n",
       "    .dataframe tbody tr th:only-of-type {\n",
       "        vertical-align: middle;\n",
       "    }\n",
       "\n",
       "    .dataframe tbody tr th {\n",
       "        vertical-align: top;\n",
       "    }\n",
       "\n",
       "    .dataframe thead th {\n",
       "        text-align: right;\n",
       "    }\n",
       "</style>\n",
       "<table border=\"1\" class=\"dataframe\">\n",
       "  <thead>\n",
       "    <tr style=\"text-align: right;\">\n",
       "      <th></th>\n",
       "      <th>age</th>\n",
       "      <th>gender</th>\n",
       "      <th>review</th>\n",
       "      <th>education</th>\n",
       "      <th>purchased</th>\n",
       "    </tr>\n",
       "  </thead>\n",
       "  <tbody>\n",
       "    <tr>\n",
       "      <th>0</th>\n",
       "      <td>30</td>\n",
       "      <td>Female</td>\n",
       "      <td>Average</td>\n",
       "      <td>School</td>\n",
       "      <td>No</td>\n",
       "    </tr>\n",
       "    <tr>\n",
       "      <th>1</th>\n",
       "      <td>68</td>\n",
       "      <td>Female</td>\n",
       "      <td>Poor</td>\n",
       "      <td>UG</td>\n",
       "      <td>No</td>\n",
       "    </tr>\n",
       "    <tr>\n",
       "      <th>2</th>\n",
       "      <td>70</td>\n",
       "      <td>Female</td>\n",
       "      <td>Good</td>\n",
       "      <td>PG</td>\n",
       "      <td>No</td>\n",
       "    </tr>\n",
       "    <tr>\n",
       "      <th>3</th>\n",
       "      <td>72</td>\n",
       "      <td>Female</td>\n",
       "      <td>Good</td>\n",
       "      <td>PG</td>\n",
       "      <td>No</td>\n",
       "    </tr>\n",
       "    <tr>\n",
       "      <th>4</th>\n",
       "      <td>16</td>\n",
       "      <td>Female</td>\n",
       "      <td>Average</td>\n",
       "      <td>UG</td>\n",
       "      <td>No</td>\n",
       "    </tr>\n",
       "  </tbody>\n",
       "</table>\n",
       "</div>"
      ],
      "text/plain": [
       "   age  gender   review education purchased\n",
       "0   30  Female  Average    School        No\n",
       "1   68  Female     Poor        UG        No\n",
       "2   70  Female     Good        PG        No\n",
       "3   72  Female     Good        PG        No\n",
       "4   16  Female  Average        UG        No"
      ]
     },
     "execution_count": 47,
     "metadata": {},
     "output_type": "execute_result"
    }
   ],
   "source": [
    "df = pd.read_csv('dataset/customer.csv')\n",
    "  \n",
    "df.head()"
   ]
  },
  {
   "cell_type": "code",
   "execution_count": 48,
   "id": "03465fa3",
   "metadata": {},
   "outputs": [],
   "source": [
    "ohe=OneHotEncoder()\n",
    "imp=SimpleImputer()"
   ]
  },
  {
   "cell_type": "code",
   "execution_count": 49,
   "id": "86806e5b",
   "metadata": {},
   "outputs": [],
   "source": [
    "ct=make_column_transformer(\n",
    "    (ohe,['review','education','gender']),\n",
    "    (imp,['age']),\n",
    "    remainder='passthrough')"
   ]
  },
  {
   "cell_type": "code",
   "execution_count": 50,
   "id": "15cb5f69",
   "metadata": {},
   "outputs": [
    {
     "data": {
      "text/plain": [
       "array([[1.0, 0.0, 0.0, 0.0, 1.0, 0.0, 1.0, 0.0, 30.0, 'No'],\n",
       "       [0.0, 0.0, 1.0, 0.0, 0.0, 1.0, 1.0, 0.0, 68.0, 'No'],\n",
       "       [0.0, 1.0, 0.0, 1.0, 0.0, 0.0, 1.0, 0.0, 70.0, 'No'],\n",
       "       [0.0, 1.0, 0.0, 1.0, 0.0, 0.0, 1.0, 0.0, 72.0, 'No'],\n",
       "       [1.0, 0.0, 0.0, 0.0, 0.0, 1.0, 1.0, 0.0, 16.0, 'No'],\n",
       "       [1.0, 0.0, 0.0, 0.0, 1.0, 0.0, 1.0, 0.0, 31.0, 'Yes'],\n",
       "       [0.0, 1.0, 0.0, 0.0, 1.0, 0.0, 0.0, 1.0, 18.0, 'No'],\n",
       "       [0.0, 0.0, 1.0, 0.0, 1.0, 0.0, 1.0, 0.0, 60.0, 'Yes'],\n",
       "       [1.0, 0.0, 0.0, 0.0, 0.0, 1.0, 1.0, 0.0, 65.0, 'No'],\n",
       "       [0.0, 1.0, 0.0, 0.0, 0.0, 1.0, 0.0, 1.0, 74.0, 'Yes'],\n",
       "       [0.0, 1.0, 0.0, 0.0, 0.0, 1.0, 1.0, 0.0, 98.0, 'Yes'],\n",
       "       [0.0, 1.0, 0.0, 0.0, 0.0, 1.0, 0.0, 1.0, 74.0, 'Yes'],\n",
       "       [0.0, 0.0, 1.0, 0.0, 1.0, 0.0, 0.0, 1.0, 51.0, 'No'],\n",
       "       [1.0, 0.0, 0.0, 0.0, 1.0, 0.0, 1.0, 0.0, 57.0, 'No'],\n",
       "       [0.0, 0.0, 1.0, 1.0, 0.0, 0.0, 0.0, 1.0, 15.0, 'Yes'],\n",
       "       [0.0, 0.0, 1.0, 0.0, 0.0, 1.0, 0.0, 1.0, 75.0, 'No'],\n",
       "       [0.0, 0.0, 1.0, 0.0, 0.0, 1.0, 0.0, 1.0, 59.0, 'Yes'],\n",
       "       [0.0, 0.0, 1.0, 0.0, 0.0, 1.0, 1.0, 0.0, 22.0, 'Yes'],\n",
       "       [0.0, 1.0, 0.0, 0.0, 1.0, 0.0, 0.0, 1.0, 19.0, 'No'],\n",
       "       [0.0, 0.0, 1.0, 1.0, 0.0, 0.0, 0.0, 1.0, 97.0, 'Yes'],\n",
       "       [1.0, 0.0, 0.0, 0.0, 1.0, 0.0, 1.0, 0.0, 57.0, 'Yes'],\n",
       "       [1.0, 0.0, 0.0, 1.0, 0.0, 0.0, 0.0, 1.0, 32.0, 'No'],\n",
       "       [0.0, 0.0, 1.0, 1.0, 0.0, 0.0, 1.0, 0.0, 18.0, 'Yes'],\n",
       "       [0.0, 1.0, 0.0, 0.0, 1.0, 0.0, 1.0, 0.0, 96.0, 'No'],\n",
       "       [1.0, 0.0, 0.0, 1.0, 0.0, 0.0, 1.0, 0.0, 16.0, 'Yes'],\n",
       "       [0.0, 1.0, 0.0, 0.0, 1.0, 0.0, 1.0, 0.0, 57.0, 'No'],\n",
       "       [0.0, 0.0, 1.0, 1.0, 0.0, 0.0, 1.0, 0.0, 53.0, 'No'],\n",
       "       [0.0, 0.0, 1.0, 1.0, 0.0, 0.0, 1.0, 0.0, 69.0, 'No'],\n",
       "       [0.0, 0.0, 1.0, 0.0, 1.0, 0.0, 0.0, 1.0, 48.0, 'No'],\n",
       "       [1.0, 0.0, 0.0, 0.0, 0.0, 1.0, 1.0, 0.0, 83.0, 'Yes'],\n",
       "       [1.0, 0.0, 0.0, 0.0, 0.0, 1.0, 0.0, 1.0, 73.0, 'No'],\n",
       "       [0.0, 0.0, 1.0, 0.0, 1.0, 0.0, 1.0, 0.0, 22.0, 'Yes'],\n",
       "       [1.0, 0.0, 0.0, 0.0, 0.0, 1.0, 0.0, 1.0, 92.0, 'Yes'],\n",
       "       [0.0, 1.0, 0.0, 1.0, 0.0, 0.0, 1.0, 0.0, 89.0, 'Yes'],\n",
       "       [1.0, 0.0, 0.0, 0.0, 1.0, 0.0, 0.0, 1.0, 86.0, 'No'],\n",
       "       [0.0, 0.0, 1.0, 0.0, 1.0, 0.0, 0.0, 1.0, 74.0, 'Yes'],\n",
       "       [0.0, 1.0, 0.0, 0.0, 0.0, 1.0, 1.0, 0.0, 34.0, 'Yes'],\n",
       "       [1.0, 0.0, 0.0, 1.0, 0.0, 0.0, 0.0, 1.0, 94.0, 'Yes'],\n",
       "       [0.0, 1.0, 0.0, 0.0, 1.0, 0.0, 1.0, 0.0, 45.0, 'No'],\n",
       "       [0.0, 0.0, 1.0, 1.0, 0.0, 0.0, 0.0, 1.0, 76.0, 'No'],\n",
       "       [0.0, 1.0, 0.0, 0.0, 1.0, 0.0, 0.0, 1.0, 39.0, 'No'],\n",
       "       [0.0, 1.0, 0.0, 1.0, 0.0, 0.0, 0.0, 1.0, 23.0, 'Yes'],\n",
       "       [0.0, 1.0, 0.0, 1.0, 0.0, 0.0, 1.0, 0.0, 30.0, 'Yes'],\n",
       "       [0.0, 0.0, 1.0, 1.0, 0.0, 0.0, 0.0, 1.0, 27.0, 'No'],\n",
       "       [1.0, 0.0, 0.0, 0.0, 0.0, 1.0, 1.0, 0.0, 77.0, 'No'],\n",
       "       [0.0, 0.0, 1.0, 1.0, 0.0, 0.0, 0.0, 1.0, 61.0, 'Yes'],\n",
       "       [0.0, 0.0, 1.0, 1.0, 0.0, 0.0, 1.0, 0.0, 64.0, 'No'],\n",
       "       [0.0, 1.0, 0.0, 1.0, 0.0, 0.0, 1.0, 0.0, 38.0, 'Yes'],\n",
       "       [0.0, 1.0, 0.0, 0.0, 0.0, 1.0, 1.0, 0.0, 39.0, 'Yes'],\n",
       "       [0.0, 1.0, 0.0, 0.0, 0.0, 1.0, 1.0, 0.0, 25.0, 'No']], dtype=object)"
      ]
     },
     "execution_count": 50,
     "metadata": {},
     "output_type": "execute_result"
    }
   ],
   "source": [
    "ct.fit_transform(df)"
   ]
  },
  {
   "cell_type": "code",
   "execution_count": null,
   "id": "f0dd4825",
   "metadata": {},
   "outputs": [],
   "source": []
  },
  {
   "cell_type": "code",
   "execution_count": null,
   "id": "6dba2d61",
   "metadata": {},
   "outputs": [],
   "source": []
  }
 ],
 "metadata": {
  "kernelspec": {
   "display_name": "Python 3 (ipykernel)",
   "language": "python",
   "name": "python3"
  },
  "language_info": {
   "codemirror_mode": {
    "name": "ipython",
    "version": 3
   },
   "file_extension": ".py",
   "mimetype": "text/x-python",
   "name": "python",
   "nbconvert_exporter": "python",
   "pygments_lexer": "ipython3",
   "version": "3.9.12"
  }
 },
 "nbformat": 4,
 "nbformat_minor": 5
}
