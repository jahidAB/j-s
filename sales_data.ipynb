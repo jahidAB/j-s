{
 "cells": [
  {
   "cell_type": "markdown",
   "id": "91edaf53",
   "metadata": {},
   "source": [
    "1. Write a Pandas program to create a Pivot table with multiple indexes from a given excel sheet (Salesdata.xlsx). "
   ]
  },
  {
   "cell_type": "code",
   "execution_count": null,
   "id": "4d8e82ff",
   "metadata": {},
   "outputs": [],
   "source": []
  },
  {
   "cell_type": "markdown",
   "id": "187c3034",
   "metadata": {},
   "source": [
    "2. Write a Pandas program to create a Pivot table and find the total sale amount region wise, manager wise."
   ]
  },
  {
   "cell_type": "code",
   "execution_count": null,
   "id": "b948bc2e",
   "metadata": {},
   "outputs": [],
   "source": []
  },
  {
   "cell_type": "markdown",
   "id": "2816e6de",
   "metadata": {},
   "source": [
    "3. Write a Pandas program to create a Pivot table and find the total sale amount region wise, manager wise, sales man wise. \n"
   ]
  },
  {
   "cell_type": "code",
   "execution_count": null,
   "id": "406bc746",
   "metadata": {},
   "outputs": [],
   "source": []
  },
  {
   "cell_type": "markdown",
   "id": "413bf488",
   "metadata": {},
   "source": [
    "4. Write a Pandas program to create a Pivot table and find the item wise unit sold. \n"
   ]
  },
  {
   "cell_type": "code",
   "execution_count": null,
   "id": "097d0b14",
   "metadata": {},
   "outputs": [],
   "source": []
  },
  {
   "cell_type": "markdown",
   "id": "c9549241",
   "metadata": {},
   "source": [
    "5. Write a Pandas program to create a Pivot table and find the region wise total sale. \n"
   ]
  },
  {
   "cell_type": "code",
   "execution_count": null,
   "id": "a5880aa0",
   "metadata": {},
   "outputs": [],
   "source": []
  },
  {
   "cell_type": "markdown",
   "id": "5d96786b",
   "metadata": {},
   "source": [
    "6. Write a Pandas program to create a Pivot table and find the region wise, item wise unit sold. \n"
   ]
  },
  {
   "cell_type": "code",
   "execution_count": null,
   "id": "3c62b97c",
   "metadata": {},
   "outputs": [],
   "source": []
  },
  {
   "cell_type": "markdown",
   "id": "d7dc0862",
   "metadata": {},
   "source": [
    "7. Write a Pandas program to create a Pivot table and count the manager wise sale and mean value of sale amount. \n"
   ]
  },
  {
   "cell_type": "code",
   "execution_count": null,
   "id": "d5d948dc",
   "metadata": {},
   "outputs": [],
   "source": []
  },
  {
   "cell_type": "markdown",
   "id": "0d3e34a7",
   "metadata": {},
   "source": [
    "8. Write a Pandas program to create a Pivot table and find manager wise, salesman wise total sale and also display the sum of all sale amount at the bottom. \n"
   ]
  },
  {
   "cell_type": "code",
   "execution_count": null,
   "id": "3cba6630",
   "metadata": {},
   "outputs": [],
   "source": []
  },
  {
   "cell_type": "markdown",
   "id": "1d3dd4d9",
   "metadata": {},
   "source": [
    "9. Write a Pandas program to create a Pivot table and find the total sale amount region wise, manager wise, sales man wise where Manager = \"Douglas\". \n"
   ]
  },
  {
   "cell_type": "code",
   "execution_count": null,
   "id": "0acbd7e3",
   "metadata": {},
   "outputs": [],
   "source": []
  },
  {
   "cell_type": "markdown",
   "id": "6e5ba418",
   "metadata": {},
   "source": [
    "10. Write a Pandas program to create a Pivot table and find the region wise Television and Home Theater sold. \n"
   ]
  },
  {
   "cell_type": "code",
   "execution_count": null,
   "id": "12cf444e",
   "metadata": {},
   "outputs": [],
   "source": []
  },
  {
   "cell_type": "markdown",
   "id": "dd4834f0",
   "metadata": {},
   "source": [
    "11. Write a Pandas program to create a Pivot table and find the maximum sale value of the items. \n"
   ]
  },
  {
   "cell_type": "code",
   "execution_count": null,
   "id": "5375bb9f",
   "metadata": {},
   "outputs": [],
   "source": []
  },
  {
   "cell_type": "markdown",
   "id": "20583f73",
   "metadata": {},
   "source": [
    "12. Write a Pandas program to create a Pivot table and find the minimum sale value of the items. \n"
   ]
  },
  {
   "cell_type": "code",
   "execution_count": null,
   "id": "dab63d90",
   "metadata": {},
   "outputs": [],
   "source": []
  },
  {
   "cell_type": "code",
   "execution_count": null,
   "id": "d26ef3de",
   "metadata": {},
   "outputs": [],
   "source": []
  },
  {
   "cell_type": "markdown",
   "id": "48e2de35",
   "metadata": {},
   "source": [
    "13.Write a Pandas program to create a Pivot table and find the maximum and minimum sale value of the items. \n"
   ]
  },
  {
   "cell_type": "code",
   "execution_count": null,
   "id": "53958025",
   "metadata": {},
   "outputs": [],
   "source": []
  }
 ],
 "metadata": {
  "kernelspec": {
   "display_name": "Python 3 (ipykernel)",
   "language": "python",
   "name": "python3"
  },
  "language_info": {
   "codemirror_mode": {
    "name": "ipython",
    "version": 3
   },
   "file_extension": ".py",
   "mimetype": "text/x-python",
   "name": "python",
   "nbconvert_exporter": "python",
   "pygments_lexer": "ipython3",
   "version": "3.9.12"
  }
 },
 "nbformat": 4,
 "nbformat_minor": 5
}
