{
 "cells": [
  {
   "cell_type": "code",
   "execution_count": 6,
   "id": "f5aa9de9",
   "metadata": {},
   "outputs": [
    {
     "data": {
      "text/html": [
       "<div>\n",
       "<style scoped>\n",
       "    .dataframe tbody tr th:only-of-type {\n",
       "        vertical-align: middle;\n",
       "    }\n",
       "\n",
       "    .dataframe tbody tr th {\n",
       "        vertical-align: top;\n",
       "    }\n",
       "\n",
       "    .dataframe thead th {\n",
       "        text-align: right;\n",
       "    }\n",
       "</style>\n",
       "<table border=\"1\" class=\"dataframe\">\n",
       "  <thead>\n",
       "    <tr style=\"text-align: right;\">\n",
       "      <th></th>\n",
       "      <th>first Name</th>\n",
       "      <th>last name</th>\n",
       "      <th>type</th>\n",
       "      <th>department</th>\n",
       "      <th>YoE</th>\n",
       "      <th>Salary</th>\n",
       "    </tr>\n",
       "  </thead>\n",
       "  <tbody>\n",
       "    <tr>\n",
       "      <th>0</th>\n",
       "      <td>aryan</td>\n",
       "      <td>singh</td>\n",
       "      <td>full time</td>\n",
       "      <td>administration</td>\n",
       "      <td>2</td>\n",
       "      <td>20000</td>\n",
       "    </tr>\n",
       "    <tr>\n",
       "      <th>1</th>\n",
       "      <td>rohan</td>\n",
       "      <td>agarwal</td>\n",
       "      <td>intern</td>\n",
       "      <td>technical</td>\n",
       "      <td>1</td>\n",
       "      <td>5000</td>\n",
       "    </tr>\n",
       "    <tr>\n",
       "      <th>2</th>\n",
       "      <td>riya</td>\n",
       "      <td>shah</td>\n",
       "      <td>fulltime</td>\n",
       "      <td>administration</td>\n",
       "      <td>5</td>\n",
       "      <td>10000</td>\n",
       "    </tr>\n",
       "    <tr>\n",
       "      <th>3</th>\n",
       "      <td>yash</td>\n",
       "      <td>bhatiya</td>\n",
       "      <td>parttime</td>\n",
       "      <td>technical</td>\n",
       "      <td>3</td>\n",
       "      <td>10000</td>\n",
       "    </tr>\n",
       "    <tr>\n",
       "      <th>4</th>\n",
       "      <td>siddhant</td>\n",
       "      <td>khanna</td>\n",
       "      <td>fulltime</td>\n",
       "      <td>management</td>\n",
       "      <td>6</td>\n",
       "      <td>20000</td>\n",
       "    </tr>\n",
       "  </tbody>\n",
       "</table>\n",
       "</div>"
      ],
      "text/plain": [
       "  first Name last name       type      department  YoE  Salary\n",
       "0      aryan     singh  full time  administration    2   20000\n",
       "1      rohan   agarwal     intern       technical    1    5000\n",
       "2       riya      shah   fulltime  administration    5   10000\n",
       "3       yash   bhatiya   parttime       technical    3   10000\n",
       "4   siddhant    khanna   fulltime      management    6   20000"
      ]
     },
     "execution_count": 6,
     "metadata": {},
     "output_type": "execute_result"
    }
   ],
   "source": [
    "from pandas import DataFrame\n",
    "df=DataFrame(\n",
    "                [\n",
    "                    [\"aryan\",\"singh\",\"full time\",\"administration\",2,20000],\n",
    "                    [\"rohan\",\"agarwal\",\"intern\",\"technical\",1,5000],\n",
    "                    [\"riya\",\"shah\",\"fulltime\",\"administration\",5,10000],\n",
    "                    [\"yash\",\"bhatiya\",\"parttime\",\"technical\",3,10000],\n",
    "                    [\"siddhant\",\"khanna\",\"fulltime\",\"management\",6,20000]\n",
    "                ]\n",
    "                ,columns=[\"first Name\",\"last name\",\"type\",\"department\",\"YoE\",\"Salary\"]\n",
    "            )\n",
    "df"
   ]
  },
  {
   "cell_type": "code",
   "execution_count": null,
   "id": "16a58c9b",
   "metadata": {},
   "outputs": [],
   "source": []
  }
 ],
 "metadata": {
  "kernelspec": {
   "display_name": "Python 3 (ipykernel)",
   "language": "python",
   "name": "python3"
  },
  "language_info": {
   "codemirror_mode": {
    "name": "ipython",
    "version": 3
   },
   "file_extension": ".py",
   "mimetype": "text/x-python",
   "name": "python",
   "nbconvert_exporter": "python",
   "pygments_lexer": "ipython3",
   "version": "3.9.12"
  }
 },
 "nbformat": 4,
 "nbformat_minor": 5
}
