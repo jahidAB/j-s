{
 "cells": [
  {
   "cell_type": "code",
   "execution_count": 416,
   "id": "097cf49e",
   "metadata": {},
   "outputs": [],
   "source": [
    "import numpy as np"
   ]
  },
  {
   "cell_type": "code",
   "execution_count": 417,
   "id": "749b9b78",
   "metadata": {},
   "outputs": [],
   "source": [
    "import pandas as pd"
   ]
  },
  {
   "cell_type": "code",
   "execution_count": 418,
   "id": "6f5138d2",
   "metadata": {},
   "outputs": [],
   "source": [
    "from sklearn.model_selection import train_test_split\n",
    "from sklearn.compose import ColumnTransformer\n",
    "from sklearn.impute import SimpleImputer\n",
    "from sklearn.preprocessing import OneHotEncoder,LabelEncoder\n",
    "from sklearn.preprocessing import MinMaxScaler\n",
    "from sklearn.pipeline import Pipeline,make_pipeline\n",
    "from sklearn.feature_selection import SelectKBest,f_regression\n",
    "from sklearn.tree import DecisionTreeClassifier\n",
    "from sklearn.linear_model import LinearRegression"
   ]
  },
  {
   "cell_type": "code",
   "execution_count": 419,
   "id": "a983f89b",
   "metadata": {},
   "outputs": [],
   "source": [
    "df=pd.read_csv('CreditCard_DV.csv')"
   ]
  },
  {
   "cell_type": "code",
   "execution_count": 420,
   "id": "80d60074",
   "metadata": {},
   "outputs": [
    {
     "data": {
      "text/html": [
       "<div>\n",
       "<style scoped>\n",
       "    .dataframe tbody tr th:only-of-type {\n",
       "        vertical-align: middle;\n",
       "    }\n",
       "\n",
       "    .dataframe tbody tr th {\n",
       "        vertical-align: top;\n",
       "    }\n",
       "\n",
       "    .dataframe thead th {\n",
       "        text-align: right;\n",
       "    }\n",
       "</style>\n",
       "<table border=\"1\" class=\"dataframe\">\n",
       "  <thead>\n",
       "    <tr style=\"text-align: right;\">\n",
       "      <th></th>\n",
       "      <th>CLIENTNUM</th>\n",
       "      <th>Attrition_Flag</th>\n",
       "      <th>Customer_Age</th>\n",
       "      <th>Gender</th>\n",
       "      <th>Dependent_count</th>\n",
       "      <th>Education_Level</th>\n",
       "      <th>Income_Category</th>\n",
       "      <th>Credit_Limit</th>\n",
       "      <th>Total_Revolving_Bal</th>\n",
       "      <th>Avg_Purchase</th>\n",
       "      <th>Total_Trans_Amt</th>\n",
       "    </tr>\n",
       "  </thead>\n",
       "  <tbody>\n",
       "    <tr>\n",
       "      <th>0</th>\n",
       "      <td>768805383</td>\n",
       "      <td>Existing Customer</td>\n",
       "      <td>45</td>\n",
       "      <td>M</td>\n",
       "      <td>3</td>\n",
       "      <td>High School</td>\n",
       "      <td>$60K - $80K</td>\n",
       "      <td>12691.0</td>\n",
       "      <td>777</td>\n",
       "      <td>11914.0</td>\n",
       "      <td>1144</td>\n",
       "    </tr>\n",
       "    <tr>\n",
       "      <th>1</th>\n",
       "      <td>818770008</td>\n",
       "      <td>Existing Customer</td>\n",
       "      <td>49</td>\n",
       "      <td>F</td>\n",
       "      <td>5</td>\n",
       "      <td>Graduate</td>\n",
       "      <td>Less than $40K</td>\n",
       "      <td>8256.0</td>\n",
       "      <td>864</td>\n",
       "      <td>7392.0</td>\n",
       "      <td>1291</td>\n",
       "    </tr>\n",
       "    <tr>\n",
       "      <th>2</th>\n",
       "      <td>713982108</td>\n",
       "      <td>Existing Customer</td>\n",
       "      <td>51</td>\n",
       "      <td>M</td>\n",
       "      <td>3</td>\n",
       "      <td>Graduate</td>\n",
       "      <td>$80K - $120K</td>\n",
       "      <td>3418.0</td>\n",
       "      <td>0</td>\n",
       "      <td>3418.0</td>\n",
       "      <td>1887</td>\n",
       "    </tr>\n",
       "    <tr>\n",
       "      <th>3</th>\n",
       "      <td>769911858</td>\n",
       "      <td>Existing Customer</td>\n",
       "      <td>40</td>\n",
       "      <td>F</td>\n",
       "      <td>4</td>\n",
       "      <td>High School</td>\n",
       "      <td>Less than $40K</td>\n",
       "      <td>3313.0</td>\n",
       "      <td>2517</td>\n",
       "      <td>796.0</td>\n",
       "      <td>1171</td>\n",
       "    </tr>\n",
       "    <tr>\n",
       "      <th>4</th>\n",
       "      <td>709106358</td>\n",
       "      <td>Existing Customer</td>\n",
       "      <td>40</td>\n",
       "      <td>M</td>\n",
       "      <td>3</td>\n",
       "      <td>Uneducated</td>\n",
       "      <td>$60K - $80K</td>\n",
       "      <td>4716.0</td>\n",
       "      <td>0</td>\n",
       "      <td>4716.0</td>\n",
       "      <td>816</td>\n",
       "    </tr>\n",
       "    <tr>\n",
       "      <th>...</th>\n",
       "      <td>...</td>\n",
       "      <td>...</td>\n",
       "      <td>...</td>\n",
       "      <td>...</td>\n",
       "      <td>...</td>\n",
       "      <td>...</td>\n",
       "      <td>...</td>\n",
       "      <td>...</td>\n",
       "      <td>...</td>\n",
       "      <td>...</td>\n",
       "      <td>...</td>\n",
       "    </tr>\n",
       "    <tr>\n",
       "      <th>95</th>\n",
       "      <td>719712633</td>\n",
       "      <td>Existing Customer</td>\n",
       "      <td>64</td>\n",
       "      <td>M</td>\n",
       "      <td>1</td>\n",
       "      <td>Graduate</td>\n",
       "      <td>Less than $40K</td>\n",
       "      <td>1709.0</td>\n",
       "      <td>895</td>\n",
       "      <td>814.0</td>\n",
       "      <td>1673</td>\n",
       "    </tr>\n",
       "    <tr>\n",
       "      <th>96</th>\n",
       "      <td>772629333</td>\n",
       "      <td>Existing Customer</td>\n",
       "      <td>45</td>\n",
       "      <td>M</td>\n",
       "      <td>3</td>\n",
       "      <td>Graduate</td>\n",
       "      <td>$40K - $60K</td>\n",
       "      <td>3454.0</td>\n",
       "      <td>1200</td>\n",
       "      <td>2254.0</td>\n",
       "      <td>1313</td>\n",
       "    </tr>\n",
       "    <tr>\n",
       "      <th>97</th>\n",
       "      <td>720336708</td>\n",
       "      <td>Existing Customer</td>\n",
       "      <td>53</td>\n",
       "      <td>M</td>\n",
       "      <td>3</td>\n",
       "      <td>Doctorate</td>\n",
       "      <td>$40K - $60K</td>\n",
       "      <td>3789.0</td>\n",
       "      <td>1706</td>\n",
       "      <td>2083.0</td>\n",
       "      <td>1609</td>\n",
       "    </tr>\n",
       "    <tr>\n",
       "      <th>98</th>\n",
       "      <td>802013583</td>\n",
       "      <td>Existing Customer</td>\n",
       "      <td>56</td>\n",
       "      <td>M</td>\n",
       "      <td>3</td>\n",
       "      <td>College</td>\n",
       "      <td>$120K +</td>\n",
       "      <td>9689.0</td>\n",
       "      <td>2250</td>\n",
       "      <td>7439.0</td>\n",
       "      <td>1158</td>\n",
       "    </tr>\n",
       "    <tr>\n",
       "      <th>99</th>\n",
       "      <td>711887583</td>\n",
       "      <td>Attrited Customer</td>\n",
       "      <td>47</td>\n",
       "      <td>M</td>\n",
       "      <td>2</td>\n",
       "      <td>Unknown</td>\n",
       "      <td>$80K - $120K</td>\n",
       "      <td>5449.0</td>\n",
       "      <td>1628</td>\n",
       "      <td>3821.0</td>\n",
       "      <td>836</td>\n",
       "    </tr>\n",
       "  </tbody>\n",
       "</table>\n",
       "<p>100 rows × 11 columns</p>\n",
       "</div>"
      ],
      "text/plain": [
       "    CLIENTNUM     Attrition_Flag  Customer_Age Gender  Dependent_count  \\\n",
       "0   768805383  Existing Customer            45      M                3   \n",
       "1   818770008  Existing Customer            49      F                5   \n",
       "2   713982108  Existing Customer            51      M                3   \n",
       "3   769911858  Existing Customer            40      F                4   \n",
       "4   709106358  Existing Customer            40      M                3   \n",
       "..        ...                ...           ...    ...              ...   \n",
       "95  719712633  Existing Customer            64      M                1   \n",
       "96  772629333  Existing Customer            45      M                3   \n",
       "97  720336708  Existing Customer            53      M                3   \n",
       "98  802013583  Existing Customer            56      M                3   \n",
       "99  711887583  Attrited Customer            47      M                2   \n",
       "\n",
       "   Education_Level Income_Category  Credit_Limit  Total_Revolving_Bal  \\\n",
       "0      High School     $60K - $80K       12691.0                  777   \n",
       "1         Graduate  Less than $40K        8256.0                  864   \n",
       "2         Graduate    $80K - $120K        3418.0                    0   \n",
       "3      High School  Less than $40K        3313.0                 2517   \n",
       "4       Uneducated     $60K - $80K        4716.0                    0   \n",
       "..             ...             ...           ...                  ...   \n",
       "95        Graduate  Less than $40K        1709.0                  895   \n",
       "96        Graduate     $40K - $60K        3454.0                 1200   \n",
       "97       Doctorate     $40K - $60K        3789.0                 1706   \n",
       "98         College         $120K +        9689.0                 2250   \n",
       "99         Unknown    $80K - $120K        5449.0                 1628   \n",
       "\n",
       "    Avg_Purchase  Total_Trans_Amt  \n",
       "0        11914.0             1144  \n",
       "1         7392.0             1291  \n",
       "2         3418.0             1887  \n",
       "3          796.0             1171  \n",
       "4         4716.0              816  \n",
       "..           ...              ...  \n",
       "95         814.0             1673  \n",
       "96        2254.0             1313  \n",
       "97        2083.0             1609  \n",
       "98        7439.0             1158  \n",
       "99        3821.0              836  \n",
       "\n",
       "[100 rows x 11 columns]"
      ]
     },
     "execution_count": 420,
     "metadata": {},
     "output_type": "execute_result"
    }
   ],
   "source": [
    "df"
   ]
  },
  {
   "cell_type": "code",
   "execution_count": 421,
   "id": "eb40b046",
   "metadata": {},
   "outputs": [],
   "source": [
    "df.drop(['CLIENTNUM','Attrition_Flag','Income_Category'],axis=1,inplace=True)"
   ]
  },
  {
   "cell_type": "code",
   "execution_count": 422,
   "id": "4c8571cf",
   "metadata": {},
   "outputs": [
    {
     "name": "stdout",
     "output_type": "stream",
     "text": [
      "<class 'pandas.core.frame.DataFrame'>\n",
      "RangeIndex: 100 entries, 0 to 99\n",
      "Data columns (total 8 columns):\n",
      " #   Column               Non-Null Count  Dtype  \n",
      "---  ------               --------------  -----  \n",
      " 0   Customer_Age         100 non-null    int64  \n",
      " 1   Gender               100 non-null    object \n",
      " 2   Dependent_count      100 non-null    int64  \n",
      " 3   Education_Level      100 non-null    object \n",
      " 4   Credit_Limit         100 non-null    float64\n",
      " 5   Total_Revolving_Bal  100 non-null    int64  \n",
      " 6   Avg_Purchase         100 non-null    float64\n",
      " 7   Total_Trans_Amt      100 non-null    int64  \n",
      "dtypes: float64(2), int64(4), object(2)\n",
      "memory usage: 6.4+ KB\n"
     ]
    }
   ],
   "source": [
    "df.info()"
   ]
  },
  {
   "cell_type": "code",
   "execution_count": 423,
   "id": "e7db3175",
   "metadata": {},
   "outputs": [
    {
     "data": {
      "text/html": [
       "<div>\n",
       "<style scoped>\n",
       "    .dataframe tbody tr th:only-of-type {\n",
       "        vertical-align: middle;\n",
       "    }\n",
       "\n",
       "    .dataframe tbody tr th {\n",
       "        vertical-align: top;\n",
       "    }\n",
       "\n",
       "    .dataframe thead th {\n",
       "        text-align: right;\n",
       "    }\n",
       "</style>\n",
       "<table border=\"1\" class=\"dataframe\">\n",
       "  <thead>\n",
       "    <tr style=\"text-align: right;\">\n",
       "      <th></th>\n",
       "      <th>Customer_Age</th>\n",
       "      <th>Gender</th>\n",
       "      <th>Dependent_count</th>\n",
       "      <th>Education_Level</th>\n",
       "      <th>Credit_Limit</th>\n",
       "      <th>Total_Revolving_Bal</th>\n",
       "      <th>Avg_Purchase</th>\n",
       "      <th>Total_Trans_Amt</th>\n",
       "    </tr>\n",
       "  </thead>\n",
       "  <tbody>\n",
       "    <tr>\n",
       "      <th>0</th>\n",
       "      <td>45</td>\n",
       "      <td>M</td>\n",
       "      <td>3</td>\n",
       "      <td>High School</td>\n",
       "      <td>12691.0</td>\n",
       "      <td>777</td>\n",
       "      <td>11914.0</td>\n",
       "      <td>1144</td>\n",
       "    </tr>\n",
       "    <tr>\n",
       "      <th>1</th>\n",
       "      <td>49</td>\n",
       "      <td>F</td>\n",
       "      <td>5</td>\n",
       "      <td>Graduate</td>\n",
       "      <td>8256.0</td>\n",
       "      <td>864</td>\n",
       "      <td>7392.0</td>\n",
       "      <td>1291</td>\n",
       "    </tr>\n",
       "    <tr>\n",
       "      <th>2</th>\n",
       "      <td>51</td>\n",
       "      <td>M</td>\n",
       "      <td>3</td>\n",
       "      <td>Graduate</td>\n",
       "      <td>3418.0</td>\n",
       "      <td>0</td>\n",
       "      <td>3418.0</td>\n",
       "      <td>1887</td>\n",
       "    </tr>\n",
       "    <tr>\n",
       "      <th>3</th>\n",
       "      <td>40</td>\n",
       "      <td>F</td>\n",
       "      <td>4</td>\n",
       "      <td>High School</td>\n",
       "      <td>3313.0</td>\n",
       "      <td>2517</td>\n",
       "      <td>796.0</td>\n",
       "      <td>1171</td>\n",
       "    </tr>\n",
       "    <tr>\n",
       "      <th>4</th>\n",
       "      <td>40</td>\n",
       "      <td>M</td>\n",
       "      <td>3</td>\n",
       "      <td>Uneducated</td>\n",
       "      <td>4716.0</td>\n",
       "      <td>0</td>\n",
       "      <td>4716.0</td>\n",
       "      <td>816</td>\n",
       "    </tr>\n",
       "  </tbody>\n",
       "</table>\n",
       "</div>"
      ],
      "text/plain": [
       "   Customer_Age Gender  Dependent_count Education_Level  Credit_Limit  \\\n",
       "0            45      M                3     High School       12691.0   \n",
       "1            49      F                5        Graduate        8256.0   \n",
       "2            51      M                3        Graduate        3418.0   \n",
       "3            40      F                4     High School        3313.0   \n",
       "4            40      M                3      Uneducated        4716.0   \n",
       "\n",
       "   Total_Revolving_Bal  Avg_Purchase  Total_Trans_Amt  \n",
       "0                  777       11914.0             1144  \n",
       "1                  864        7392.0             1291  \n",
       "2                    0        3418.0             1887  \n",
       "3                 2517         796.0             1171  \n",
       "4                    0        4716.0              816  "
      ]
     },
     "execution_count": 423,
     "metadata": {},
     "output_type": "execute_result"
    }
   ],
   "source": [
    "df.head()"
   ]
  },
  {
   "cell_type": "code",
   "execution_count": 424,
   "id": "b55838b6",
   "metadata": {},
   "outputs": [
    {
     "data": {
      "text/plain": [
       "array(['M', 'F'], dtype=object)"
      ]
     },
     "execution_count": 424,
     "metadata": {},
     "output_type": "execute_result"
    }
   ],
   "source": [
    "x=df.drop(['Total_Trans_Amt','Education_Level'],axis=1)\n",
    "x['Gender'].unique()"
   ]
  },
  {
   "cell_type": "code",
   "execution_count": 425,
   "id": "554dee67",
   "metadata": {},
   "outputs": [],
   "source": [
    "# x=df.iloc[:,0:-1]\n",
    "# x"
   ]
  },
  {
   "cell_type": "code",
   "execution_count": 426,
   "id": "27ec1355",
   "metadata": {},
   "outputs": [
    {
     "data": {
      "text/plain": [
       "0     1144\n",
       "1     1291\n",
       "2     1887\n",
       "3     1171\n",
       "4      816\n",
       "      ... \n",
       "95    1673\n",
       "96    1313\n",
       "97    1609\n",
       "98    1158\n",
       "99     836\n",
       "Name: Total_Trans_Amt, Length: 100, dtype: int64"
      ]
     },
     "execution_count": 426,
     "metadata": {},
     "output_type": "execute_result"
    }
   ],
   "source": [
    "y=df.iloc[:,-1]\n",
    "y"
   ]
  },
  {
   "cell_type": "code",
   "execution_count": 427,
   "id": "5920dee6",
   "metadata": {},
   "outputs": [],
   "source": [
    "x_train,x_test,y_train,y_test = train_test_split(x,y,test_size=0.2,random_state=42)"
   ]
  },
  {
   "cell_type": "code",
   "execution_count": 428,
   "id": "f5450616",
   "metadata": {},
   "outputs": [
    {
     "data": {
      "text/html": [
       "<div>\n",
       "<style scoped>\n",
       "    .dataframe tbody tr th:only-of-type {\n",
       "        vertical-align: middle;\n",
       "    }\n",
       "\n",
       "    .dataframe tbody tr th {\n",
       "        vertical-align: top;\n",
       "    }\n",
       "\n",
       "    .dataframe thead th {\n",
       "        text-align: right;\n",
       "    }\n",
       "</style>\n",
       "<table border=\"1\" class=\"dataframe\">\n",
       "  <thead>\n",
       "    <tr style=\"text-align: right;\">\n",
       "      <th></th>\n",
       "      <th>Customer_Age</th>\n",
       "      <th>Gender</th>\n",
       "      <th>Dependent_count</th>\n",
       "      <th>Credit_Limit</th>\n",
       "      <th>Total_Revolving_Bal</th>\n",
       "      <th>Avg_Purchase</th>\n",
       "    </tr>\n",
       "  </thead>\n",
       "  <tbody>\n",
       "    <tr>\n",
       "      <th>55</th>\n",
       "      <td>49</td>\n",
       "      <td>F</td>\n",
       "      <td>4</td>\n",
       "      <td>3298.0</td>\n",
       "      <td>2200</td>\n",
       "      <td>1098.0</td>\n",
       "    </tr>\n",
       "    <tr>\n",
       "      <th>88</th>\n",
       "      <td>44</td>\n",
       "      <td>M</td>\n",
       "      <td>3</td>\n",
       "      <td>12756.0</td>\n",
       "      <td>837</td>\n",
       "      <td>11919.0</td>\n",
       "    </tr>\n",
       "    <tr>\n",
       "      <th>26</th>\n",
       "      <td>59</td>\n",
       "      <td>M</td>\n",
       "      <td>1</td>\n",
       "      <td>14784.0</td>\n",
       "      <td>1374</td>\n",
       "      <td>13410.0</td>\n",
       "    </tr>\n",
       "    <tr>\n",
       "      <th>42</th>\n",
       "      <td>50</td>\n",
       "      <td>F</td>\n",
       "      <td>1</td>\n",
       "      <td>17304.0</td>\n",
       "      <td>2517</td>\n",
       "      <td>14787.0</td>\n",
       "    </tr>\n",
       "    <tr>\n",
       "      <th>69</th>\n",
       "      <td>50</td>\n",
       "      <td>M</td>\n",
       "      <td>2</td>\n",
       "      <td>25300.0</td>\n",
       "      <td>1330</td>\n",
       "      <td>23970.0</td>\n",
       "    </tr>\n",
       "    <tr>\n",
       "      <th>...</th>\n",
       "      <td>...</td>\n",
       "      <td>...</td>\n",
       "      <td>...</td>\n",
       "      <td>...</td>\n",
       "      <td>...</td>\n",
       "      <td>...</td>\n",
       "    </tr>\n",
       "    <tr>\n",
       "      <th>60</th>\n",
       "      <td>55</td>\n",
       "      <td>M</td>\n",
       "      <td>3</td>\n",
       "      <td>3436.0</td>\n",
       "      <td>2016</td>\n",
       "      <td>1420.0</td>\n",
       "    </tr>\n",
       "    <tr>\n",
       "      <th>71</th>\n",
       "      <td>55</td>\n",
       "      <td>F</td>\n",
       "      <td>2</td>\n",
       "      <td>2216.0</td>\n",
       "      <td>1034</td>\n",
       "      <td>1182.0</td>\n",
       "    </tr>\n",
       "    <tr>\n",
       "      <th>14</th>\n",
       "      <td>57</td>\n",
       "      <td>F</td>\n",
       "      <td>2</td>\n",
       "      <td>2436.0</td>\n",
       "      <td>680</td>\n",
       "      <td>1756.0</td>\n",
       "    </tr>\n",
       "    <tr>\n",
       "      <th>92</th>\n",
       "      <td>45</td>\n",
       "      <td>M</td>\n",
       "      <td>1</td>\n",
       "      <td>6576.0</td>\n",
       "      <td>0</td>\n",
       "      <td>6576.0</td>\n",
       "    </tr>\n",
       "    <tr>\n",
       "      <th>51</th>\n",
       "      <td>54</td>\n",
       "      <td>F</td>\n",
       "      <td>1</td>\n",
       "      <td>1438.3</td>\n",
       "      <td>808</td>\n",
       "      <td>630.3</td>\n",
       "    </tr>\n",
       "  </tbody>\n",
       "</table>\n",
       "<p>80 rows × 6 columns</p>\n",
       "</div>"
      ],
      "text/plain": [
       "    Customer_Age Gender  Dependent_count  Credit_Limit  Total_Revolving_Bal  \\\n",
       "55            49      F                4        3298.0                 2200   \n",
       "88            44      M                3       12756.0                  837   \n",
       "26            59      M                1       14784.0                 1374   \n",
       "42            50      F                1       17304.0                 2517   \n",
       "69            50      M                2       25300.0                 1330   \n",
       "..           ...    ...              ...           ...                  ...   \n",
       "60            55      M                3        3436.0                 2016   \n",
       "71            55      F                2        2216.0                 1034   \n",
       "14            57      F                2        2436.0                  680   \n",
       "92            45      M                1        6576.0                    0   \n",
       "51            54      F                1        1438.3                  808   \n",
       "\n",
       "    Avg_Purchase  \n",
       "55        1098.0  \n",
       "88       11919.0  \n",
       "26       13410.0  \n",
       "42       14787.0  \n",
       "69       23970.0  \n",
       "..           ...  \n",
       "60        1420.0  \n",
       "71        1182.0  \n",
       "14        1756.0  \n",
       "92        6576.0  \n",
       "51         630.3  \n",
       "\n",
       "[80 rows x 6 columns]"
      ]
     },
     "execution_count": 428,
     "metadata": {},
     "output_type": "execute_result"
    }
   ],
   "source": [
    "x_train"
   ]
  },
  {
   "cell_type": "code",
   "execution_count": 429,
   "id": "badb511a",
   "metadata": {},
   "outputs": [
    {
     "data": {
      "text/plain": [
       "55    1052\n",
       "88    1413\n",
       "26    1197\n",
       "42    1756\n",
       "69     837\n",
       "      ... \n",
       "60    1097\n",
       "71    1540\n",
       "14    1570\n",
       "92    1465\n",
       "51     705\n",
       "Name: Total_Trans_Amt, Length: 80, dtype: int64"
      ]
     },
     "execution_count": 429,
     "metadata": {},
     "output_type": "execute_result"
    }
   ],
   "source": [
    "y_train"
   ]
  },
  {
   "cell_type": "code",
   "execution_count": 430,
   "id": "2a3df47a",
   "metadata": {},
   "outputs": [
    {
     "data": {
      "text/html": [
       "<style>#sk-63a245fd-0537-4899-8670-13cefb8ca448 {color: black;background-color: white;}#sk-63a245fd-0537-4899-8670-13cefb8ca448 pre{padding: 0;}#sk-63a245fd-0537-4899-8670-13cefb8ca448 div.sk-toggleable {background-color: white;}#sk-63a245fd-0537-4899-8670-13cefb8ca448 label.sk-toggleable__label {cursor: pointer;display: block;width: 100%;margin-bottom: 0;padding: 0.3em;box-sizing: border-box;text-align: center;}#sk-63a245fd-0537-4899-8670-13cefb8ca448 label.sk-toggleable__label-arrow:before {content: \"▸\";float: left;margin-right: 0.25em;color: #696969;}#sk-63a245fd-0537-4899-8670-13cefb8ca448 label.sk-toggleable__label-arrow:hover:before {color: black;}#sk-63a245fd-0537-4899-8670-13cefb8ca448 div.sk-estimator:hover label.sk-toggleable__label-arrow:before {color: black;}#sk-63a245fd-0537-4899-8670-13cefb8ca448 div.sk-toggleable__content {max-height: 0;max-width: 0;overflow: hidden;text-align: left;background-color: #f0f8ff;}#sk-63a245fd-0537-4899-8670-13cefb8ca448 div.sk-toggleable__content pre {margin: 0.2em;color: black;border-radius: 0.25em;background-color: #f0f8ff;}#sk-63a245fd-0537-4899-8670-13cefb8ca448 input.sk-toggleable__control:checked~div.sk-toggleable__content {max-height: 200px;max-width: 100%;overflow: auto;}#sk-63a245fd-0537-4899-8670-13cefb8ca448 input.sk-toggleable__control:checked~label.sk-toggleable__label-arrow:before {content: \"▾\";}#sk-63a245fd-0537-4899-8670-13cefb8ca448 div.sk-estimator input.sk-toggleable__control:checked~label.sk-toggleable__label {background-color: #d4ebff;}#sk-63a245fd-0537-4899-8670-13cefb8ca448 div.sk-label input.sk-toggleable__control:checked~label.sk-toggleable__label {background-color: #d4ebff;}#sk-63a245fd-0537-4899-8670-13cefb8ca448 input.sk-hidden--visually {border: 0;clip: rect(1px 1px 1px 1px);clip: rect(1px, 1px, 1px, 1px);height: 1px;margin: -1px;overflow: hidden;padding: 0;position: absolute;width: 1px;}#sk-63a245fd-0537-4899-8670-13cefb8ca448 div.sk-estimator {font-family: monospace;background-color: #f0f8ff;border: 1px dotted black;border-radius: 0.25em;box-sizing: border-box;margin-bottom: 0.5em;}#sk-63a245fd-0537-4899-8670-13cefb8ca448 div.sk-estimator:hover {background-color: #d4ebff;}#sk-63a245fd-0537-4899-8670-13cefb8ca448 div.sk-parallel-item::after {content: \"\";width: 100%;border-bottom: 1px solid gray;flex-grow: 1;}#sk-63a245fd-0537-4899-8670-13cefb8ca448 div.sk-label:hover label.sk-toggleable__label {background-color: #d4ebff;}#sk-63a245fd-0537-4899-8670-13cefb8ca448 div.sk-serial::before {content: \"\";position: absolute;border-left: 1px solid gray;box-sizing: border-box;top: 2em;bottom: 0;left: 50%;}#sk-63a245fd-0537-4899-8670-13cefb8ca448 div.sk-serial {display: flex;flex-direction: column;align-items: center;background-color: white;padding-right: 0.2em;padding-left: 0.2em;}#sk-63a245fd-0537-4899-8670-13cefb8ca448 div.sk-item {z-index: 1;}#sk-63a245fd-0537-4899-8670-13cefb8ca448 div.sk-parallel {display: flex;align-items: stretch;justify-content: center;background-color: white;}#sk-63a245fd-0537-4899-8670-13cefb8ca448 div.sk-parallel::before {content: \"\";position: absolute;border-left: 1px solid gray;box-sizing: border-box;top: 2em;bottom: 0;left: 50%;}#sk-63a245fd-0537-4899-8670-13cefb8ca448 div.sk-parallel-item {display: flex;flex-direction: column;position: relative;background-color: white;}#sk-63a245fd-0537-4899-8670-13cefb8ca448 div.sk-parallel-item:first-child::after {align-self: flex-end;width: 50%;}#sk-63a245fd-0537-4899-8670-13cefb8ca448 div.sk-parallel-item:last-child::after {align-self: flex-start;width: 50%;}#sk-63a245fd-0537-4899-8670-13cefb8ca448 div.sk-parallel-item:only-child::after {width: 0;}#sk-63a245fd-0537-4899-8670-13cefb8ca448 div.sk-dashed-wrapped {border: 1px dashed gray;margin: 0 0.4em 0.5em 0.4em;box-sizing: border-box;padding-bottom: 0.4em;background-color: white;position: relative;}#sk-63a245fd-0537-4899-8670-13cefb8ca448 div.sk-label label {font-family: monospace;font-weight: bold;background-color: white;display: inline-block;line-height: 1.2em;}#sk-63a245fd-0537-4899-8670-13cefb8ca448 div.sk-label-container {position: relative;z-index: 2;text-align: center;}#sk-63a245fd-0537-4899-8670-13cefb8ca448 div.sk-container {/* jupyter's `normalize.less` sets `[hidden] { display: none; }` but bootstrap.min.css set `[hidden] { display: none !important; }` so we also need the `!important` here to be able to override the default hidden behavior on the sphinx rendered scikit-learn.org. See: https://github.com/scikit-learn/scikit-learn/issues/21755 */display: inline-block !important;position: relative;}#sk-63a245fd-0537-4899-8670-13cefb8ca448 div.sk-text-repr-fallback {display: none;}</style><div id=\"sk-63a245fd-0537-4899-8670-13cefb8ca448\" class=\"sk-top-container\"><div class=\"sk-text-repr-fallback\"><pre>ColumnTransformer(remainder=&#x27;passthrough&#x27;,\n",
       "                  transformers=[(&#x27;tr1&#x27;,\n",
       "                                 OneHotEncoder(drop=&#x27;first&#x27;, sparse=False),\n",
       "                                 [1])])</pre><b>Please rerun this cell to show the HTML repr or trust the notebook.</b></div><div class=\"sk-container\" hidden><div class=\"sk-item sk-dashed-wrapped\"><div class=\"sk-label-container\"><div class=\"sk-label sk-toggleable\"><input class=\"sk-toggleable__control sk-hidden--visually\" id=\"dfde1c2e-397f-4f8d-8e4e-393de4867b7b\" type=\"checkbox\" ><label for=\"dfde1c2e-397f-4f8d-8e4e-393de4867b7b\" class=\"sk-toggleable__label sk-toggleable__label-arrow\">ColumnTransformer</label><div class=\"sk-toggleable__content\"><pre>ColumnTransformer(remainder=&#x27;passthrough&#x27;,\n",
       "                  transformers=[(&#x27;tr1&#x27;,\n",
       "                                 OneHotEncoder(drop=&#x27;first&#x27;, sparse=False),\n",
       "                                 [1])])</pre></div></div></div><div class=\"sk-parallel\"><div class=\"sk-parallel-item\"><div class=\"sk-item\"><div class=\"sk-label-container\"><div class=\"sk-label sk-toggleable\"><input class=\"sk-toggleable__control sk-hidden--visually\" id=\"cb8011d0-e89e-4862-bf85-1a13ba089db3\" type=\"checkbox\" ><label for=\"cb8011d0-e89e-4862-bf85-1a13ba089db3\" class=\"sk-toggleable__label sk-toggleable__label-arrow\">tr1</label><div class=\"sk-toggleable__content\"><pre>[1]</pre></div></div></div><div class=\"sk-serial\"><div class=\"sk-item\"><div class=\"sk-estimator sk-toggleable\"><input class=\"sk-toggleable__control sk-hidden--visually\" id=\"19e48cd0-f626-44c1-be86-4ec807d5c76a\" type=\"checkbox\" ><label for=\"19e48cd0-f626-44c1-be86-4ec807d5c76a\" class=\"sk-toggleable__label sk-toggleable__label-arrow\">OneHotEncoder</label><div class=\"sk-toggleable__content\"><pre>OneHotEncoder(drop=&#x27;first&#x27;, sparse=False)</pre></div></div></div></div></div></div><div class=\"sk-parallel-item\"><div class=\"sk-item\"><div class=\"sk-label-container\"><div class=\"sk-label sk-toggleable\"><input class=\"sk-toggleable__control sk-hidden--visually\" id=\"0cb8cd40-f910-4386-89fe-0a8f9ce6ec9a\" type=\"checkbox\" ><label for=\"0cb8cd40-f910-4386-89fe-0a8f9ce6ec9a\" class=\"sk-toggleable__label sk-toggleable__label-arrow\">remainder</label><div class=\"sk-toggleable__content\"><pre></pre></div></div></div><div class=\"sk-serial\"><div class=\"sk-item\"><div class=\"sk-estimator sk-toggleable\"><input class=\"sk-toggleable__control sk-hidden--visually\" id=\"71f8d7ee-3172-4ef5-b341-90a516249a53\" type=\"checkbox\" ><label for=\"71f8d7ee-3172-4ef5-b341-90a516249a53\" class=\"sk-toggleable__label sk-toggleable__label-arrow\">passthrough</label><div class=\"sk-toggleable__content\"><pre>passthrough</pre></div></div></div></div></div></div></div></div></div></div>"
      ],
      "text/plain": [
       "ColumnTransformer(remainder='passthrough',\n",
       "                  transformers=[('tr1',\n",
       "                                 OneHotEncoder(drop='first', sparse=False),\n",
       "                                 [1])])"
      ]
     },
     "execution_count": 430,
     "metadata": {},
     "output_type": "execute_result"
    }
   ],
   "source": [
    "trf1=ColumnTransformer([\n",
    "    ('tr1',OneHotEncoder(drop='first', sparse=False),[1])\n",
    "                    ],remainder='passthrough')\n",
    "trf1"
   ]
  },
  {
   "cell_type": "code",
   "execution_count": 431,
   "id": "56b9b639",
   "metadata": {},
   "outputs": [],
   "source": [
    "# trf2=ColumnTransformer([\n",
    "#     ('tr2',LabelEncoder(),[3])\n",
    "#     ],remainder='passthrough')\n",
    "# trf2"
   ]
  },
  {
   "cell_type": "code",
   "execution_count": 432,
   "id": "9a69b1e9",
   "metadata": {},
   "outputs": [
    {
     "data": {
      "text/html": [
       "<style>#sk-d95d14da-e997-438b-9067-50da7c4bada7 {color: black;background-color: white;}#sk-d95d14da-e997-438b-9067-50da7c4bada7 pre{padding: 0;}#sk-d95d14da-e997-438b-9067-50da7c4bada7 div.sk-toggleable {background-color: white;}#sk-d95d14da-e997-438b-9067-50da7c4bada7 label.sk-toggleable__label {cursor: pointer;display: block;width: 100%;margin-bottom: 0;padding: 0.3em;box-sizing: border-box;text-align: center;}#sk-d95d14da-e997-438b-9067-50da7c4bada7 label.sk-toggleable__label-arrow:before {content: \"▸\";float: left;margin-right: 0.25em;color: #696969;}#sk-d95d14da-e997-438b-9067-50da7c4bada7 label.sk-toggleable__label-arrow:hover:before {color: black;}#sk-d95d14da-e997-438b-9067-50da7c4bada7 div.sk-estimator:hover label.sk-toggleable__label-arrow:before {color: black;}#sk-d95d14da-e997-438b-9067-50da7c4bada7 div.sk-toggleable__content {max-height: 0;max-width: 0;overflow: hidden;text-align: left;background-color: #f0f8ff;}#sk-d95d14da-e997-438b-9067-50da7c4bada7 div.sk-toggleable__content pre {margin: 0.2em;color: black;border-radius: 0.25em;background-color: #f0f8ff;}#sk-d95d14da-e997-438b-9067-50da7c4bada7 input.sk-toggleable__control:checked~div.sk-toggleable__content {max-height: 200px;max-width: 100%;overflow: auto;}#sk-d95d14da-e997-438b-9067-50da7c4bada7 input.sk-toggleable__control:checked~label.sk-toggleable__label-arrow:before {content: \"▾\";}#sk-d95d14da-e997-438b-9067-50da7c4bada7 div.sk-estimator input.sk-toggleable__control:checked~label.sk-toggleable__label {background-color: #d4ebff;}#sk-d95d14da-e997-438b-9067-50da7c4bada7 div.sk-label input.sk-toggleable__control:checked~label.sk-toggleable__label {background-color: #d4ebff;}#sk-d95d14da-e997-438b-9067-50da7c4bada7 input.sk-hidden--visually {border: 0;clip: rect(1px 1px 1px 1px);clip: rect(1px, 1px, 1px, 1px);height: 1px;margin: -1px;overflow: hidden;padding: 0;position: absolute;width: 1px;}#sk-d95d14da-e997-438b-9067-50da7c4bada7 div.sk-estimator {font-family: monospace;background-color: #f0f8ff;border: 1px dotted black;border-radius: 0.25em;box-sizing: border-box;margin-bottom: 0.5em;}#sk-d95d14da-e997-438b-9067-50da7c4bada7 div.sk-estimator:hover {background-color: #d4ebff;}#sk-d95d14da-e997-438b-9067-50da7c4bada7 div.sk-parallel-item::after {content: \"\";width: 100%;border-bottom: 1px solid gray;flex-grow: 1;}#sk-d95d14da-e997-438b-9067-50da7c4bada7 div.sk-label:hover label.sk-toggleable__label {background-color: #d4ebff;}#sk-d95d14da-e997-438b-9067-50da7c4bada7 div.sk-serial::before {content: \"\";position: absolute;border-left: 1px solid gray;box-sizing: border-box;top: 2em;bottom: 0;left: 50%;}#sk-d95d14da-e997-438b-9067-50da7c4bada7 div.sk-serial {display: flex;flex-direction: column;align-items: center;background-color: white;padding-right: 0.2em;padding-left: 0.2em;}#sk-d95d14da-e997-438b-9067-50da7c4bada7 div.sk-item {z-index: 1;}#sk-d95d14da-e997-438b-9067-50da7c4bada7 div.sk-parallel {display: flex;align-items: stretch;justify-content: center;background-color: white;}#sk-d95d14da-e997-438b-9067-50da7c4bada7 div.sk-parallel::before {content: \"\";position: absolute;border-left: 1px solid gray;box-sizing: border-box;top: 2em;bottom: 0;left: 50%;}#sk-d95d14da-e997-438b-9067-50da7c4bada7 div.sk-parallel-item {display: flex;flex-direction: column;position: relative;background-color: white;}#sk-d95d14da-e997-438b-9067-50da7c4bada7 div.sk-parallel-item:first-child::after {align-self: flex-end;width: 50%;}#sk-d95d14da-e997-438b-9067-50da7c4bada7 div.sk-parallel-item:last-child::after {align-self: flex-start;width: 50%;}#sk-d95d14da-e997-438b-9067-50da7c4bada7 div.sk-parallel-item:only-child::after {width: 0;}#sk-d95d14da-e997-438b-9067-50da7c4bada7 div.sk-dashed-wrapped {border: 1px dashed gray;margin: 0 0.4em 0.5em 0.4em;box-sizing: border-box;padding-bottom: 0.4em;background-color: white;position: relative;}#sk-d95d14da-e997-438b-9067-50da7c4bada7 div.sk-label label {font-family: monospace;font-weight: bold;background-color: white;display: inline-block;line-height: 1.2em;}#sk-d95d14da-e997-438b-9067-50da7c4bada7 div.sk-label-container {position: relative;z-index: 2;text-align: center;}#sk-d95d14da-e997-438b-9067-50da7c4bada7 div.sk-container {/* jupyter's `normalize.less` sets `[hidden] { display: none; }` but bootstrap.min.css set `[hidden] { display: none !important; }` so we also need the `!important` here to be able to override the default hidden behavior on the sphinx rendered scikit-learn.org. See: https://github.com/scikit-learn/scikit-learn/issues/21755 */display: inline-block !important;position: relative;}#sk-d95d14da-e997-438b-9067-50da7c4bada7 div.sk-text-repr-fallback {display: none;}</style><div id=\"sk-d95d14da-e997-438b-9067-50da7c4bada7\" class=\"sk-top-container\"><div class=\"sk-text-repr-fallback\"><pre>ColumnTransformer(remainder=&#x27;passthrough&#x27;,\n",
       "                  transformers=[(&#x27;tr3&#x27;, MinMaxScaler(), [3, 4, 5])])</pre><b>Please rerun this cell to show the HTML repr or trust the notebook.</b></div><div class=\"sk-container\" hidden><div class=\"sk-item sk-dashed-wrapped\"><div class=\"sk-label-container\"><div class=\"sk-label sk-toggleable\"><input class=\"sk-toggleable__control sk-hidden--visually\" id=\"44df35d7-62a0-41fd-9cc8-99976e8486f4\" type=\"checkbox\" ><label for=\"44df35d7-62a0-41fd-9cc8-99976e8486f4\" class=\"sk-toggleable__label sk-toggleable__label-arrow\">ColumnTransformer</label><div class=\"sk-toggleable__content\"><pre>ColumnTransformer(remainder=&#x27;passthrough&#x27;,\n",
       "                  transformers=[(&#x27;tr3&#x27;, MinMaxScaler(), [3, 4, 5])])</pre></div></div></div><div class=\"sk-parallel\"><div class=\"sk-parallel-item\"><div class=\"sk-item\"><div class=\"sk-label-container\"><div class=\"sk-label sk-toggleable\"><input class=\"sk-toggleable__control sk-hidden--visually\" id=\"31608e4b-c8b3-408e-8830-033139b184af\" type=\"checkbox\" ><label for=\"31608e4b-c8b3-408e-8830-033139b184af\" class=\"sk-toggleable__label sk-toggleable__label-arrow\">tr3</label><div class=\"sk-toggleable__content\"><pre>[3, 4, 5]</pre></div></div></div><div class=\"sk-serial\"><div class=\"sk-item\"><div class=\"sk-estimator sk-toggleable\"><input class=\"sk-toggleable__control sk-hidden--visually\" id=\"68194f26-dafc-49ee-854b-2244e11dcb5b\" type=\"checkbox\" ><label for=\"68194f26-dafc-49ee-854b-2244e11dcb5b\" class=\"sk-toggleable__label sk-toggleable__label-arrow\">MinMaxScaler</label><div class=\"sk-toggleable__content\"><pre>MinMaxScaler()</pre></div></div></div></div></div></div><div class=\"sk-parallel-item\"><div class=\"sk-item\"><div class=\"sk-label-container\"><div class=\"sk-label sk-toggleable\"><input class=\"sk-toggleable__control sk-hidden--visually\" id=\"329ee95b-9ff4-4ee7-a1c5-7e41d1c44139\" type=\"checkbox\" ><label for=\"329ee95b-9ff4-4ee7-a1c5-7e41d1c44139\" class=\"sk-toggleable__label sk-toggleable__label-arrow\">remainder</label><div class=\"sk-toggleable__content\"><pre></pre></div></div></div><div class=\"sk-serial\"><div class=\"sk-item\"><div class=\"sk-estimator sk-toggleable\"><input class=\"sk-toggleable__control sk-hidden--visually\" id=\"cac17128-35b5-4efc-bea2-971066b11c05\" type=\"checkbox\" ><label for=\"cac17128-35b5-4efc-bea2-971066b11c05\" class=\"sk-toggleable__label sk-toggleable__label-arrow\">passthrough</label><div class=\"sk-toggleable__content\"><pre>passthrough</pre></div></div></div></div></div></div></div></div></div></div>"
      ],
      "text/plain": [
       "ColumnTransformer(remainder='passthrough',\n",
       "                  transformers=[('tr3', MinMaxScaler(), [3, 4, 5])])"
      ]
     },
     "execution_count": 432,
     "metadata": {},
     "output_type": "execute_result"
    }
   ],
   "source": [
    "trf3=ColumnTransformer([\n",
    "    ('tr3',MinMaxScaler(),[3,4,5])\n",
    "                       ],remainder='passthrough')\n",
    "trf3"
   ]
  },
  {
   "cell_type": "code",
   "execution_count": 433,
   "id": "ecb8d4d0",
   "metadata": {},
   "outputs": [
    {
     "data": {
      "text/html": [
       "<style>#sk-088d6a97-e886-4a0b-b095-e6114561e986 {color: black;background-color: white;}#sk-088d6a97-e886-4a0b-b095-e6114561e986 pre{padding: 0;}#sk-088d6a97-e886-4a0b-b095-e6114561e986 div.sk-toggleable {background-color: white;}#sk-088d6a97-e886-4a0b-b095-e6114561e986 label.sk-toggleable__label {cursor: pointer;display: block;width: 100%;margin-bottom: 0;padding: 0.3em;box-sizing: border-box;text-align: center;}#sk-088d6a97-e886-4a0b-b095-e6114561e986 label.sk-toggleable__label-arrow:before {content: \"▸\";float: left;margin-right: 0.25em;color: #696969;}#sk-088d6a97-e886-4a0b-b095-e6114561e986 label.sk-toggleable__label-arrow:hover:before {color: black;}#sk-088d6a97-e886-4a0b-b095-e6114561e986 div.sk-estimator:hover label.sk-toggleable__label-arrow:before {color: black;}#sk-088d6a97-e886-4a0b-b095-e6114561e986 div.sk-toggleable__content {max-height: 0;max-width: 0;overflow: hidden;text-align: left;background-color: #f0f8ff;}#sk-088d6a97-e886-4a0b-b095-e6114561e986 div.sk-toggleable__content pre {margin: 0.2em;color: black;border-radius: 0.25em;background-color: #f0f8ff;}#sk-088d6a97-e886-4a0b-b095-e6114561e986 input.sk-toggleable__control:checked~div.sk-toggleable__content {max-height: 200px;max-width: 100%;overflow: auto;}#sk-088d6a97-e886-4a0b-b095-e6114561e986 input.sk-toggleable__control:checked~label.sk-toggleable__label-arrow:before {content: \"▾\";}#sk-088d6a97-e886-4a0b-b095-e6114561e986 div.sk-estimator input.sk-toggleable__control:checked~label.sk-toggleable__label {background-color: #d4ebff;}#sk-088d6a97-e886-4a0b-b095-e6114561e986 div.sk-label input.sk-toggleable__control:checked~label.sk-toggleable__label {background-color: #d4ebff;}#sk-088d6a97-e886-4a0b-b095-e6114561e986 input.sk-hidden--visually {border: 0;clip: rect(1px 1px 1px 1px);clip: rect(1px, 1px, 1px, 1px);height: 1px;margin: -1px;overflow: hidden;padding: 0;position: absolute;width: 1px;}#sk-088d6a97-e886-4a0b-b095-e6114561e986 div.sk-estimator {font-family: monospace;background-color: #f0f8ff;border: 1px dotted black;border-radius: 0.25em;box-sizing: border-box;margin-bottom: 0.5em;}#sk-088d6a97-e886-4a0b-b095-e6114561e986 div.sk-estimator:hover {background-color: #d4ebff;}#sk-088d6a97-e886-4a0b-b095-e6114561e986 div.sk-parallel-item::after {content: \"\";width: 100%;border-bottom: 1px solid gray;flex-grow: 1;}#sk-088d6a97-e886-4a0b-b095-e6114561e986 div.sk-label:hover label.sk-toggleable__label {background-color: #d4ebff;}#sk-088d6a97-e886-4a0b-b095-e6114561e986 div.sk-serial::before {content: \"\";position: absolute;border-left: 1px solid gray;box-sizing: border-box;top: 2em;bottom: 0;left: 50%;}#sk-088d6a97-e886-4a0b-b095-e6114561e986 div.sk-serial {display: flex;flex-direction: column;align-items: center;background-color: white;padding-right: 0.2em;padding-left: 0.2em;}#sk-088d6a97-e886-4a0b-b095-e6114561e986 div.sk-item {z-index: 1;}#sk-088d6a97-e886-4a0b-b095-e6114561e986 div.sk-parallel {display: flex;align-items: stretch;justify-content: center;background-color: white;}#sk-088d6a97-e886-4a0b-b095-e6114561e986 div.sk-parallel::before {content: \"\";position: absolute;border-left: 1px solid gray;box-sizing: border-box;top: 2em;bottom: 0;left: 50%;}#sk-088d6a97-e886-4a0b-b095-e6114561e986 div.sk-parallel-item {display: flex;flex-direction: column;position: relative;background-color: white;}#sk-088d6a97-e886-4a0b-b095-e6114561e986 div.sk-parallel-item:first-child::after {align-self: flex-end;width: 50%;}#sk-088d6a97-e886-4a0b-b095-e6114561e986 div.sk-parallel-item:last-child::after {align-self: flex-start;width: 50%;}#sk-088d6a97-e886-4a0b-b095-e6114561e986 div.sk-parallel-item:only-child::after {width: 0;}#sk-088d6a97-e886-4a0b-b095-e6114561e986 div.sk-dashed-wrapped {border: 1px dashed gray;margin: 0 0.4em 0.5em 0.4em;box-sizing: border-box;padding-bottom: 0.4em;background-color: white;position: relative;}#sk-088d6a97-e886-4a0b-b095-e6114561e986 div.sk-label label {font-family: monospace;font-weight: bold;background-color: white;display: inline-block;line-height: 1.2em;}#sk-088d6a97-e886-4a0b-b095-e6114561e986 div.sk-label-container {position: relative;z-index: 2;text-align: center;}#sk-088d6a97-e886-4a0b-b095-e6114561e986 div.sk-container {/* jupyter's `normalize.less` sets `[hidden] { display: none; }` but bootstrap.min.css set `[hidden] { display: none !important; }` so we also need the `!important` here to be able to override the default hidden behavior on the sphinx rendered scikit-learn.org. See: https://github.com/scikit-learn/scikit-learn/issues/21755 */display: inline-block !important;position: relative;}#sk-088d6a97-e886-4a0b-b095-e6114561e986 div.sk-text-repr-fallback {display: none;}</style><div id=\"sk-088d6a97-e886-4a0b-b095-e6114561e986\" class=\"sk-top-container\"><div class=\"sk-text-repr-fallback\"><pre>SelectKBest(k=5, score_func=&lt;function f_regression at 0x0000022416985160&gt;)</pre><b>Please rerun this cell to show the HTML repr or trust the notebook.</b></div><div class=\"sk-container\" hidden><div class=\"sk-item\"><div class=\"sk-estimator sk-toggleable\"><input class=\"sk-toggleable__control sk-hidden--visually\" id=\"26a1bc83-a0b9-4276-a12b-29410fa26027\" type=\"checkbox\" checked><label for=\"26a1bc83-a0b9-4276-a12b-29410fa26027\" class=\"sk-toggleable__label sk-toggleable__label-arrow\">SelectKBest</label><div class=\"sk-toggleable__content\"><pre>SelectKBest(k=5, score_func=&lt;function f_regression at 0x0000022416985160&gt;)</pre></div></div></div></div></div>"
      ],
      "text/plain": [
       "SelectKBest(k=5, score_func=<function f_regression at 0x0000022416985160>)"
      ]
     },
     "execution_count": 433,
     "metadata": {},
     "output_type": "execute_result"
    }
   ],
   "source": [
    "trf4 = SelectKBest(score_func=f_regression,k=5)\n",
    "trf4"
   ]
  },
  {
   "cell_type": "code",
   "execution_count": 434,
   "id": "96c2ad92",
   "metadata": {},
   "outputs": [
    {
     "data": {
      "text/html": [
       "<style>#sk-ce20b8ee-f4f8-4512-a337-a9d555f47526 {color: black;background-color: white;}#sk-ce20b8ee-f4f8-4512-a337-a9d555f47526 pre{padding: 0;}#sk-ce20b8ee-f4f8-4512-a337-a9d555f47526 div.sk-toggleable {background-color: white;}#sk-ce20b8ee-f4f8-4512-a337-a9d555f47526 label.sk-toggleable__label {cursor: pointer;display: block;width: 100%;margin-bottom: 0;padding: 0.3em;box-sizing: border-box;text-align: center;}#sk-ce20b8ee-f4f8-4512-a337-a9d555f47526 label.sk-toggleable__label-arrow:before {content: \"▸\";float: left;margin-right: 0.25em;color: #696969;}#sk-ce20b8ee-f4f8-4512-a337-a9d555f47526 label.sk-toggleable__label-arrow:hover:before {color: black;}#sk-ce20b8ee-f4f8-4512-a337-a9d555f47526 div.sk-estimator:hover label.sk-toggleable__label-arrow:before {color: black;}#sk-ce20b8ee-f4f8-4512-a337-a9d555f47526 div.sk-toggleable__content {max-height: 0;max-width: 0;overflow: hidden;text-align: left;background-color: #f0f8ff;}#sk-ce20b8ee-f4f8-4512-a337-a9d555f47526 div.sk-toggleable__content pre {margin: 0.2em;color: black;border-radius: 0.25em;background-color: #f0f8ff;}#sk-ce20b8ee-f4f8-4512-a337-a9d555f47526 input.sk-toggleable__control:checked~div.sk-toggleable__content {max-height: 200px;max-width: 100%;overflow: auto;}#sk-ce20b8ee-f4f8-4512-a337-a9d555f47526 input.sk-toggleable__control:checked~label.sk-toggleable__label-arrow:before {content: \"▾\";}#sk-ce20b8ee-f4f8-4512-a337-a9d555f47526 div.sk-estimator input.sk-toggleable__control:checked~label.sk-toggleable__label {background-color: #d4ebff;}#sk-ce20b8ee-f4f8-4512-a337-a9d555f47526 div.sk-label input.sk-toggleable__control:checked~label.sk-toggleable__label {background-color: #d4ebff;}#sk-ce20b8ee-f4f8-4512-a337-a9d555f47526 input.sk-hidden--visually {border: 0;clip: rect(1px 1px 1px 1px);clip: rect(1px, 1px, 1px, 1px);height: 1px;margin: -1px;overflow: hidden;padding: 0;position: absolute;width: 1px;}#sk-ce20b8ee-f4f8-4512-a337-a9d555f47526 div.sk-estimator {font-family: monospace;background-color: #f0f8ff;border: 1px dotted black;border-radius: 0.25em;box-sizing: border-box;margin-bottom: 0.5em;}#sk-ce20b8ee-f4f8-4512-a337-a9d555f47526 div.sk-estimator:hover {background-color: #d4ebff;}#sk-ce20b8ee-f4f8-4512-a337-a9d555f47526 div.sk-parallel-item::after {content: \"\";width: 100%;border-bottom: 1px solid gray;flex-grow: 1;}#sk-ce20b8ee-f4f8-4512-a337-a9d555f47526 div.sk-label:hover label.sk-toggleable__label {background-color: #d4ebff;}#sk-ce20b8ee-f4f8-4512-a337-a9d555f47526 div.sk-serial::before {content: \"\";position: absolute;border-left: 1px solid gray;box-sizing: border-box;top: 2em;bottom: 0;left: 50%;}#sk-ce20b8ee-f4f8-4512-a337-a9d555f47526 div.sk-serial {display: flex;flex-direction: column;align-items: center;background-color: white;padding-right: 0.2em;padding-left: 0.2em;}#sk-ce20b8ee-f4f8-4512-a337-a9d555f47526 div.sk-item {z-index: 1;}#sk-ce20b8ee-f4f8-4512-a337-a9d555f47526 div.sk-parallel {display: flex;align-items: stretch;justify-content: center;background-color: white;}#sk-ce20b8ee-f4f8-4512-a337-a9d555f47526 div.sk-parallel::before {content: \"\";position: absolute;border-left: 1px solid gray;box-sizing: border-box;top: 2em;bottom: 0;left: 50%;}#sk-ce20b8ee-f4f8-4512-a337-a9d555f47526 div.sk-parallel-item {display: flex;flex-direction: column;position: relative;background-color: white;}#sk-ce20b8ee-f4f8-4512-a337-a9d555f47526 div.sk-parallel-item:first-child::after {align-self: flex-end;width: 50%;}#sk-ce20b8ee-f4f8-4512-a337-a9d555f47526 div.sk-parallel-item:last-child::after {align-self: flex-start;width: 50%;}#sk-ce20b8ee-f4f8-4512-a337-a9d555f47526 div.sk-parallel-item:only-child::after {width: 0;}#sk-ce20b8ee-f4f8-4512-a337-a9d555f47526 div.sk-dashed-wrapped {border: 1px dashed gray;margin: 0 0.4em 0.5em 0.4em;box-sizing: border-box;padding-bottom: 0.4em;background-color: white;position: relative;}#sk-ce20b8ee-f4f8-4512-a337-a9d555f47526 div.sk-label label {font-family: monospace;font-weight: bold;background-color: white;display: inline-block;line-height: 1.2em;}#sk-ce20b8ee-f4f8-4512-a337-a9d555f47526 div.sk-label-container {position: relative;z-index: 2;text-align: center;}#sk-ce20b8ee-f4f8-4512-a337-a9d555f47526 div.sk-container {/* jupyter's `normalize.less` sets `[hidden] { display: none; }` but bootstrap.min.css set `[hidden] { display: none !important; }` so we also need the `!important` here to be able to override the default hidden behavior on the sphinx rendered scikit-learn.org. See: https://github.com/scikit-learn/scikit-learn/issues/21755 */display: inline-block !important;position: relative;}#sk-ce20b8ee-f4f8-4512-a337-a9d555f47526 div.sk-text-repr-fallback {display: none;}</style><div id=\"sk-ce20b8ee-f4f8-4512-a337-a9d555f47526\" class=\"sk-top-container\"><div class=\"sk-text-repr-fallback\"><pre>LinearRegression()</pre><b>Please rerun this cell to show the HTML repr or trust the notebook.</b></div><div class=\"sk-container\" hidden><div class=\"sk-item\"><div class=\"sk-estimator sk-toggleable\"><input class=\"sk-toggleable__control sk-hidden--visually\" id=\"d60e4eb7-b854-4938-b3e5-8279beb4804b\" type=\"checkbox\" checked><label for=\"d60e4eb7-b854-4938-b3e5-8279beb4804b\" class=\"sk-toggleable__label sk-toggleable__label-arrow\">LinearRegression</label><div class=\"sk-toggleable__content\"><pre>LinearRegression()</pre></div></div></div></div></div>"
      ],
      "text/plain": [
       "LinearRegression()"
      ]
     },
     "execution_count": 434,
     "metadata": {},
     "output_type": "execute_result"
    }
   ],
   "source": [
    "trf5= LinearRegression()\n",
    "trf5"
   ]
  },
  {
   "cell_type": "code",
   "execution_count": 435,
   "id": "e064b2b3",
   "metadata": {},
   "outputs": [
    {
     "data": {
      "text/html": [
       "<style>#sk-f7c0c40e-70f9-4e15-b97a-68ad526eb6cc {color: black;background-color: white;}#sk-f7c0c40e-70f9-4e15-b97a-68ad526eb6cc pre{padding: 0;}#sk-f7c0c40e-70f9-4e15-b97a-68ad526eb6cc div.sk-toggleable {background-color: white;}#sk-f7c0c40e-70f9-4e15-b97a-68ad526eb6cc label.sk-toggleable__label {cursor: pointer;display: block;width: 100%;margin-bottom: 0;padding: 0.3em;box-sizing: border-box;text-align: center;}#sk-f7c0c40e-70f9-4e15-b97a-68ad526eb6cc label.sk-toggleable__label-arrow:before {content: \"▸\";float: left;margin-right: 0.25em;color: #696969;}#sk-f7c0c40e-70f9-4e15-b97a-68ad526eb6cc label.sk-toggleable__label-arrow:hover:before {color: black;}#sk-f7c0c40e-70f9-4e15-b97a-68ad526eb6cc div.sk-estimator:hover label.sk-toggleable__label-arrow:before {color: black;}#sk-f7c0c40e-70f9-4e15-b97a-68ad526eb6cc div.sk-toggleable__content {max-height: 0;max-width: 0;overflow: hidden;text-align: left;background-color: #f0f8ff;}#sk-f7c0c40e-70f9-4e15-b97a-68ad526eb6cc div.sk-toggleable__content pre {margin: 0.2em;color: black;border-radius: 0.25em;background-color: #f0f8ff;}#sk-f7c0c40e-70f9-4e15-b97a-68ad526eb6cc input.sk-toggleable__control:checked~div.sk-toggleable__content {max-height: 200px;max-width: 100%;overflow: auto;}#sk-f7c0c40e-70f9-4e15-b97a-68ad526eb6cc input.sk-toggleable__control:checked~label.sk-toggleable__label-arrow:before {content: \"▾\";}#sk-f7c0c40e-70f9-4e15-b97a-68ad526eb6cc div.sk-estimator input.sk-toggleable__control:checked~label.sk-toggleable__label {background-color: #d4ebff;}#sk-f7c0c40e-70f9-4e15-b97a-68ad526eb6cc div.sk-label input.sk-toggleable__control:checked~label.sk-toggleable__label {background-color: #d4ebff;}#sk-f7c0c40e-70f9-4e15-b97a-68ad526eb6cc input.sk-hidden--visually {border: 0;clip: rect(1px 1px 1px 1px);clip: rect(1px, 1px, 1px, 1px);height: 1px;margin: -1px;overflow: hidden;padding: 0;position: absolute;width: 1px;}#sk-f7c0c40e-70f9-4e15-b97a-68ad526eb6cc div.sk-estimator {font-family: monospace;background-color: #f0f8ff;border: 1px dotted black;border-radius: 0.25em;box-sizing: border-box;margin-bottom: 0.5em;}#sk-f7c0c40e-70f9-4e15-b97a-68ad526eb6cc div.sk-estimator:hover {background-color: #d4ebff;}#sk-f7c0c40e-70f9-4e15-b97a-68ad526eb6cc div.sk-parallel-item::after {content: \"\";width: 100%;border-bottom: 1px solid gray;flex-grow: 1;}#sk-f7c0c40e-70f9-4e15-b97a-68ad526eb6cc div.sk-label:hover label.sk-toggleable__label {background-color: #d4ebff;}#sk-f7c0c40e-70f9-4e15-b97a-68ad526eb6cc div.sk-serial::before {content: \"\";position: absolute;border-left: 1px solid gray;box-sizing: border-box;top: 2em;bottom: 0;left: 50%;}#sk-f7c0c40e-70f9-4e15-b97a-68ad526eb6cc div.sk-serial {display: flex;flex-direction: column;align-items: center;background-color: white;padding-right: 0.2em;padding-left: 0.2em;}#sk-f7c0c40e-70f9-4e15-b97a-68ad526eb6cc div.sk-item {z-index: 1;}#sk-f7c0c40e-70f9-4e15-b97a-68ad526eb6cc div.sk-parallel {display: flex;align-items: stretch;justify-content: center;background-color: white;}#sk-f7c0c40e-70f9-4e15-b97a-68ad526eb6cc div.sk-parallel::before {content: \"\";position: absolute;border-left: 1px solid gray;box-sizing: border-box;top: 2em;bottom: 0;left: 50%;}#sk-f7c0c40e-70f9-4e15-b97a-68ad526eb6cc div.sk-parallel-item {display: flex;flex-direction: column;position: relative;background-color: white;}#sk-f7c0c40e-70f9-4e15-b97a-68ad526eb6cc div.sk-parallel-item:first-child::after {align-self: flex-end;width: 50%;}#sk-f7c0c40e-70f9-4e15-b97a-68ad526eb6cc div.sk-parallel-item:last-child::after {align-self: flex-start;width: 50%;}#sk-f7c0c40e-70f9-4e15-b97a-68ad526eb6cc div.sk-parallel-item:only-child::after {width: 0;}#sk-f7c0c40e-70f9-4e15-b97a-68ad526eb6cc div.sk-dashed-wrapped {border: 1px dashed gray;margin: 0 0.4em 0.5em 0.4em;box-sizing: border-box;padding-bottom: 0.4em;background-color: white;position: relative;}#sk-f7c0c40e-70f9-4e15-b97a-68ad526eb6cc div.sk-label label {font-family: monospace;font-weight: bold;background-color: white;display: inline-block;line-height: 1.2em;}#sk-f7c0c40e-70f9-4e15-b97a-68ad526eb6cc div.sk-label-container {position: relative;z-index: 2;text-align: center;}#sk-f7c0c40e-70f9-4e15-b97a-68ad526eb6cc div.sk-container {/* jupyter's `normalize.less` sets `[hidden] { display: none; }` but bootstrap.min.css set `[hidden] { display: none !important; }` so we also need the `!important` here to be able to override the default hidden behavior on the sphinx rendered scikit-learn.org. See: https://github.com/scikit-learn/scikit-learn/issues/21755 */display: inline-block !important;position: relative;}#sk-f7c0c40e-70f9-4e15-b97a-68ad526eb6cc div.sk-text-repr-fallback {display: none;}</style><div id=\"sk-f7c0c40e-70f9-4e15-b97a-68ad526eb6cc\" class=\"sk-top-container\"><div class=\"sk-text-repr-fallback\"><pre>Pipeline(steps=[(&#x27;trf1&#x27;,\n",
       "                 ColumnTransformer(remainder=&#x27;passthrough&#x27;,\n",
       "                                   transformers=[(&#x27;tr1&#x27;,\n",
       "                                                  OneHotEncoder(drop=&#x27;first&#x27;,\n",
       "                                                                sparse=False),\n",
       "                                                  [1])])),\n",
       "                (&#x27;trf3&#x27;,\n",
       "                 ColumnTransformer(remainder=&#x27;passthrough&#x27;,\n",
       "                                   transformers=[(&#x27;tr3&#x27;, MinMaxScaler(),\n",
       "                                                  [3, 4, 5])])),\n",
       "                (&#x27;trf4&#x27;,\n",
       "                 SelectKBest(k=5,\n",
       "                             score_func=&lt;function f_regression at 0x0000022416985160&gt;)),\n",
       "                (&#x27;trf5&#x27;, LinearRegression())])</pre><b>Please rerun this cell to show the HTML repr or trust the notebook.</b></div><div class=\"sk-container\" hidden><div class=\"sk-item sk-dashed-wrapped\"><div class=\"sk-label-container\"><div class=\"sk-label sk-toggleable\"><input class=\"sk-toggleable__control sk-hidden--visually\" id=\"9d817c31-31b6-4d0f-ba13-2f37288487a3\" type=\"checkbox\" ><label for=\"9d817c31-31b6-4d0f-ba13-2f37288487a3\" class=\"sk-toggleable__label sk-toggleable__label-arrow\">Pipeline</label><div class=\"sk-toggleable__content\"><pre>Pipeline(steps=[(&#x27;trf1&#x27;,\n",
       "                 ColumnTransformer(remainder=&#x27;passthrough&#x27;,\n",
       "                                   transformers=[(&#x27;tr1&#x27;,\n",
       "                                                  OneHotEncoder(drop=&#x27;first&#x27;,\n",
       "                                                                sparse=False),\n",
       "                                                  [1])])),\n",
       "                (&#x27;trf3&#x27;,\n",
       "                 ColumnTransformer(remainder=&#x27;passthrough&#x27;,\n",
       "                                   transformers=[(&#x27;tr3&#x27;, MinMaxScaler(),\n",
       "                                                  [3, 4, 5])])),\n",
       "                (&#x27;trf4&#x27;,\n",
       "                 SelectKBest(k=5,\n",
       "                             score_func=&lt;function f_regression at 0x0000022416985160&gt;)),\n",
       "                (&#x27;trf5&#x27;, LinearRegression())])</pre></div></div></div><div class=\"sk-serial\"><div class=\"sk-item sk-dashed-wrapped\"><div class=\"sk-label-container\"><div class=\"sk-label sk-toggleable\"><input class=\"sk-toggleable__control sk-hidden--visually\" id=\"406648f6-f4df-4b63-a82c-d0ee7a93d7e4\" type=\"checkbox\" ><label for=\"406648f6-f4df-4b63-a82c-d0ee7a93d7e4\" class=\"sk-toggleable__label sk-toggleable__label-arrow\">trf1: ColumnTransformer</label><div class=\"sk-toggleable__content\"><pre>ColumnTransformer(remainder=&#x27;passthrough&#x27;,\n",
       "                  transformers=[(&#x27;tr1&#x27;,\n",
       "                                 OneHotEncoder(drop=&#x27;first&#x27;, sparse=False),\n",
       "                                 [1])])</pre></div></div></div><div class=\"sk-parallel\"><div class=\"sk-parallel-item\"><div class=\"sk-item\"><div class=\"sk-label-container\"><div class=\"sk-label sk-toggleable\"><input class=\"sk-toggleable__control sk-hidden--visually\" id=\"7b545a02-1764-43a1-a1b6-caa002c4aca5\" type=\"checkbox\" ><label for=\"7b545a02-1764-43a1-a1b6-caa002c4aca5\" class=\"sk-toggleable__label sk-toggleable__label-arrow\">tr1</label><div class=\"sk-toggleable__content\"><pre>[1]</pre></div></div></div><div class=\"sk-serial\"><div class=\"sk-item\"><div class=\"sk-estimator sk-toggleable\"><input class=\"sk-toggleable__control sk-hidden--visually\" id=\"05a33228-d279-4a7e-a5a5-c8dac9a9db4f\" type=\"checkbox\" ><label for=\"05a33228-d279-4a7e-a5a5-c8dac9a9db4f\" class=\"sk-toggleable__label sk-toggleable__label-arrow\">OneHotEncoder</label><div class=\"sk-toggleable__content\"><pre>OneHotEncoder(drop=&#x27;first&#x27;, sparse=False)</pre></div></div></div></div></div></div><div class=\"sk-parallel-item\"><div class=\"sk-item\"><div class=\"sk-label-container\"><div class=\"sk-label sk-toggleable\"><input class=\"sk-toggleable__control sk-hidden--visually\" id=\"51065540-7830-455e-b233-cbe3e987f511\" type=\"checkbox\" ><label for=\"51065540-7830-455e-b233-cbe3e987f511\" class=\"sk-toggleable__label sk-toggleable__label-arrow\">remainder</label><div class=\"sk-toggleable__content\"><pre></pre></div></div></div><div class=\"sk-serial\"><div class=\"sk-item\"><div class=\"sk-estimator sk-toggleable\"><input class=\"sk-toggleable__control sk-hidden--visually\" id=\"9f0fdb13-fa9e-4c8e-93e0-54e4400d959b\" type=\"checkbox\" ><label for=\"9f0fdb13-fa9e-4c8e-93e0-54e4400d959b\" class=\"sk-toggleable__label sk-toggleable__label-arrow\">passthrough</label><div class=\"sk-toggleable__content\"><pre>passthrough</pre></div></div></div></div></div></div></div></div><div class=\"sk-item sk-dashed-wrapped\"><div class=\"sk-label-container\"><div class=\"sk-label sk-toggleable\"><input class=\"sk-toggleable__control sk-hidden--visually\" id=\"dfb77360-660e-440f-a377-6431f1440c6d\" type=\"checkbox\" ><label for=\"dfb77360-660e-440f-a377-6431f1440c6d\" class=\"sk-toggleable__label sk-toggleable__label-arrow\">trf3: ColumnTransformer</label><div class=\"sk-toggleable__content\"><pre>ColumnTransformer(remainder=&#x27;passthrough&#x27;,\n",
       "                  transformers=[(&#x27;tr3&#x27;, MinMaxScaler(), [3, 4, 5])])</pre></div></div></div><div class=\"sk-parallel\"><div class=\"sk-parallel-item\"><div class=\"sk-item\"><div class=\"sk-label-container\"><div class=\"sk-label sk-toggleable\"><input class=\"sk-toggleable__control sk-hidden--visually\" id=\"337e959e-db93-4ea1-82b6-ff7134e129c9\" type=\"checkbox\" ><label for=\"337e959e-db93-4ea1-82b6-ff7134e129c9\" class=\"sk-toggleable__label sk-toggleable__label-arrow\">tr3</label><div class=\"sk-toggleable__content\"><pre>[3, 4, 5]</pre></div></div></div><div class=\"sk-serial\"><div class=\"sk-item\"><div class=\"sk-estimator sk-toggleable\"><input class=\"sk-toggleable__control sk-hidden--visually\" id=\"a70a8070-3999-4fa1-be0d-0b9124730a02\" type=\"checkbox\" ><label for=\"a70a8070-3999-4fa1-be0d-0b9124730a02\" class=\"sk-toggleable__label sk-toggleable__label-arrow\">MinMaxScaler</label><div class=\"sk-toggleable__content\"><pre>MinMaxScaler()</pre></div></div></div></div></div></div><div class=\"sk-parallel-item\"><div class=\"sk-item\"><div class=\"sk-label-container\"><div class=\"sk-label sk-toggleable\"><input class=\"sk-toggleable__control sk-hidden--visually\" id=\"cf5a4258-2aa9-443e-870a-07c29dfe0047\" type=\"checkbox\" ><label for=\"cf5a4258-2aa9-443e-870a-07c29dfe0047\" class=\"sk-toggleable__label sk-toggleable__label-arrow\">remainder</label><div class=\"sk-toggleable__content\"><pre></pre></div></div></div><div class=\"sk-serial\"><div class=\"sk-item\"><div class=\"sk-estimator sk-toggleable\"><input class=\"sk-toggleable__control sk-hidden--visually\" id=\"a32048b9-93f3-4d8e-b43d-59f788002bab\" type=\"checkbox\" ><label for=\"a32048b9-93f3-4d8e-b43d-59f788002bab\" class=\"sk-toggleable__label sk-toggleable__label-arrow\">passthrough</label><div class=\"sk-toggleable__content\"><pre>passthrough</pre></div></div></div></div></div></div></div></div><div class=\"sk-item\"><div class=\"sk-estimator sk-toggleable\"><input class=\"sk-toggleable__control sk-hidden--visually\" id=\"1d18674d-40cb-4b74-99dc-b4ca425e9d46\" type=\"checkbox\" ><label for=\"1d18674d-40cb-4b74-99dc-b4ca425e9d46\" class=\"sk-toggleable__label sk-toggleable__label-arrow\">SelectKBest</label><div class=\"sk-toggleable__content\"><pre>SelectKBest(k=5, score_func=&lt;function f_regression at 0x0000022416985160&gt;)</pre></div></div></div><div class=\"sk-item\"><div class=\"sk-estimator sk-toggleable\"><input class=\"sk-toggleable__control sk-hidden--visually\" id=\"c6cd3f41-624b-403b-b6db-08604ad0ed31\" type=\"checkbox\" ><label for=\"c6cd3f41-624b-403b-b6db-08604ad0ed31\" class=\"sk-toggleable__label sk-toggleable__label-arrow\">LinearRegression</label><div class=\"sk-toggleable__content\"><pre>LinearRegression()</pre></div></div></div></div></div></div></div>"
      ],
      "text/plain": [
       "Pipeline(steps=[('trf1',\n",
       "                 ColumnTransformer(remainder='passthrough',\n",
       "                                   transformers=[('tr1',\n",
       "                                                  OneHotEncoder(drop='first',\n",
       "                                                                sparse=False),\n",
       "                                                  [1])])),\n",
       "                ('trf3',\n",
       "                 ColumnTransformer(remainder='passthrough',\n",
       "                                   transformers=[('tr3', MinMaxScaler(),\n",
       "                                                  [3, 4, 5])])),\n",
       "                ('trf4',\n",
       "                 SelectKBest(k=5,\n",
       "                             score_func=<function f_regression at 0x0000022416985160>)),\n",
       "                ('trf5', LinearRegression())])"
      ]
     },
     "execution_count": 435,
     "metadata": {},
     "output_type": "execute_result"
    }
   ],
   "source": [
    "pipe = Pipeline([\n",
    "    ('trf1',trf1),\n",
    "    #('trf2',trf2),\n",
    "    ('trf3',trf3),\n",
    "    ('trf4',trf4),\n",
    "    ('trf5',trf5)])\n",
    "pipe"
   ]
  },
  {
   "cell_type": "code",
   "execution_count": 436,
   "id": "cd3ce888",
   "metadata": {},
   "outputs": [],
   "source": [
    "from sklearn import set_config\n",
    "set_config(display='diagram')"
   ]
  },
  {
   "cell_type": "code",
   "execution_count": 453,
   "id": "d19e1716",
   "metadata": {},
   "outputs": [
    {
     "data": {
      "text/html": [
       "<style>#sk-40bff23e-d8e1-41b4-9d34-bc7bf80db487 {color: black;background-color: white;}#sk-40bff23e-d8e1-41b4-9d34-bc7bf80db487 pre{padding: 0;}#sk-40bff23e-d8e1-41b4-9d34-bc7bf80db487 div.sk-toggleable {background-color: white;}#sk-40bff23e-d8e1-41b4-9d34-bc7bf80db487 label.sk-toggleable__label {cursor: pointer;display: block;width: 100%;margin-bottom: 0;padding: 0.3em;box-sizing: border-box;text-align: center;}#sk-40bff23e-d8e1-41b4-9d34-bc7bf80db487 label.sk-toggleable__label-arrow:before {content: \"▸\";float: left;margin-right: 0.25em;color: #696969;}#sk-40bff23e-d8e1-41b4-9d34-bc7bf80db487 label.sk-toggleable__label-arrow:hover:before {color: black;}#sk-40bff23e-d8e1-41b4-9d34-bc7bf80db487 div.sk-estimator:hover label.sk-toggleable__label-arrow:before {color: black;}#sk-40bff23e-d8e1-41b4-9d34-bc7bf80db487 div.sk-toggleable__content {max-height: 0;max-width: 0;overflow: hidden;text-align: left;background-color: #f0f8ff;}#sk-40bff23e-d8e1-41b4-9d34-bc7bf80db487 div.sk-toggleable__content pre {margin: 0.2em;color: black;border-radius: 0.25em;background-color: #f0f8ff;}#sk-40bff23e-d8e1-41b4-9d34-bc7bf80db487 input.sk-toggleable__control:checked~div.sk-toggleable__content {max-height: 200px;max-width: 100%;overflow: auto;}#sk-40bff23e-d8e1-41b4-9d34-bc7bf80db487 input.sk-toggleable__control:checked~label.sk-toggleable__label-arrow:before {content: \"▾\";}#sk-40bff23e-d8e1-41b4-9d34-bc7bf80db487 div.sk-estimator input.sk-toggleable__control:checked~label.sk-toggleable__label {background-color: #d4ebff;}#sk-40bff23e-d8e1-41b4-9d34-bc7bf80db487 div.sk-label input.sk-toggleable__control:checked~label.sk-toggleable__label {background-color: #d4ebff;}#sk-40bff23e-d8e1-41b4-9d34-bc7bf80db487 input.sk-hidden--visually {border: 0;clip: rect(1px 1px 1px 1px);clip: rect(1px, 1px, 1px, 1px);height: 1px;margin: -1px;overflow: hidden;padding: 0;position: absolute;width: 1px;}#sk-40bff23e-d8e1-41b4-9d34-bc7bf80db487 div.sk-estimator {font-family: monospace;background-color: #f0f8ff;border: 1px dotted black;border-radius: 0.25em;box-sizing: border-box;margin-bottom: 0.5em;}#sk-40bff23e-d8e1-41b4-9d34-bc7bf80db487 div.sk-estimator:hover {background-color: #d4ebff;}#sk-40bff23e-d8e1-41b4-9d34-bc7bf80db487 div.sk-parallel-item::after {content: \"\";width: 100%;border-bottom: 1px solid gray;flex-grow: 1;}#sk-40bff23e-d8e1-41b4-9d34-bc7bf80db487 div.sk-label:hover label.sk-toggleable__label {background-color: #d4ebff;}#sk-40bff23e-d8e1-41b4-9d34-bc7bf80db487 div.sk-serial::before {content: \"\";position: absolute;border-left: 1px solid gray;box-sizing: border-box;top: 2em;bottom: 0;left: 50%;}#sk-40bff23e-d8e1-41b4-9d34-bc7bf80db487 div.sk-serial {display: flex;flex-direction: column;align-items: center;background-color: white;padding-right: 0.2em;padding-left: 0.2em;}#sk-40bff23e-d8e1-41b4-9d34-bc7bf80db487 div.sk-item {z-index: 1;}#sk-40bff23e-d8e1-41b4-9d34-bc7bf80db487 div.sk-parallel {display: flex;align-items: stretch;justify-content: center;background-color: white;}#sk-40bff23e-d8e1-41b4-9d34-bc7bf80db487 div.sk-parallel::before {content: \"\";position: absolute;border-left: 1px solid gray;box-sizing: border-box;top: 2em;bottom: 0;left: 50%;}#sk-40bff23e-d8e1-41b4-9d34-bc7bf80db487 div.sk-parallel-item {display: flex;flex-direction: column;position: relative;background-color: white;}#sk-40bff23e-d8e1-41b4-9d34-bc7bf80db487 div.sk-parallel-item:first-child::after {align-self: flex-end;width: 50%;}#sk-40bff23e-d8e1-41b4-9d34-bc7bf80db487 div.sk-parallel-item:last-child::after {align-self: flex-start;width: 50%;}#sk-40bff23e-d8e1-41b4-9d34-bc7bf80db487 div.sk-parallel-item:only-child::after {width: 0;}#sk-40bff23e-d8e1-41b4-9d34-bc7bf80db487 div.sk-dashed-wrapped {border: 1px dashed gray;margin: 0 0.4em 0.5em 0.4em;box-sizing: border-box;padding-bottom: 0.4em;background-color: white;position: relative;}#sk-40bff23e-d8e1-41b4-9d34-bc7bf80db487 div.sk-label label {font-family: monospace;font-weight: bold;background-color: white;display: inline-block;line-height: 1.2em;}#sk-40bff23e-d8e1-41b4-9d34-bc7bf80db487 div.sk-label-container {position: relative;z-index: 2;text-align: center;}#sk-40bff23e-d8e1-41b4-9d34-bc7bf80db487 div.sk-container {/* jupyter's `normalize.less` sets `[hidden] { display: none; }` but bootstrap.min.css set `[hidden] { display: none !important; }` so we also need the `!important` here to be able to override the default hidden behavior on the sphinx rendered scikit-learn.org. See: https://github.com/scikit-learn/scikit-learn/issues/21755 */display: inline-block !important;position: relative;}#sk-40bff23e-d8e1-41b4-9d34-bc7bf80db487 div.sk-text-repr-fallback {display: none;}</style><div id=\"sk-40bff23e-d8e1-41b4-9d34-bc7bf80db487\" class=\"sk-top-container\"><div class=\"sk-text-repr-fallback\"><pre>Pipeline(steps=[(&#x27;trf1&#x27;,\n",
       "                 ColumnTransformer(remainder=&#x27;passthrough&#x27;,\n",
       "                                   transformers=[(&#x27;tr1&#x27;,\n",
       "                                                  OneHotEncoder(drop=&#x27;first&#x27;,\n",
       "                                                                sparse=False),\n",
       "                                                  [1])])),\n",
       "                (&#x27;trf3&#x27;,\n",
       "                 ColumnTransformer(remainder=&#x27;passthrough&#x27;,\n",
       "                                   transformers=[(&#x27;tr3&#x27;, MinMaxScaler(),\n",
       "                                                  [3, 4, 5])])),\n",
       "                (&#x27;trf4&#x27;,\n",
       "                 SelectKBest(k=5,\n",
       "                             score_func=&lt;function f_regression at 0x0000022416985160&gt;)),\n",
       "                (&#x27;trf5&#x27;, LinearRegression())])</pre><b>Please rerun this cell to show the HTML repr or trust the notebook.</b></div><div class=\"sk-container\" hidden><div class=\"sk-item sk-dashed-wrapped\"><div class=\"sk-label-container\"><div class=\"sk-label sk-toggleable\"><input class=\"sk-toggleable__control sk-hidden--visually\" id=\"0b327ea0-2ce6-4b4f-a9dd-c15e84b5de71\" type=\"checkbox\" ><label for=\"0b327ea0-2ce6-4b4f-a9dd-c15e84b5de71\" class=\"sk-toggleable__label sk-toggleable__label-arrow\">Pipeline</label><div class=\"sk-toggleable__content\"><pre>Pipeline(steps=[(&#x27;trf1&#x27;,\n",
       "                 ColumnTransformer(remainder=&#x27;passthrough&#x27;,\n",
       "                                   transformers=[(&#x27;tr1&#x27;,\n",
       "                                                  OneHotEncoder(drop=&#x27;first&#x27;,\n",
       "                                                                sparse=False),\n",
       "                                                  [1])])),\n",
       "                (&#x27;trf3&#x27;,\n",
       "                 ColumnTransformer(remainder=&#x27;passthrough&#x27;,\n",
       "                                   transformers=[(&#x27;tr3&#x27;, MinMaxScaler(),\n",
       "                                                  [3, 4, 5])])),\n",
       "                (&#x27;trf4&#x27;,\n",
       "                 SelectKBest(k=5,\n",
       "                             score_func=&lt;function f_regression at 0x0000022416985160&gt;)),\n",
       "                (&#x27;trf5&#x27;, LinearRegression())])</pre></div></div></div><div class=\"sk-serial\"><div class=\"sk-item sk-dashed-wrapped\"><div class=\"sk-label-container\"><div class=\"sk-label sk-toggleable\"><input class=\"sk-toggleable__control sk-hidden--visually\" id=\"086cfdb2-9fdf-436e-ad38-3322cf11573d\" type=\"checkbox\" ><label for=\"086cfdb2-9fdf-436e-ad38-3322cf11573d\" class=\"sk-toggleable__label sk-toggleable__label-arrow\">trf1: ColumnTransformer</label><div class=\"sk-toggleable__content\"><pre>ColumnTransformer(remainder=&#x27;passthrough&#x27;,\n",
       "                  transformers=[(&#x27;tr1&#x27;,\n",
       "                                 OneHotEncoder(drop=&#x27;first&#x27;, sparse=False),\n",
       "                                 [1])])</pre></div></div></div><div class=\"sk-parallel\"><div class=\"sk-parallel-item\"><div class=\"sk-item\"><div class=\"sk-label-container\"><div class=\"sk-label sk-toggleable\"><input class=\"sk-toggleable__control sk-hidden--visually\" id=\"b88bc141-238a-4cd0-8a53-c5298f799267\" type=\"checkbox\" ><label for=\"b88bc141-238a-4cd0-8a53-c5298f799267\" class=\"sk-toggleable__label sk-toggleable__label-arrow\">tr1</label><div class=\"sk-toggleable__content\"><pre>[1]</pre></div></div></div><div class=\"sk-serial\"><div class=\"sk-item\"><div class=\"sk-estimator sk-toggleable\"><input class=\"sk-toggleable__control sk-hidden--visually\" id=\"3fdb7565-899b-4f09-b7d2-29d92fdd29a4\" type=\"checkbox\" ><label for=\"3fdb7565-899b-4f09-b7d2-29d92fdd29a4\" class=\"sk-toggleable__label sk-toggleable__label-arrow\">OneHotEncoder</label><div class=\"sk-toggleable__content\"><pre>OneHotEncoder(drop=&#x27;first&#x27;, sparse=False)</pre></div></div></div></div></div></div><div class=\"sk-parallel-item\"><div class=\"sk-item\"><div class=\"sk-label-container\"><div class=\"sk-label sk-toggleable\"><input class=\"sk-toggleable__control sk-hidden--visually\" id=\"699bded4-d5f9-400b-baee-e30b5dbbc9bf\" type=\"checkbox\" ><label for=\"699bded4-d5f9-400b-baee-e30b5dbbc9bf\" class=\"sk-toggleable__label sk-toggleable__label-arrow\">remainder</label><div class=\"sk-toggleable__content\"><pre>[&#x27;Customer_Age&#x27;, &#x27;Dependent_count&#x27;, &#x27;Credit_Limit&#x27;, &#x27;Total_Revolving_Bal&#x27;, &#x27;Avg_Purchase&#x27;]</pre></div></div></div><div class=\"sk-serial\"><div class=\"sk-item\"><div class=\"sk-estimator sk-toggleable\"><input class=\"sk-toggleable__control sk-hidden--visually\" id=\"f18eb471-05a5-49fa-ae3c-af4468eab1a9\" type=\"checkbox\" ><label for=\"f18eb471-05a5-49fa-ae3c-af4468eab1a9\" class=\"sk-toggleable__label sk-toggleable__label-arrow\">passthrough</label><div class=\"sk-toggleable__content\"><pre>passthrough</pre></div></div></div></div></div></div></div></div><div class=\"sk-item sk-dashed-wrapped\"><div class=\"sk-label-container\"><div class=\"sk-label sk-toggleable\"><input class=\"sk-toggleable__control sk-hidden--visually\" id=\"edfce19f-69c5-40cb-b105-2d8f6f568e3c\" type=\"checkbox\" ><label for=\"edfce19f-69c5-40cb-b105-2d8f6f568e3c\" class=\"sk-toggleable__label sk-toggleable__label-arrow\">trf3: ColumnTransformer</label><div class=\"sk-toggleable__content\"><pre>ColumnTransformer(remainder=&#x27;passthrough&#x27;,\n",
       "                  transformers=[(&#x27;tr3&#x27;, MinMaxScaler(), [3, 4, 5])])</pre></div></div></div><div class=\"sk-parallel\"><div class=\"sk-parallel-item\"><div class=\"sk-item\"><div class=\"sk-label-container\"><div class=\"sk-label sk-toggleable\"><input class=\"sk-toggleable__control sk-hidden--visually\" id=\"0f67ebd5-4a75-45f9-9547-70bb2fe011c5\" type=\"checkbox\" ><label for=\"0f67ebd5-4a75-45f9-9547-70bb2fe011c5\" class=\"sk-toggleable__label sk-toggleable__label-arrow\">tr3</label><div class=\"sk-toggleable__content\"><pre>[3, 4, 5]</pre></div></div></div><div class=\"sk-serial\"><div class=\"sk-item\"><div class=\"sk-estimator sk-toggleable\"><input class=\"sk-toggleable__control sk-hidden--visually\" id=\"86219f69-830e-4b89-b5bd-8a670940db51\" type=\"checkbox\" ><label for=\"86219f69-830e-4b89-b5bd-8a670940db51\" class=\"sk-toggleable__label sk-toggleable__label-arrow\">MinMaxScaler</label><div class=\"sk-toggleable__content\"><pre>MinMaxScaler()</pre></div></div></div></div></div></div><div class=\"sk-parallel-item\"><div class=\"sk-item\"><div class=\"sk-label-container\"><div class=\"sk-label sk-toggleable\"><input class=\"sk-toggleable__control sk-hidden--visually\" id=\"3022f807-08cb-4d14-82fa-5429c7948d38\" type=\"checkbox\" ><label for=\"3022f807-08cb-4d14-82fa-5429c7948d38\" class=\"sk-toggleable__label sk-toggleable__label-arrow\">remainder</label><div class=\"sk-toggleable__content\"><pre>[0, 1, 2]</pre></div></div></div><div class=\"sk-serial\"><div class=\"sk-item\"><div class=\"sk-estimator sk-toggleable\"><input class=\"sk-toggleable__control sk-hidden--visually\" id=\"89bc4edd-9d2f-418b-921d-24a2664b5b99\" type=\"checkbox\" ><label for=\"89bc4edd-9d2f-418b-921d-24a2664b5b99\" class=\"sk-toggleable__label sk-toggleable__label-arrow\">passthrough</label><div class=\"sk-toggleable__content\"><pre>passthrough</pre></div></div></div></div></div></div></div></div><div class=\"sk-item\"><div class=\"sk-estimator sk-toggleable\"><input class=\"sk-toggleable__control sk-hidden--visually\" id=\"4d160f10-8944-4053-8363-136edf0c5370\" type=\"checkbox\" ><label for=\"4d160f10-8944-4053-8363-136edf0c5370\" class=\"sk-toggleable__label sk-toggleable__label-arrow\">SelectKBest</label><div class=\"sk-toggleable__content\"><pre>SelectKBest(k=5, score_func=&lt;function f_regression at 0x0000022416985160&gt;)</pre></div></div></div><div class=\"sk-item\"><div class=\"sk-estimator sk-toggleable\"><input class=\"sk-toggleable__control sk-hidden--visually\" id=\"52eb7f27-a8e6-4d95-b051-56dbb3161431\" type=\"checkbox\" ><label for=\"52eb7f27-a8e6-4d95-b051-56dbb3161431\" class=\"sk-toggleable__label sk-toggleable__label-arrow\">LinearRegression</label><div class=\"sk-toggleable__content\"><pre>LinearRegression()</pre></div></div></div></div></div></div></div>"
      ],
      "text/plain": [
       "Pipeline(steps=[('trf1',\n",
       "                 ColumnTransformer(remainder='passthrough',\n",
       "                                   transformers=[('tr1',\n",
       "                                                  OneHotEncoder(drop='first',\n",
       "                                                                sparse=False),\n",
       "                                                  [1])])),\n",
       "                ('trf3',\n",
       "                 ColumnTransformer(remainder='passthrough',\n",
       "                                   transformers=[('tr3', MinMaxScaler(),\n",
       "                                                  [3, 4, 5])])),\n",
       "                ('trf4',\n",
       "                 SelectKBest(k=5,\n",
       "                             score_func=<function f_regression at 0x0000022416985160>)),\n",
       "                ('trf5', LinearRegression())])"
      ]
     },
     "execution_count": 453,
     "metadata": {},
     "output_type": "execute_result"
    }
   ],
   "source": [
    "pipe.fit(x_train,y_train)"
   ]
  },
  {
   "cell_type": "code",
   "execution_count": 455,
   "id": "6a10eb1c",
   "metadata": {},
   "outputs": [
    {
     "data": {
      "text/html": [
       "<div>\n",
       "<style scoped>\n",
       "    .dataframe tbody tr th:only-of-type {\n",
       "        vertical-align: middle;\n",
       "    }\n",
       "\n",
       "    .dataframe tbody tr th {\n",
       "        vertical-align: top;\n",
       "    }\n",
       "\n",
       "    .dataframe thead th {\n",
       "        text-align: right;\n",
       "    }\n",
       "</style>\n",
       "<table border=\"1\" class=\"dataframe\">\n",
       "  <thead>\n",
       "    <tr style=\"text-align: right;\">\n",
       "      <th></th>\n",
       "      <th>Customer_Age</th>\n",
       "      <th>Gender</th>\n",
       "      <th>Dependent_count</th>\n",
       "      <th>Credit_Limit</th>\n",
       "      <th>Total_Revolving_Bal</th>\n",
       "      <th>Avg_Purchase</th>\n",
       "    </tr>\n",
       "  </thead>\n",
       "  <tbody>\n",
       "    <tr>\n",
       "      <th>83</th>\n",
       "      <td>59</td>\n",
       "      <td>F</td>\n",
       "      <td>1</td>\n",
       "      <td>10133.0</td>\n",
       "      <td>1417</td>\n",
       "      <td>8716.0</td>\n",
       "    </tr>\n",
       "    <tr>\n",
       "      <th>53</th>\n",
       "      <td>49</td>\n",
       "      <td>M</td>\n",
       "      <td>2</td>\n",
       "      <td>19763.0</td>\n",
       "      <td>2517</td>\n",
       "      <td>17246.0</td>\n",
       "    </tr>\n",
       "    <tr>\n",
       "      <th>70</th>\n",
       "      <td>51</td>\n",
       "      <td>M</td>\n",
       "      <td>4</td>\n",
       "      <td>34516.0</td>\n",
       "      <td>1763</td>\n",
       "      <td>32753.0</td>\n",
       "    </tr>\n",
       "    <tr>\n",
       "      <th>45</th>\n",
       "      <td>49</td>\n",
       "      <td>M</td>\n",
       "      <td>4</td>\n",
       "      <td>34516.0</td>\n",
       "      <td>0</td>\n",
       "      <td>34516.0</td>\n",
       "    </tr>\n",
       "    <tr>\n",
       "      <th>44</th>\n",
       "      <td>38</td>\n",
       "      <td>F</td>\n",
       "      <td>4</td>\n",
       "      <td>9830.0</td>\n",
       "      <td>2055</td>\n",
       "      <td>7775.0</td>\n",
       "    </tr>\n",
       "    <tr>\n",
       "      <th>39</th>\n",
       "      <td>66</td>\n",
       "      <td>F</td>\n",
       "      <td>0</td>\n",
       "      <td>7882.0</td>\n",
       "      <td>605</td>\n",
       "      <td>7277.0</td>\n",
       "    </tr>\n",
       "    <tr>\n",
       "      <th>22</th>\n",
       "      <td>41</td>\n",
       "      <td>M</td>\n",
       "      <td>3</td>\n",
       "      <td>4470.0</td>\n",
       "      <td>680</td>\n",
       "      <td>3790.0</td>\n",
       "    </tr>\n",
       "    <tr>\n",
       "      <th>80</th>\n",
       "      <td>47</td>\n",
       "      <td>M</td>\n",
       "      <td>3</td>\n",
       "      <td>8567.0</td>\n",
       "      <td>1695</td>\n",
       "      <td>6872.0</td>\n",
       "    </tr>\n",
       "    <tr>\n",
       "      <th>10</th>\n",
       "      <td>42</td>\n",
       "      <td>M</td>\n",
       "      <td>5</td>\n",
       "      <td>6748.0</td>\n",
       "      <td>1467</td>\n",
       "      <td>5281.0</td>\n",
       "    </tr>\n",
       "    <tr>\n",
       "      <th>0</th>\n",
       "      <td>45</td>\n",
       "      <td>M</td>\n",
       "      <td>3</td>\n",
       "      <td>12691.0</td>\n",
       "      <td>777</td>\n",
       "      <td>11914.0</td>\n",
       "    </tr>\n",
       "    <tr>\n",
       "      <th>18</th>\n",
       "      <td>61</td>\n",
       "      <td>M</td>\n",
       "      <td>1</td>\n",
       "      <td>3193.0</td>\n",
       "      <td>2517</td>\n",
       "      <td>676.0</td>\n",
       "    </tr>\n",
       "    <tr>\n",
       "      <th>30</th>\n",
       "      <td>53</td>\n",
       "      <td>M</td>\n",
       "      <td>3</td>\n",
       "      <td>2753.0</td>\n",
       "      <td>1811</td>\n",
       "      <td>942.0</td>\n",
       "    </tr>\n",
       "    <tr>\n",
       "      <th>73</th>\n",
       "      <td>42</td>\n",
       "      <td>M</td>\n",
       "      <td>5</td>\n",
       "      <td>22913.0</td>\n",
       "      <td>1528</td>\n",
       "      <td>21385.0</td>\n",
       "    </tr>\n",
       "    <tr>\n",
       "      <th>33</th>\n",
       "      <td>53</td>\n",
       "      <td>F</td>\n",
       "      <td>2</td>\n",
       "      <td>2650.0</td>\n",
       "      <td>1490</td>\n",
       "      <td>1160.0</td>\n",
       "    </tr>\n",
       "    <tr>\n",
       "      <th>90</th>\n",
       "      <td>51</td>\n",
       "      <td>F</td>\n",
       "      <td>2</td>\n",
       "      <td>9930.0</td>\n",
       "      <td>0</td>\n",
       "      <td>9930.0</td>\n",
       "    </tr>\n",
       "    <tr>\n",
       "      <th>4</th>\n",
       "      <td>40</td>\n",
       "      <td>M</td>\n",
       "      <td>3</td>\n",
       "      <td>4716.0</td>\n",
       "      <td>0</td>\n",
       "      <td>4716.0</td>\n",
       "    </tr>\n",
       "    <tr>\n",
       "      <th>76</th>\n",
       "      <td>44</td>\n",
       "      <td>F</td>\n",
       "      <td>4</td>\n",
       "      <td>7000.0</td>\n",
       "      <td>2517</td>\n",
       "      <td>4483.0</td>\n",
       "    </tr>\n",
       "    <tr>\n",
       "      <th>77</th>\n",
       "      <td>37</td>\n",
       "      <td>F</td>\n",
       "      <td>3</td>\n",
       "      <td>7038.0</td>\n",
       "      <td>1801</td>\n",
       "      <td>5237.0</td>\n",
       "    </tr>\n",
       "    <tr>\n",
       "      <th>12</th>\n",
       "      <td>56</td>\n",
       "      <td>M</td>\n",
       "      <td>1</td>\n",
       "      <td>11751.0</td>\n",
       "      <td>0</td>\n",
       "      <td>11751.0</td>\n",
       "    </tr>\n",
       "    <tr>\n",
       "      <th>31</th>\n",
       "      <td>53</td>\n",
       "      <td>M</td>\n",
       "      <td>2</td>\n",
       "      <td>2451.0</td>\n",
       "      <td>1690</td>\n",
       "      <td>761.0</td>\n",
       "    </tr>\n",
       "  </tbody>\n",
       "</table>\n",
       "</div>"
      ],
      "text/plain": [
       "    Customer_Age Gender  Dependent_count  Credit_Limit  Total_Revolving_Bal  \\\n",
       "83            59      F                1       10133.0                 1417   \n",
       "53            49      M                2       19763.0                 2517   \n",
       "70            51      M                4       34516.0                 1763   \n",
       "45            49      M                4       34516.0                    0   \n",
       "44            38      F                4        9830.0                 2055   \n",
       "39            66      F                0        7882.0                  605   \n",
       "22            41      M                3        4470.0                  680   \n",
       "80            47      M                3        8567.0                 1695   \n",
       "10            42      M                5        6748.0                 1467   \n",
       "0             45      M                3       12691.0                  777   \n",
       "18            61      M                1        3193.0                 2517   \n",
       "30            53      M                3        2753.0                 1811   \n",
       "73            42      M                5       22913.0                 1528   \n",
       "33            53      F                2        2650.0                 1490   \n",
       "90            51      F                2        9930.0                    0   \n",
       "4             40      M                3        4716.0                    0   \n",
       "76            44      F                4        7000.0                 2517   \n",
       "77            37      F                3        7038.0                 1801   \n",
       "12            56      M                1       11751.0                    0   \n",
       "31            53      M                2        2451.0                 1690   \n",
       "\n",
       "    Avg_Purchase  \n",
       "83        8716.0  \n",
       "53       17246.0  \n",
       "70       32753.0  \n",
       "45       34516.0  \n",
       "44        7775.0  \n",
       "39        7277.0  \n",
       "22        3790.0  \n",
       "80        6872.0  \n",
       "10        5281.0  \n",
       "0        11914.0  \n",
       "18         676.0  \n",
       "30         942.0  \n",
       "73       21385.0  \n",
       "33        1160.0  \n",
       "90        9930.0  \n",
       "4         4716.0  \n",
       "76        4483.0  \n",
       "77        5237.0  \n",
       "12       11751.0  \n",
       "31         761.0  "
      ]
     },
     "execution_count": 455,
     "metadata": {},
     "output_type": "execute_result"
    }
   ],
   "source": [
    "x_test"
   ]
  },
  {
   "cell_type": "code",
   "execution_count": 456,
   "id": "c2de687e",
   "metadata": {},
   "outputs": [
    {
     "data": {
      "text/plain": [
       "83    1068\n",
       "53    1414\n",
       "70    1550\n",
       "45    1444\n",
       "44    1042\n",
       "39     704\n",
       "22     931\n",
       "80    1457\n",
       "10    1201\n",
       "0     1144\n",
       "18    1336\n",
       "30    1038\n",
       "73    1394\n",
       "33    1411\n",
       "90    1276\n",
       "4      816\n",
       "76    1112\n",
       "77    2339\n",
       "12    1539\n",
       "31    1596\n",
       "Name: Total_Trans_Amt, dtype: int64"
      ]
     },
     "execution_count": 456,
     "metadata": {},
     "output_type": "execute_result"
    }
   ],
   "source": [
    "y_test"
   ]
  },
  {
   "cell_type": "code",
   "execution_count": 438,
   "id": "69fb9a11",
   "metadata": {},
   "outputs": [],
   "source": [
    "y_pred = pipe.predict(x_test)"
   ]
  },
  {
   "cell_type": "code",
   "execution_count": 439,
   "id": "7de9dc22",
   "metadata": {},
   "outputs": [
    {
     "data": {
      "text/plain": [
       "array([1358.61470308, 1442.29488098, 1321.6022863 , 1110.4249913 ,\n",
       "       1255.69435639, 1331.70021611, 1208.59935599, 1355.32467619,\n",
       "       1282.67198898, 1228.51903233, 1576.54994818, 1425.57847343,\n",
       "       1250.57885475, 1333.70621721, 1135.47476982, 1124.90465669,\n",
       "       1357.37838687, 1234.59326289, 1238.97835552, 1420.54680367])"
      ]
     },
     "execution_count": 439,
     "metadata": {},
     "output_type": "execute_result"
    }
   ],
   "source": [
    "y_pred"
   ]
  },
  {
   "cell_type": "code",
   "execution_count": null,
   "id": "518519f4",
   "metadata": {},
   "outputs": [],
   "source": []
  },
  {
   "cell_type": "code",
   "execution_count": 447,
   "id": "fbddfac9",
   "metadata": {},
   "outputs": [
    {
     "data": {
      "text/plain": [
       "-0.08064112502950116"
      ]
     },
     "execution_count": 447,
     "metadata": {},
     "output_type": "execute_result"
    }
   ],
   "source": [
    "#from sklearn.metrics import r2_score\n",
    "pipe.score(x_test,y_test)"
   ]
  },
  {
   "cell_type": "code",
   "execution_count": 448,
   "id": "54a6bd6b",
   "metadata": {},
   "outputs": [
    {
     "data": {
      "text/plain": [
       "-0.014506568679346899"
      ]
     },
     "execution_count": 448,
     "metadata": {},
     "output_type": "execute_result"
    }
   ],
   "source": [
    "from sklearn.model_selection import cross_val_score\n",
    "cross_val_score(pipe, x_train, y_train, cv=5, scoring='r2').mean()"
   ]
  },
  {
   "cell_type": "code",
   "execution_count": 449,
   "id": "8e0cae83",
   "metadata": {},
   "outputs": [],
   "source": [
    "import pickle\n",
    "pickle.dump(pipe,open('pipe(credit).pkl','wb'))"
   ]
  },
  {
   "cell_type": "code",
   "execution_count": null,
   "id": "d8bf1219",
   "metadata": {},
   "outputs": [],
   "source": []
  }
 ],
 "metadata": {
  "kernelspec": {
   "display_name": "Python 3 (ipykernel)",
   "language": "python",
   "name": "python3"
  },
  "language_info": {
   "codemirror_mode": {
    "name": "ipython",
    "version": 3
   },
   "file_extension": ".py",
   "mimetype": "text/x-python",
   "name": "python",
   "nbconvert_exporter": "python",
   "pygments_lexer": "ipython3",
   "version": "3.9.12"
  }
 },
 "nbformat": 4,
 "nbformat_minor": 5
}
