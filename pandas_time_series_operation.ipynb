{
 "cells": [
  {
   "cell_type": "markdown",
   "id": "e9519c4b",
   "metadata": {},
   "source": [
    "# time series operation"
   ]
  },
  {
   "cell_type": "markdown",
   "id": "df951bc8",
   "metadata": {},
   "source": [
    "Time series include the date and time for every record and can fetch the records of dataframe. We can find out the data within a certain range of date and time by using pandas module named Time series"
   ]
  },
  {
   "cell_type": "code",
   "execution_count": 41,
   "id": "d49c5299",
   "metadata": {},
   "outputs": [
    {
     "name": "stdout",
     "output_type": "stream",
     "text": [
      "DatetimeIndex(['2022-10-01 00:00:00', '2022-10-01 00:01:00',\n",
      "               '2022-10-01 00:02:00', '2022-10-01 00:03:00',\n",
      "               '2022-10-01 00:04:00', '2022-10-01 00:05:00',\n",
      "               '2022-10-01 00:06:00', '2022-10-01 00:07:00',\n",
      "               '2022-10-01 00:08:00', '2022-10-01 00:09:00',\n",
      "               ...\n",
      "               '2022-10-31 23:51:00', '2022-10-31 23:52:00',\n",
      "               '2022-10-31 23:53:00', '2022-10-31 23:54:00',\n",
      "               '2022-10-31 23:55:00', '2022-10-31 23:56:00',\n",
      "               '2022-10-31 23:57:00', '2022-10-31 23:58:00',\n",
      "               '2022-10-31 23:59:00', '2022-11-01 00:00:00'],\n",
      "              dtype='datetime64[ns]', length=44641, freq='T')\n"
     ]
    }
   ],
   "source": [
    "#frequency in minutes - min\n",
    "import numpy as np\n",
    "import pandas as pd\n",
    "from datetime import datetime\n",
    "time = pd.date_range(start ='10/1/2022', end ='11/1/2022',freq ='min')\n",
    "print(time)"
   ]
  },
  {
   "cell_type": "code",
   "execution_count": 12,
   "id": "75e38a03",
   "metadata": {},
   "outputs": [
    {
     "data": {
      "text/html": [
       "<div>\n",
       "<style scoped>\n",
       "    .dataframe tbody tr th:only-of-type {\n",
       "        vertical-align: middle;\n",
       "    }\n",
       "\n",
       "    .dataframe tbody tr th {\n",
       "        vertical-align: top;\n",
       "    }\n",
       "\n",
       "    .dataframe thead th {\n",
       "        text-align: right;\n",
       "    }\n",
       "</style>\n",
       "<table border=\"1\" class=\"dataframe\">\n",
       "  <thead>\n",
       "    <tr style=\"text-align: right;\">\n",
       "      <th></th>\n",
       "      <th>DateTime</th>\n",
       "    </tr>\n",
       "  </thead>\n",
       "  <tbody>\n",
       "    <tr>\n",
       "      <th>0</th>\n",
       "      <td>2022-10-01 00:00:00</td>\n",
       "    </tr>\n",
       "    <tr>\n",
       "      <th>1</th>\n",
       "      <td>2022-10-01 00:01:00</td>\n",
       "    </tr>\n",
       "    <tr>\n",
       "      <th>2</th>\n",
       "      <td>2022-10-01 00:02:00</td>\n",
       "    </tr>\n",
       "    <tr>\n",
       "      <th>3</th>\n",
       "      <td>2022-10-01 00:03:00</td>\n",
       "    </tr>\n",
       "    <tr>\n",
       "      <th>4</th>\n",
       "      <td>2022-10-01 00:04:00</td>\n",
       "    </tr>\n",
       "    <tr>\n",
       "      <th>...</th>\n",
       "      <td>...</td>\n",
       "    </tr>\n",
       "    <tr>\n",
       "      <th>44636</th>\n",
       "      <td>2022-10-31 23:56:00</td>\n",
       "    </tr>\n",
       "    <tr>\n",
       "      <th>44637</th>\n",
       "      <td>2022-10-31 23:57:00</td>\n",
       "    </tr>\n",
       "    <tr>\n",
       "      <th>44638</th>\n",
       "      <td>2022-10-31 23:58:00</td>\n",
       "    </tr>\n",
       "    <tr>\n",
       "      <th>44639</th>\n",
       "      <td>2022-10-31 23:59:00</td>\n",
       "    </tr>\n",
       "    <tr>\n",
       "      <th>44640</th>\n",
       "      <td>2022-11-01 00:00:00</td>\n",
       "    </tr>\n",
       "  </tbody>\n",
       "</table>\n",
       "<p>44641 rows × 1 columns</p>\n",
       "</div>"
      ],
      "text/plain": [
       "                 DateTime\n",
       "0     2022-10-01 00:00:00\n",
       "1     2022-10-01 00:01:00\n",
       "2     2022-10-01 00:02:00\n",
       "3     2022-10-01 00:03:00\n",
       "4     2022-10-01 00:04:00\n",
       "...                   ...\n",
       "44636 2022-10-31 23:56:00\n",
       "44637 2022-10-31 23:57:00\n",
       "44638 2022-10-31 23:58:00\n",
       "44639 2022-10-31 23:59:00\n",
       "44640 2022-11-01 00:00:00\n",
       "\n",
       "[44641 rows x 1 columns]"
      ]
     },
     "execution_count": 12,
     "metadata": {},
     "output_type": "execute_result"
    }
   ],
   "source": [
    "import numpy as np\n",
    "import pandas as pd\n",
    "from datetime import datetime\n",
    "time = pd.date_range(start ='10/1/2022', end ='11/1/2022',freq ='Min')\n",
    "df = pd.DataFrame(time, columns=['DateTime'])\n",
    "df"
   ]
  },
  {
   "cell_type": "code",
   "execution_count": 39,
   "id": "72f742e9",
   "metadata": {},
   "outputs": [
    {
     "data": {
      "text/html": [
       "<div>\n",
       "<style scoped>\n",
       "    .dataframe tbody tr th:only-of-type {\n",
       "        vertical-align: middle;\n",
       "    }\n",
       "\n",
       "    .dataframe tbody tr th {\n",
       "        vertical-align: top;\n",
       "    }\n",
       "\n",
       "    .dataframe thead th {\n",
       "        text-align: right;\n",
       "    }\n",
       "</style>\n",
       "<table border=\"1\" class=\"dataframe\">\n",
       "  <thead>\n",
       "    <tr style=\"text-align: right;\">\n",
       "      <th></th>\n",
       "      <th>DateTime</th>\n",
       "      <th>DATA</th>\n",
       "    </tr>\n",
       "  </thead>\n",
       "  <tbody>\n",
       "    <tr>\n",
       "      <th>0</th>\n",
       "      <td>2022-10-01 00:00:00</td>\n",
       "      <td>94</td>\n",
       "    </tr>\n",
       "    <tr>\n",
       "      <th>1</th>\n",
       "      <td>2022-10-01 00:01:00</td>\n",
       "      <td>26</td>\n",
       "    </tr>\n",
       "    <tr>\n",
       "      <th>2</th>\n",
       "      <td>2022-10-01 00:02:00</td>\n",
       "      <td>36</td>\n",
       "    </tr>\n",
       "    <tr>\n",
       "      <th>3</th>\n",
       "      <td>2022-10-01 00:03:00</td>\n",
       "      <td>51</td>\n",
       "    </tr>\n",
       "    <tr>\n",
       "      <th>4</th>\n",
       "      <td>2022-10-01 00:04:00</td>\n",
       "      <td>58</td>\n",
       "    </tr>\n",
       "  </tbody>\n",
       "</table>\n",
       "</div>"
      ],
      "text/plain": [
       "             DateTime  DATA\n",
       "0 2022-10-01 00:00:00    94\n",
       "1 2022-10-01 00:01:00    26\n",
       "2 2022-10-01 00:02:00    36\n",
       "3 2022-10-01 00:03:00    51\n",
       "4 2022-10-01 00:04:00    58"
      ]
     },
     "execution_count": 39,
     "metadata": {},
     "output_type": "execute_result"
    }
   ],
   "source": [
    "import numpy as np\n",
    "import pandas as pd\n",
    "from datetime import datetime\n",
    "time = pd.date_range(start ='10/1/2022', end ='11/1/2022',freq ='Min')\n",
    "df = pd.DataFrame(time, columns=['DateTime'])\n",
    "df['DATA'] = np.random.randint(0,100,size=(len(time)))\n",
    "#print(df)\n",
    "df.head()\n",
    "#df.head(20)"
   ]
  },
  {
   "cell_type": "code",
   "execution_count": 38,
   "id": "f1d71e9d",
   "metadata": {},
   "outputs": [
    {
     "name": "stdout",
     "output_type": "stream",
     "text": [
      "DatetimeIndex(['2022-10-01 00:00:00', '2022-10-01 01:00:00',\n",
      "               '2022-10-01 02:00:00', '2022-10-01 03:00:00',\n",
      "               '2022-10-01 04:00:00', '2022-10-01 05:00:00',\n",
      "               '2022-10-01 06:00:00', '2022-10-01 07:00:00',\n",
      "               '2022-10-01 08:00:00', '2022-10-01 09:00:00',\n",
      "               ...\n",
      "               '2022-10-31 15:00:00', '2022-10-31 16:00:00',\n",
      "               '2022-10-31 17:00:00', '2022-10-31 18:00:00',\n",
      "               '2022-10-31 19:00:00', '2022-10-31 20:00:00',\n",
      "               '2022-10-31 21:00:00', '2022-10-31 22:00:00',\n",
      "               '2022-10-31 23:00:00', '2022-11-01 00:00:00'],\n",
      "              dtype='datetime64[ns]', length=745, freq='H')\n"
     ]
    }
   ],
   "source": [
    "#frequency in hours - H\n",
    "import numpy as np\n",
    "import pandas as pd\n",
    "from datetime import datetime\n",
    "time = pd.date_range(start ='10/1/2022', end ='11/1/2022',freq ='H')\n",
    "print(time)"
   ]
  },
  {
   "cell_type": "code",
   "execution_count": 36,
   "id": "b6c47ad7",
   "metadata": {},
   "outputs": [
    {
     "name": "stdout",
     "output_type": "stream",
     "text": [
      "DatetimeIndex(['2022-10-01', '2022-10-02', '2022-10-03', '2022-10-04',\n",
      "               '2022-10-05', '2022-10-06', '2022-10-07', '2022-10-08',\n",
      "               '2022-10-09', '2022-10-10', '2022-10-11', '2022-10-12',\n",
      "               '2022-10-13', '2022-10-14', '2022-10-15', '2022-10-16',\n",
      "               '2022-10-17', '2022-10-18', '2022-10-19', '2022-10-20',\n",
      "               '2022-10-21', '2022-10-22', '2022-10-23', '2022-10-24',\n",
      "               '2022-10-25', '2022-10-26', '2022-10-27', '2022-10-28',\n",
      "               '2022-10-29', '2022-10-30', '2022-10-31', '2022-11-01'],\n",
      "              dtype='datetime64[ns]', freq='D')\n"
     ]
    }
   ],
   "source": [
    "#frequency in days - D\n",
    "import numpy as np\n",
    "import pandas as pd\n",
    "from datetime import datetime\n",
    "time = pd.date_range(start ='10/1/2022', end ='11/1/2022',freq ='D')\n",
    "print(time)"
   ]
  },
  {
   "cell_type": "code",
   "execution_count": 34,
   "id": "5ee30c31",
   "metadata": {},
   "outputs": [
    {
     "name": "stdout",
     "output_type": "stream",
     "text": [
      "DatetimeIndex(['2022-01-31', '2022-02-28', '2022-03-31', '2022-04-30',\n",
      "               '2022-05-31', '2022-06-30', '2022-07-31', '2022-08-31',\n",
      "               '2022-09-30', '2022-10-31', '2022-11-30'],\n",
      "              dtype='datetime64[ns]', freq='M')\n"
     ]
    }
   ],
   "source": [
    "#frequency in months - M\n",
    "import numpy as np\n",
    "import pandas as pd\n",
    "from datetime import datetime\n",
    "time = pd.date_range(start ='1/1/2022', end ='12/1/2022',freq ='M')\n",
    "print(time)"
   ]
  },
  {
   "cell_type": "code",
   "execution_count": 35,
   "id": "213f55c6",
   "metadata": {},
   "outputs": [
    {
     "name": "stdout",
     "output_type": "stream",
     "text": [
      "DatetimeIndex(['2022-10-01 00:00:00', '2022-10-01 00:00:01',\n",
      "               '2022-10-01 00:00:02', '2022-10-01 00:00:03',\n",
      "               '2022-10-01 00:00:04', '2022-10-01 00:00:05',\n",
      "               '2022-10-01 00:00:06', '2022-10-01 00:00:07',\n",
      "               '2022-10-01 00:00:08', '2022-10-01 00:00:09',\n",
      "               ...\n",
      "               '2022-10-01 23:59:51', '2022-10-01 23:59:52',\n",
      "               '2022-10-01 23:59:53', '2022-10-01 23:59:54',\n",
      "               '2022-10-01 23:59:55', '2022-10-01 23:59:56',\n",
      "               '2022-10-01 23:59:57', '2022-10-01 23:59:58',\n",
      "               '2022-10-01 23:59:59', '2022-10-02 00:00:00'],\n",
      "              dtype='datetime64[ns]', length=86401, freq='S')\n"
     ]
    }
   ],
   "source": [
    "#frequency in seconds - S\n",
    "import numpy as np\n",
    "import pandas as pd\n",
    "from datetime import datetime\n",
    "time = pd.date_range(start ='10/1/2022', end ='10/2/2022',freq ='S')\n",
    "print(time)"
   ]
  },
  {
   "cell_type": "code",
   "execution_count": 43,
   "id": "378e7480",
   "metadata": {},
   "outputs": [
    {
     "name": "stdout",
     "output_type": "stream",
     "text": [
      "DatetimeIndex(['2022-10-02', '2022-10-09', '2022-10-16', '2022-10-23',\n",
      "               '2022-10-30'],\n",
      "              dtype='datetime64[ns]', freq='W-SUN')\n"
     ]
    }
   ],
   "source": [
    "#frequency in weeks - w\n",
    "import numpy as np\n",
    "import pandas as pd\n",
    "from datetime import datetime\n",
    "time = pd.date_range(start ='10/1/2022', end ='11/1/2022',freq ='W')\n",
    "print(time)"
   ]
  },
  {
   "cell_type": "code",
   "execution_count": null,
   "id": "d262f71d",
   "metadata": {},
   "outputs": [],
   "source": []
  }
 ],
 "metadata": {
  "kernelspec": {
   "display_name": "Python 3 (ipykernel)",
   "language": "python",
   "name": "python3"
  },
  "language_info": {
   "codemirror_mode": {
    "name": "ipython",
    "version": 3
   },
   "file_extension": ".py",
   "mimetype": "text/x-python",
   "name": "python",
   "nbconvert_exporter": "python",
   "pygments_lexer": "ipython3",
   "version": "3.9.12"
  }
 },
 "nbformat": 4,
 "nbformat_minor": 5
}
